{
 "cells": [
  {
   "cell_type": "code",
   "execution_count": 1,
   "metadata": {
    "collapsed": true
   },
   "outputs": [],
   "source": [
    "import numpy.random\n",
    "import pandas as pd\n",
    "import sqlite3\n",
    "import seaborn as sns\n",
    "from matplotlib import pyplot as plt\n",
    "import numpy as np\n",
    "from sklearn.metrics.pairwise import haversine_distances\n",
    "from math import radians"
   ]
  },
  {
   "cell_type": "code",
   "execution_count": 2,
   "outputs": [],
   "source": [
    "\"\"\"\n",
    "Run parameters box.\n",
    "\n",
    "The parameters defined in this section control some parts of the code:\n",
    "\n",
    "@:param use_preComputed_hp - Indicator of whether or not use pre-found hyper-parameters for the prediction model. When set to 'False', Bayesian optimization will be performed.\n",
    "\"\"\"\n",
    "use_preComputed_hp = True  # whether or not to use the pre-found hyper-parameters for the model.\n",
    "\n",
    "\"\"\"\n",
    "Data files paths.\n",
    "\n",
    "@:param  fires_train_path: path to fires train data.\n",
    "@:param fires_test_path: path to fires test data.\n",
    "@:param units_data_path: path to units data.\n",
    "\n",
    "If 'fires_train_path' is set to None - the code will load the original data provided for the project ('FPA_FOD_20170508.sqlite') and split it automatically.\n",
    "\"\"\"\n",
    "fires_train_path = None\n",
    "fires_test_path = None\n",
    "units_data_path = None\n",
    "\n",
    "\"\"\"\n",
    "Prediction save indicators.\n",
    "\n",
    "@:param save_test_prediction - saves the model's test prediction as a pandas Series, in a .pkl format.\n",
    "@:param save_train_prediction - saves the model's train prediction as a pandas Series, in a .pkl format.\n",
    "\n",
    "important note - the prediction values are the same values as in the 'STAT_CAUSE_DESCR'.\n",
    "\"\"\"\n",
    "save_test_prediction = False\n",
    "save_train_prediction = False"
   ],
   "metadata": {
    "collapsed": false,
    "pycharm": {
     "name": "#%%\n"
    }
   }
  },
  {
   "cell_type": "code",
   "execution_count": 3,
   "outputs": [],
   "source": [
    "def read_data(data_path: str) -> callable:\n",
    "    \"\"\"\n",
    "    This function handles the reading of a single data file.\n",
    "    \"\"\"\n",
    "    if data_path[-4: ] == '.csv':\n",
    "        return pd.read_csv(data_path, index_col=None)\n",
    "\n",
    "    raise ValueError(f\"invalid input: {data_path}, input tables can be .csv only\")"
   ],
   "metadata": {
    "collapsed": false,
    "pycharm": {
     "name": "#%%\n"
    }
   }
  },
  {
   "cell_type": "markdown",
   "source": [
    "### Loading the data ###\n",
    "***\n",
    "In this section, we load the data, stored in 2 different tables: \"fires\" and \"NWCG_UnitIDActive_20170109\".\n",
    "\n",
    "The goal here is to integrate information regarding the reporting units into the fires data."
   ],
   "metadata": {
    "collapsed": false,
    "pycharm": {
     "name": "#%% md\n"
    }
   }
  },
  {
   "cell_type": "code",
   "execution_count": 4,
   "outputs": [],
   "source": [
    "if fires_train_path is None:\n",
    "    conn = sqlite3.connect('FPA_FOD_20170508.sqlite')\n",
    "    fires_df = pd.read_sql_query(\"SELECT * from Fires \", conn)  # fires table\n",
    "    units_df = pd.read_sql_query(\"SELECT * from NWCG_UnitIDActive_20170109 \", conn)  # units table\n",
    "else:\n",
    "    fires_train_df = read_data(fires_train_path)\n",
    "    fires_test_df = read_data(fires_test_path)\n",
    "    units_df = read_data(units_data_path)\n",
    "\n",
    "    fires_df = pd.concat([fires_train_df, fires_test_df])\n",
    "\n",
    "parks_data = pd.read_csv('states_parks.csv')"
   ],
   "metadata": {
    "collapsed": false,
    "pycharm": {
     "name": "#%%\n"
    }
   }
  },
  {
   "cell_type": "code",
   "execution_count": 5,
   "outputs": [
    {
     "data": {
      "text/plain": "   OBJECTID     FOD_ID                 FPA_ID SOURCE_SYSTEM_TYPE  \\\n0    463445     497959  SFO-ID0043_3101998026             NONFED   \n1   1464479  201104109               W-626311                FED   \n2   1591094  201608816      SFO-NE-2012-16029             NONFED   \n3    944726    1072277          SWRA_VA_11300             NONFED   \n4    896277    1022153          SWRA_LA_24392             NONFED   \n\n  SOURCE_SYSTEM NWCG_REPORTING_AGENCY NWCG_REPORTING_UNIT_ID  \\\n0       ST-NASF                ST/C&L                USIDIDS   \n1      DOI-WFMI                   BIA                USMTFBA   \n2       ST-NASF                ST/C&L                USNENES   \n3      ST-VAVAS                ST/C&L                USVAVAS   \n4      ST-LALAS                ST/C&L                USLALAS   \n\n          NWCG_REPORTING_UNIT_NAME SOURCE_REPORTING_UNIT  \\\n0        Idaho Department of Lands                 ID310   \n1              Fort Belknap Agency                 MTFBA   \n2  Nebraska Department of Forestry                 NENFS   \n3  Virginia Department of Forestry                VAVAS3   \n4     Louisiana Office of Forestry                LALAS1   \n\n  SOURCE_REPORTING_UNIT_NAME  ... FIRE_SIZE_CLASS   LATITUDE   LONGITUDE  \\\n0           IDS District 310  ...               B  47.600845 -116.306789   \n1        Fort Belknap Agency  ...               A  48.403300 -108.289600   \n2    Nebraska Forest Service  ...               B  40.668460  -99.089130   \n3         Farmville District  ...               B  39.000000  -78.269200   \n4             LAS District 1  ...               B  30.993300  -89.863900   \n\n  OWNER_CODE            OWNER_DESCR STATE    COUNTY FIPS_CODE FIPS_NAME  \\\n0       14.0  MISSING/NOT SPECIFIED    ID  Kootenai       055  Kootenai   \n1        8.0                PRIVATE    MT      None      None      None   \n2       14.0  MISSING/NOT SPECIFIED    NE      None      None      None   \n3       14.0  MISSING/NOT SPECIFIED    VA      None      None      None   \n4       14.0  MISSING/NOT SPECIFIED    LA      None      None      None   \n\n                                               Shape  \n0  b'\\x00\\x01\\xad\\x10\\x00\\x00pqTn\\xa2\\x13]\\xc0\\x9...  \n1  b'\\x00\\x01\\xad\\x10\\x00\\x00\\xf8:p\\xce\\x88\\x12[\\...  \n2  b'\\x00\\x01\\xad\\x10\\x00\\x00\\xe8\\xc5PN\\xb4\\xc5X\\...  \n3  b'\\x00\\x01\\xad\\x10\\x00\\x00P\\x05\\xa3\\x92:\\x91S\\...  \n4  b'\\x00\\x01\\xad\\x10\\x00\\x00\\xe8\\xc09#JwV\\xc0\\xf...  \n\n[5 rows x 39 columns]",
      "text/html": "<div>\n<style scoped>\n    .dataframe tbody tr th:only-of-type {\n        vertical-align: middle;\n    }\n\n    .dataframe tbody tr th {\n        vertical-align: top;\n    }\n\n    .dataframe thead th {\n        text-align: right;\n    }\n</style>\n<table border=\"1\" class=\"dataframe\">\n  <thead>\n    <tr style=\"text-align: right;\">\n      <th></th>\n      <th>OBJECTID</th>\n      <th>FOD_ID</th>\n      <th>FPA_ID</th>\n      <th>SOURCE_SYSTEM_TYPE</th>\n      <th>SOURCE_SYSTEM</th>\n      <th>NWCG_REPORTING_AGENCY</th>\n      <th>NWCG_REPORTING_UNIT_ID</th>\n      <th>NWCG_REPORTING_UNIT_NAME</th>\n      <th>SOURCE_REPORTING_UNIT</th>\n      <th>SOURCE_REPORTING_UNIT_NAME</th>\n      <th>...</th>\n      <th>FIRE_SIZE_CLASS</th>\n      <th>LATITUDE</th>\n      <th>LONGITUDE</th>\n      <th>OWNER_CODE</th>\n      <th>OWNER_DESCR</th>\n      <th>STATE</th>\n      <th>COUNTY</th>\n      <th>FIPS_CODE</th>\n      <th>FIPS_NAME</th>\n      <th>Shape</th>\n    </tr>\n  </thead>\n  <tbody>\n    <tr>\n      <th>0</th>\n      <td>463445</td>\n      <td>497959</td>\n      <td>SFO-ID0043_3101998026</td>\n      <td>NONFED</td>\n      <td>ST-NASF</td>\n      <td>ST/C&amp;L</td>\n      <td>USIDIDS</td>\n      <td>Idaho Department of Lands</td>\n      <td>ID310</td>\n      <td>IDS District 310</td>\n      <td>...</td>\n      <td>B</td>\n      <td>47.600845</td>\n      <td>-116.306789</td>\n      <td>14.0</td>\n      <td>MISSING/NOT SPECIFIED</td>\n      <td>ID</td>\n      <td>Kootenai</td>\n      <td>055</td>\n      <td>Kootenai</td>\n      <td>b'\\x00\\x01\\xad\\x10\\x00\\x00pqTn\\xa2\\x13]\\xc0\\x9...</td>\n    </tr>\n    <tr>\n      <th>1</th>\n      <td>1464479</td>\n      <td>201104109</td>\n      <td>W-626311</td>\n      <td>FED</td>\n      <td>DOI-WFMI</td>\n      <td>BIA</td>\n      <td>USMTFBA</td>\n      <td>Fort Belknap Agency</td>\n      <td>MTFBA</td>\n      <td>Fort Belknap Agency</td>\n      <td>...</td>\n      <td>A</td>\n      <td>48.403300</td>\n      <td>-108.289600</td>\n      <td>8.0</td>\n      <td>PRIVATE</td>\n      <td>MT</td>\n      <td>None</td>\n      <td>None</td>\n      <td>None</td>\n      <td>b'\\x00\\x01\\xad\\x10\\x00\\x00\\xf8:p\\xce\\x88\\x12[\\...</td>\n    </tr>\n    <tr>\n      <th>2</th>\n      <td>1591094</td>\n      <td>201608816</td>\n      <td>SFO-NE-2012-16029</td>\n      <td>NONFED</td>\n      <td>ST-NASF</td>\n      <td>ST/C&amp;L</td>\n      <td>USNENES</td>\n      <td>Nebraska Department of Forestry</td>\n      <td>NENFS</td>\n      <td>Nebraska Forest Service</td>\n      <td>...</td>\n      <td>B</td>\n      <td>40.668460</td>\n      <td>-99.089130</td>\n      <td>14.0</td>\n      <td>MISSING/NOT SPECIFIED</td>\n      <td>NE</td>\n      <td>None</td>\n      <td>None</td>\n      <td>None</td>\n      <td>b'\\x00\\x01\\xad\\x10\\x00\\x00\\xe8\\xc5PN\\xb4\\xc5X\\...</td>\n    </tr>\n    <tr>\n      <th>3</th>\n      <td>944726</td>\n      <td>1072277</td>\n      <td>SWRA_VA_11300</td>\n      <td>NONFED</td>\n      <td>ST-VAVAS</td>\n      <td>ST/C&amp;L</td>\n      <td>USVAVAS</td>\n      <td>Virginia Department of Forestry</td>\n      <td>VAVAS3</td>\n      <td>Farmville District</td>\n      <td>...</td>\n      <td>B</td>\n      <td>39.000000</td>\n      <td>-78.269200</td>\n      <td>14.0</td>\n      <td>MISSING/NOT SPECIFIED</td>\n      <td>VA</td>\n      <td>None</td>\n      <td>None</td>\n      <td>None</td>\n      <td>b'\\x00\\x01\\xad\\x10\\x00\\x00P\\x05\\xa3\\x92:\\x91S\\...</td>\n    </tr>\n    <tr>\n      <th>4</th>\n      <td>896277</td>\n      <td>1022153</td>\n      <td>SWRA_LA_24392</td>\n      <td>NONFED</td>\n      <td>ST-LALAS</td>\n      <td>ST/C&amp;L</td>\n      <td>USLALAS</td>\n      <td>Louisiana Office of Forestry</td>\n      <td>LALAS1</td>\n      <td>LAS District 1</td>\n      <td>...</td>\n      <td>B</td>\n      <td>30.993300</td>\n      <td>-89.863900</td>\n      <td>14.0</td>\n      <td>MISSING/NOT SPECIFIED</td>\n      <td>LA</td>\n      <td>None</td>\n      <td>None</td>\n      <td>None</td>\n      <td>b'\\x00\\x01\\xad\\x10\\x00\\x00\\xe8\\xc09#JwV\\xc0\\xf...</td>\n    </tr>\n  </tbody>\n</table>\n<p>5 rows × 39 columns</p>\n</div>"
     },
     "execution_count": 5,
     "metadata": {},
     "output_type": "execute_result"
    }
   ],
   "source": [
    "fires_df.head()"
   ],
   "metadata": {
    "collapsed": false,
    "pycharm": {
     "name": "#%%\n"
    }
   }
  },
  {
   "cell_type": "code",
   "execution_count": 6,
   "outputs": [
    {
     "data": {
      "text/plain": "  NWCG_REPORTING_UNIT_ID GeographicArea     Gacc              WildlandRole  \\\n0                USAKCAN             AK  USAKACC    Resource Provider Only   \n1               USAKCEKX             AK  USAKACC  Incident Host Geographic   \n2               USAKCFFX             AK  USAKACC  Incident Host Geographic   \n3               USAKCFMX             AK  USAKACC  Incident Host Geographic   \n4                USAKCFQ             AK  USAKACC  Incident Host Geographic   \n\n          UnitType Department Agency Parent Country State  Code  \\\n0   Non-Government         NG    ANC   None      US    AK   CAN   \n1  US County/Local         AK    C&L   None      US    AK  CEKX   \n2  US County/Local         AK    C&L   None      US    AK  CFFX   \n3  US County/Local         AK    C&L   None      US    AK  CFMX   \n4       US Federal        DOD   USAF   None      US    AK   CFQ   \n\n                                  Name  \n0  Calista Regional Native Corporation  \n1           Central Emergency Services  \n2       City Fairbanks Fire Department  \n3       Central Mat-Su Fire Department  \n4              Clear Air Force Station  ",
      "text/html": "<div>\n<style scoped>\n    .dataframe tbody tr th:only-of-type {\n        vertical-align: middle;\n    }\n\n    .dataframe tbody tr th {\n        vertical-align: top;\n    }\n\n    .dataframe thead th {\n        text-align: right;\n    }\n</style>\n<table border=\"1\" class=\"dataframe\">\n  <thead>\n    <tr style=\"text-align: right;\">\n      <th></th>\n      <th>NWCG_REPORTING_UNIT_ID</th>\n      <th>GeographicArea</th>\n      <th>Gacc</th>\n      <th>WildlandRole</th>\n      <th>UnitType</th>\n      <th>Department</th>\n      <th>Agency</th>\n      <th>Parent</th>\n      <th>Country</th>\n      <th>State</th>\n      <th>Code</th>\n      <th>Name</th>\n    </tr>\n  </thead>\n  <tbody>\n    <tr>\n      <th>0</th>\n      <td>USAKCAN</td>\n      <td>AK</td>\n      <td>USAKACC</td>\n      <td>Resource Provider Only</td>\n      <td>Non-Government</td>\n      <td>NG</td>\n      <td>ANC</td>\n      <td>None</td>\n      <td>US</td>\n      <td>AK</td>\n      <td>CAN</td>\n      <td>Calista Regional Native Corporation</td>\n    </tr>\n    <tr>\n      <th>1</th>\n      <td>USAKCEKX</td>\n      <td>AK</td>\n      <td>USAKACC</td>\n      <td>Incident Host Geographic</td>\n      <td>US County/Local</td>\n      <td>AK</td>\n      <td>C&amp;L</td>\n      <td>None</td>\n      <td>US</td>\n      <td>AK</td>\n      <td>CEKX</td>\n      <td>Central Emergency Services</td>\n    </tr>\n    <tr>\n      <th>2</th>\n      <td>USAKCFFX</td>\n      <td>AK</td>\n      <td>USAKACC</td>\n      <td>Incident Host Geographic</td>\n      <td>US County/Local</td>\n      <td>AK</td>\n      <td>C&amp;L</td>\n      <td>None</td>\n      <td>US</td>\n      <td>AK</td>\n      <td>CFFX</td>\n      <td>City Fairbanks Fire Department</td>\n    </tr>\n    <tr>\n      <th>3</th>\n      <td>USAKCFMX</td>\n      <td>AK</td>\n      <td>USAKACC</td>\n      <td>Incident Host Geographic</td>\n      <td>US County/Local</td>\n      <td>AK</td>\n      <td>C&amp;L</td>\n      <td>None</td>\n      <td>US</td>\n      <td>AK</td>\n      <td>CFMX</td>\n      <td>Central Mat-Su Fire Department</td>\n    </tr>\n    <tr>\n      <th>4</th>\n      <td>USAKCFQ</td>\n      <td>AK</td>\n      <td>USAKACC</td>\n      <td>Incident Host Geographic</td>\n      <td>US Federal</td>\n      <td>DOD</td>\n      <td>USAF</td>\n      <td>None</td>\n      <td>US</td>\n      <td>AK</td>\n      <td>CFQ</td>\n      <td>Clear Air Force Station</td>\n    </tr>\n  </tbody>\n</table>\n</div>"
     },
     "execution_count": 6,
     "metadata": {},
     "output_type": "execute_result"
    }
   ],
   "source": [
    "# preparing the units df to merge with the fires data\n",
    "units_df.drop('OBJECTID', axis=1, inplace=True)\n",
    "units_df.rename(mapper={'UnitId': 'NWCG_REPORTING_UNIT_ID'}, axis=1, inplace=True)\n",
    "\n",
    "units_df.head()"
   ],
   "metadata": {
    "collapsed": false,
    "pycharm": {
     "name": "#%%\n"
    }
   }
  },
  {
   "cell_type": "code",
   "execution_count": 7,
   "outputs": [
    {
     "data": {
      "text/plain": "   OBJECTID   LATITUDE   LONGITUDE SOURCE_SYSTEM_TYPE  FIRE_YEAR  FIRE_SIZE  \\\n0    463445  47.600845 -116.306789             NONFED       1998        2.0   \n1   1464479  48.403300 -108.289600                FED       2011        0.1   \n2   1591094  40.668460  -99.089130             NONFED       2012        1.5   \n3    944726  39.000000  -78.269200             NONFED       2002        2.0   \n4    896277  30.993300  -89.863900             NONFED       2002        5.0   \n\n   DISCOVERY_DOY  OWNER_CODE     Gacc    UnitType STATE  \\\n0            260        14.0  USUTGBC    US State    ID   \n1            234         8.0  USMTNRC  US Federal    MT   \n2            140        14.0  USCORMC    US State    NE   \n3              4        14.0  USGASAC    US State    VA   \n4            136        14.0  USGASAC    US State    LA   \n\n  NWCG_REPORTING_UNIT_ID  DISCOVERY_DATE   STAT_CAUSE_DESCR  \n0                USIDIDS       2451073.5  Missing/Undefined  \n1                USMTFBA       2455795.5      Miscellaneous  \n2                USNENES       2456066.5      Miscellaneous  \n3                USVAVAS       2452278.5      Miscellaneous  \n4                USLALAS       2452410.5              Arson  ",
      "text/html": "<div>\n<style scoped>\n    .dataframe tbody tr th:only-of-type {\n        vertical-align: middle;\n    }\n\n    .dataframe tbody tr th {\n        vertical-align: top;\n    }\n\n    .dataframe thead th {\n        text-align: right;\n    }\n</style>\n<table border=\"1\" class=\"dataframe\">\n  <thead>\n    <tr style=\"text-align: right;\">\n      <th></th>\n      <th>OBJECTID</th>\n      <th>LATITUDE</th>\n      <th>LONGITUDE</th>\n      <th>SOURCE_SYSTEM_TYPE</th>\n      <th>FIRE_YEAR</th>\n      <th>FIRE_SIZE</th>\n      <th>DISCOVERY_DOY</th>\n      <th>OWNER_CODE</th>\n      <th>Gacc</th>\n      <th>UnitType</th>\n      <th>STATE</th>\n      <th>NWCG_REPORTING_UNIT_ID</th>\n      <th>DISCOVERY_DATE</th>\n      <th>STAT_CAUSE_DESCR</th>\n    </tr>\n  </thead>\n  <tbody>\n    <tr>\n      <th>0</th>\n      <td>463445</td>\n      <td>47.600845</td>\n      <td>-116.306789</td>\n      <td>NONFED</td>\n      <td>1998</td>\n      <td>2.0</td>\n      <td>260</td>\n      <td>14.0</td>\n      <td>USUTGBC</td>\n      <td>US State</td>\n      <td>ID</td>\n      <td>USIDIDS</td>\n      <td>2451073.5</td>\n      <td>Missing/Undefined</td>\n    </tr>\n    <tr>\n      <th>1</th>\n      <td>1464479</td>\n      <td>48.403300</td>\n      <td>-108.289600</td>\n      <td>FED</td>\n      <td>2011</td>\n      <td>0.1</td>\n      <td>234</td>\n      <td>8.0</td>\n      <td>USMTNRC</td>\n      <td>US Federal</td>\n      <td>MT</td>\n      <td>USMTFBA</td>\n      <td>2455795.5</td>\n      <td>Miscellaneous</td>\n    </tr>\n    <tr>\n      <th>2</th>\n      <td>1591094</td>\n      <td>40.668460</td>\n      <td>-99.089130</td>\n      <td>NONFED</td>\n      <td>2012</td>\n      <td>1.5</td>\n      <td>140</td>\n      <td>14.0</td>\n      <td>USCORMC</td>\n      <td>US State</td>\n      <td>NE</td>\n      <td>USNENES</td>\n      <td>2456066.5</td>\n      <td>Miscellaneous</td>\n    </tr>\n    <tr>\n      <th>3</th>\n      <td>944726</td>\n      <td>39.000000</td>\n      <td>-78.269200</td>\n      <td>NONFED</td>\n      <td>2002</td>\n      <td>2.0</td>\n      <td>4</td>\n      <td>14.0</td>\n      <td>USGASAC</td>\n      <td>US State</td>\n      <td>VA</td>\n      <td>USVAVAS</td>\n      <td>2452278.5</td>\n      <td>Miscellaneous</td>\n    </tr>\n    <tr>\n      <th>4</th>\n      <td>896277</td>\n      <td>30.993300</td>\n      <td>-89.863900</td>\n      <td>NONFED</td>\n      <td>2002</td>\n      <td>5.0</td>\n      <td>136</td>\n      <td>14.0</td>\n      <td>USGASAC</td>\n      <td>US State</td>\n      <td>LA</td>\n      <td>USLALAS</td>\n      <td>2452410.5</td>\n      <td>Arson</td>\n    </tr>\n  </tbody>\n</table>\n</div>"
     },
     "execution_count": 7,
     "metadata": {},
     "output_type": "execute_result"
    }
   ],
   "source": [
    "# plugging the unit data to fires data\n",
    "data_df = fires_df.merge(units_df, how='left', on='NWCG_REPORTING_UNIT_ID')\n",
    "data_df = data_df.loc[:, ['OBJECTID','LATITUDE', 'LONGITUDE', 'SOURCE_SYSTEM_TYPE', 'FIRE_YEAR', 'FIRE_SIZE', 'DISCOVERY_DOY', 'OWNER_CODE', 'Gacc', 'UnitType','STATE', 'NWCG_REPORTING_UNIT_ID', 'DISCOVERY_DATE', 'STAT_CAUSE_DESCR']]\n",
    "\n",
    "data_df.head()"
   ],
   "metadata": {
    "collapsed": false,
    "pycharm": {
     "name": "#%%\n"
    }
   }
  },
  {
   "cell_type": "code",
   "execution_count": 8,
   "outputs": [],
   "source": [
    "# saving gacc data for later\n",
    "gacc_df = data_df.loc[:, ['OBJECTID', 'Gacc', 'LATITUDE', 'LONGITUDE']]\n",
    "gacc_df.set_index('OBJECTID', inplace=True)"
   ],
   "metadata": {
    "collapsed": false,
    "pycharm": {
     "name": "#%%\n"
    }
   }
  },
  {
   "cell_type": "markdown",
   "source": [
    "### Adding weather data ###\n",
    "***\n",
    "In this section we integrate weather data into our fires data set. To do so, we used a python package named 'meteostat'.\n",
    "\n",
    "The 'meteostat' package allows us to access daily weather measurements data of hundreds of weather stations spread around the United States. For each station, we can it's daily measurements in a certain year.\n",
    "\n",
    "So, in order to obtain weather data that is compatible with our current fires data, we applied the following procedure:\n",
    "1. Obtained a list of all the weather stations in the U.S. , along with their unique id values, elevation level (in meters), latitude and longitude.\n",
    "2. Obtained past daily measurements for each station for the years 1992 - 2015 (all the years in the fires dataset).\n",
    "3. For each fire in the fires data, we assigned a station based on geographic proximity (computed using coordinates).\n",
    "4. After assigning a station to each fire, we plugged the matching weather data based on the matching station and date.\n",
    "\n",
    "Important notes:\n",
    "* Regarding stage 2: for some days, the requested data was missing. in such cases, we used linear interpolation (builtin pandas function) to fill measurements data. Also, for some stations, the requested data was not available at all - in such case, the station was removed from consideration.\n",
    "* Regarding stage 3: the geographic proximity was determined by computing the Haversine distance between the fires coordinates and the stations coordinates. Particularly, we converted the LATITUDE and LONGITUDE to radians, and computed the Haversine distance: $D\\left(x,y\\right)=2\\cdot arcsin\\left[\\sqrt{sin^{2}\\left(\\left(x_{1}-y_{1}\\right)\\slash2\\right)+cos\\left(x_{1}\\right)cos\\left(y_{1}\\right)sin^{2}\\left(\\left(x_{2}-y_{2}\\right)\\slash2\\right)}\\right]$"
   ],
   "metadata": {
    "collapsed": false,
    "pycharm": {
     "name": "#%% md\n"
    }
   }
  },
  {
   "cell_type": "code",
   "execution_count": 9,
   "outputs": [],
   "source": [
    "weather_data = pd.read_pickle('met_data_clean.pkl')\n",
    "stations_df = pd.read_pickle('stations_df_clean.pkl')"
   ],
   "metadata": {
    "collapsed": false,
    "pycharm": {
     "name": "#%%\n"
    }
   }
  },
  {
   "cell_type": "markdown",
   "source": [
    "The weather data contains past measurements as follows:"
   ],
   "metadata": {
    "collapsed": false,
    "pycharm": {
     "name": "#%% md\n"
    }
   }
  },
  {
   "cell_type": "code",
   "execution_count": 10,
   "outputs": [
    {
     "data": {
      "text/plain": "        time  tavg  tmin  tmax  prcp  snow       wdir  wspd  wpgt     pres  \\\n0 1992-01-01  14.0   6.7  20.6   0.0   0.0  101.66514   4.7  18.4  1017.60   \n1 1992-01-02  16.9  12.2  25.0   0.0   0.0  101.66514   5.4  25.9  1013.20   \n2 1992-01-03  13.7  11.1  15.6   6.9   0.0  101.66514   4.3  20.5  1012.55   \n3 1992-01-04  14.8  11.1  19.4   0.0   0.0  101.66514   2.2  13.0  1011.90   \n4 1992-01-05  12.6  10.0  15.0  30.7   0.0  101.66514  12.2  53.6  1007.70   \n\n   tsun station_id  month  year  \n0   NaN      69014      1  1992  \n1   NaN      69014      1  1992  \n2   NaN      69014      1  1992  \n3   NaN      69014      1  1992  \n4   NaN      69014      1  1992  ",
      "text/html": "<div>\n<style scoped>\n    .dataframe tbody tr th:only-of-type {\n        vertical-align: middle;\n    }\n\n    .dataframe tbody tr th {\n        vertical-align: top;\n    }\n\n    .dataframe thead th {\n        text-align: right;\n    }\n</style>\n<table border=\"1\" class=\"dataframe\">\n  <thead>\n    <tr style=\"text-align: right;\">\n      <th></th>\n      <th>time</th>\n      <th>tavg</th>\n      <th>tmin</th>\n      <th>tmax</th>\n      <th>prcp</th>\n      <th>snow</th>\n      <th>wdir</th>\n      <th>wspd</th>\n      <th>wpgt</th>\n      <th>pres</th>\n      <th>tsun</th>\n      <th>station_id</th>\n      <th>month</th>\n      <th>year</th>\n    </tr>\n  </thead>\n  <tbody>\n    <tr>\n      <th>0</th>\n      <td>1992-01-01</td>\n      <td>14.0</td>\n      <td>6.7</td>\n      <td>20.6</td>\n      <td>0.0</td>\n      <td>0.0</td>\n      <td>101.66514</td>\n      <td>4.7</td>\n      <td>18.4</td>\n      <td>1017.60</td>\n      <td>NaN</td>\n      <td>69014</td>\n      <td>1</td>\n      <td>1992</td>\n    </tr>\n    <tr>\n      <th>1</th>\n      <td>1992-01-02</td>\n      <td>16.9</td>\n      <td>12.2</td>\n      <td>25.0</td>\n      <td>0.0</td>\n      <td>0.0</td>\n      <td>101.66514</td>\n      <td>5.4</td>\n      <td>25.9</td>\n      <td>1013.20</td>\n      <td>NaN</td>\n      <td>69014</td>\n      <td>1</td>\n      <td>1992</td>\n    </tr>\n    <tr>\n      <th>2</th>\n      <td>1992-01-03</td>\n      <td>13.7</td>\n      <td>11.1</td>\n      <td>15.6</td>\n      <td>6.9</td>\n      <td>0.0</td>\n      <td>101.66514</td>\n      <td>4.3</td>\n      <td>20.5</td>\n      <td>1012.55</td>\n      <td>NaN</td>\n      <td>69014</td>\n      <td>1</td>\n      <td>1992</td>\n    </tr>\n    <tr>\n      <th>3</th>\n      <td>1992-01-04</td>\n      <td>14.8</td>\n      <td>11.1</td>\n      <td>19.4</td>\n      <td>0.0</td>\n      <td>0.0</td>\n      <td>101.66514</td>\n      <td>2.2</td>\n      <td>13.0</td>\n      <td>1011.90</td>\n      <td>NaN</td>\n      <td>69014</td>\n      <td>1</td>\n      <td>1992</td>\n    </tr>\n    <tr>\n      <th>4</th>\n      <td>1992-01-05</td>\n      <td>12.6</td>\n      <td>10.0</td>\n      <td>15.0</td>\n      <td>30.7</td>\n      <td>0.0</td>\n      <td>101.66514</td>\n      <td>12.2</td>\n      <td>53.6</td>\n      <td>1007.70</td>\n      <td>NaN</td>\n      <td>69014</td>\n      <td>1</td>\n      <td>1992</td>\n    </tr>\n  </tbody>\n</table>\n</div>"
     },
     "execution_count": 10,
     "metadata": {},
     "output_type": "execute_result"
    }
   ],
   "source": [
    "weather_data.head()"
   ],
   "metadata": {
    "collapsed": false,
    "pycharm": {
     "name": "#%%\n"
    }
   }
  },
  {
   "cell_type": "markdown",
   "source": [
    "The stations data contains weather stations information as follows:"
   ],
   "metadata": {
    "collapsed": false,
    "pycharm": {
     "name": "#%% md\n"
    }
   }
  },
  {
   "cell_type": "code",
   "execution_count": 11,
   "outputs": [
    {
     "data": {
      "text/plain": "                                     name country region    wmo  icao  \\\nid                                                                      \n69014                              Irvine      US     CA  69014  KNZJ   \n69015  Twentynine Palms / Sunfair Heights      US     CA  69015  KNXP   \n69023         Whidbey Island / Ault Field      US     WA  69023  KNUW   \n70026        Post Rogers Memorial Airport      US     AK  70026  PABR   \n70133               Wien Memorial Airport      US     AK  70133  PAOT   \n\n       latitude  longitude  elevation             timezone hourly_start  \\\nid                                                                        \n69014   33.6667  -117.7167      119.0  America/Los_Angeles   1989-01-01   \n69015   34.2962  -116.1622      625.0  America/Los_Angeles   1990-01-02   \n69023   48.3518  -122.6560       14.0  America/Los_Angeles   2005-01-01   \n70026   71.2833  -156.7667       13.0       America/Juneau   1945-01-01   \n70133   66.8833  -162.6000        3.0         America/Nome   1973-01-01   \n\n      hourly_end daily_start  daily_end monthly_start monthly_end  \\\nid                                                                  \n69014 1999-06-06  1945-03-01 1998-12-10    1945-01-01  1998-01-01   \n69015 2023-02-21  1945-05-01 2022-04-24    1945-01-01  2021-01-01   \n69023 2023-02-20  1945-04-01 2022-04-24    1945-01-01  2022-01-01   \n70026 2023-02-21  1901-09-01 2023-02-16    1901-01-01  2022-01-01   \n70133 2023-02-21  1897-09-12 2023-02-16    1897-01-01  2022-01-01   \n\n       latitude_radians  longitude_radians  \nid                                          \n69014          0.587595          -2.054544  \n69015          0.598582          -2.027413  \n69023          0.843898          -2.140751  \n70026          1.244128          -2.736095  \n70133          1.167334          -2.837905  ",
      "text/html": "<div>\n<style scoped>\n    .dataframe tbody tr th:only-of-type {\n        vertical-align: middle;\n    }\n\n    .dataframe tbody tr th {\n        vertical-align: top;\n    }\n\n    .dataframe thead th {\n        text-align: right;\n    }\n</style>\n<table border=\"1\" class=\"dataframe\">\n  <thead>\n    <tr style=\"text-align: right;\">\n      <th></th>\n      <th>name</th>\n      <th>country</th>\n      <th>region</th>\n      <th>wmo</th>\n      <th>icao</th>\n      <th>latitude</th>\n      <th>longitude</th>\n      <th>elevation</th>\n      <th>timezone</th>\n      <th>hourly_start</th>\n      <th>hourly_end</th>\n      <th>daily_start</th>\n      <th>daily_end</th>\n      <th>monthly_start</th>\n      <th>monthly_end</th>\n      <th>latitude_radians</th>\n      <th>longitude_radians</th>\n    </tr>\n    <tr>\n      <th>id</th>\n      <th></th>\n      <th></th>\n      <th></th>\n      <th></th>\n      <th></th>\n      <th></th>\n      <th></th>\n      <th></th>\n      <th></th>\n      <th></th>\n      <th></th>\n      <th></th>\n      <th></th>\n      <th></th>\n      <th></th>\n      <th></th>\n      <th></th>\n    </tr>\n  </thead>\n  <tbody>\n    <tr>\n      <th>69014</th>\n      <td>Irvine</td>\n      <td>US</td>\n      <td>CA</td>\n      <td>69014</td>\n      <td>KNZJ</td>\n      <td>33.6667</td>\n      <td>-117.7167</td>\n      <td>119.0</td>\n      <td>America/Los_Angeles</td>\n      <td>1989-01-01</td>\n      <td>1999-06-06</td>\n      <td>1945-03-01</td>\n      <td>1998-12-10</td>\n      <td>1945-01-01</td>\n      <td>1998-01-01</td>\n      <td>0.587595</td>\n      <td>-2.054544</td>\n    </tr>\n    <tr>\n      <th>69015</th>\n      <td>Twentynine Palms / Sunfair Heights</td>\n      <td>US</td>\n      <td>CA</td>\n      <td>69015</td>\n      <td>KNXP</td>\n      <td>34.2962</td>\n      <td>-116.1622</td>\n      <td>625.0</td>\n      <td>America/Los_Angeles</td>\n      <td>1990-01-02</td>\n      <td>2023-02-21</td>\n      <td>1945-05-01</td>\n      <td>2022-04-24</td>\n      <td>1945-01-01</td>\n      <td>2021-01-01</td>\n      <td>0.598582</td>\n      <td>-2.027413</td>\n    </tr>\n    <tr>\n      <th>69023</th>\n      <td>Whidbey Island / Ault Field</td>\n      <td>US</td>\n      <td>WA</td>\n      <td>69023</td>\n      <td>KNUW</td>\n      <td>48.3518</td>\n      <td>-122.6560</td>\n      <td>14.0</td>\n      <td>America/Los_Angeles</td>\n      <td>2005-01-01</td>\n      <td>2023-02-20</td>\n      <td>1945-04-01</td>\n      <td>2022-04-24</td>\n      <td>1945-01-01</td>\n      <td>2022-01-01</td>\n      <td>0.843898</td>\n      <td>-2.140751</td>\n    </tr>\n    <tr>\n      <th>70026</th>\n      <td>Post Rogers Memorial Airport</td>\n      <td>US</td>\n      <td>AK</td>\n      <td>70026</td>\n      <td>PABR</td>\n      <td>71.2833</td>\n      <td>-156.7667</td>\n      <td>13.0</td>\n      <td>America/Juneau</td>\n      <td>1945-01-01</td>\n      <td>2023-02-21</td>\n      <td>1901-09-01</td>\n      <td>2023-02-16</td>\n      <td>1901-01-01</td>\n      <td>2022-01-01</td>\n      <td>1.244128</td>\n      <td>-2.736095</td>\n    </tr>\n    <tr>\n      <th>70133</th>\n      <td>Wien Memorial Airport</td>\n      <td>US</td>\n      <td>AK</td>\n      <td>70133</td>\n      <td>PAOT</td>\n      <td>66.8833</td>\n      <td>-162.6000</td>\n      <td>3.0</td>\n      <td>America/Nome</td>\n      <td>1973-01-01</td>\n      <td>2023-02-21</td>\n      <td>1897-09-12</td>\n      <td>2023-02-16</td>\n      <td>1897-01-01</td>\n      <td>2022-01-01</td>\n      <td>1.167334</td>\n      <td>-2.837905</td>\n    </tr>\n  </tbody>\n</table>\n</div>"
     },
     "execution_count": 11,
     "metadata": {},
     "output_type": "execute_result"
    }
   ],
   "source": [
    "stations_df.head()"
   ],
   "metadata": {
    "collapsed": false,
    "pycharm": {
     "name": "#%%\n"
    }
   }
  },
  {
   "cell_type": "code",
   "execution_count": 12,
   "outputs": [],
   "source": [
    "weather_data['merge_col'] = weather_data['time'].apply(lambda x: x.strftime('%Y-%m-%d'))\n",
    "weather_data['merge_col'] = list(zip(weather_data.station_id, weather_data.merge_col))"
   ],
   "metadata": {
    "collapsed": false,
    "pycharm": {
     "name": "#%%\n"
    }
   }
  },
  {
   "cell_type": "code",
   "execution_count": 13,
   "outputs": [],
   "source": [
    "weather_data.set_index('merge_col', inplace=True)\n",
    "weather_data.reset_index(None, inplace=True)"
   ],
   "metadata": {
    "collapsed": false,
    "pycharm": {
     "name": "#%%\n"
    }
   }
  },
  {
   "cell_type": "code",
   "execution_count": 14,
   "outputs": [
    {
     "data": {
      "text/plain": "    LATITUDE   LONGITUDE DISCOVERY_DATE  OBJECTID\n0  47.600845 -116.306789     1998-09-17    463445\n1  48.403300 -108.289600     2011-08-22   1464479\n2  40.668460  -99.089130     2012-05-19   1591094\n3  39.000000  -78.269200     2002-01-04    944726\n4  30.993300  -89.863900     2002-05-16    896277",
      "text/html": "<div>\n<style scoped>\n    .dataframe tbody tr th:only-of-type {\n        vertical-align: middle;\n    }\n\n    .dataframe tbody tr th {\n        vertical-align: top;\n    }\n\n    .dataframe thead th {\n        text-align: right;\n    }\n</style>\n<table border=\"1\" class=\"dataframe\">\n  <thead>\n    <tr style=\"text-align: right;\">\n      <th></th>\n      <th>LATITUDE</th>\n      <th>LONGITUDE</th>\n      <th>DISCOVERY_DATE</th>\n      <th>OBJECTID</th>\n    </tr>\n  </thead>\n  <tbody>\n    <tr>\n      <th>0</th>\n      <td>47.600845</td>\n      <td>-116.306789</td>\n      <td>1998-09-17</td>\n      <td>463445</td>\n    </tr>\n    <tr>\n      <th>1</th>\n      <td>48.403300</td>\n      <td>-108.289600</td>\n      <td>2011-08-22</td>\n      <td>1464479</td>\n    </tr>\n    <tr>\n      <th>2</th>\n      <td>40.668460</td>\n      <td>-99.089130</td>\n      <td>2012-05-19</td>\n      <td>1591094</td>\n    </tr>\n    <tr>\n      <th>3</th>\n      <td>39.000000</td>\n      <td>-78.269200</td>\n      <td>2002-01-04</td>\n      <td>944726</td>\n    </tr>\n    <tr>\n      <th>4</th>\n      <td>30.993300</td>\n      <td>-89.863900</td>\n      <td>2002-05-16</td>\n      <td>896277</td>\n    </tr>\n  </tbody>\n</table>\n</div>"
     },
     "execution_count": 14,
     "metadata": {},
     "output_type": "execute_result"
    }
   ],
   "source": [
    "# creating weather table indexed by fires OBJECTID\n",
    "met_data = fires_df.loc[:, ['LATITUDE', 'LONGITUDE', 'DISCOVERY_DATE', 'OBJECTID']]\n",
    "met_data['DISCOVERY_DATE'] = pd.to_datetime(met_data['DISCOVERY_DATE'] - pd.Timestamp(0).to_julian_date(), unit='D')\n",
    "\n",
    "met_data.head()"
   ],
   "metadata": {
    "collapsed": false,
    "pycharm": {
     "name": "#%%\n"
    }
   }
  },
  {
   "cell_type": "code",
   "execution_count": 15,
   "outputs": [],
   "source": [
    "# clipping year to fit the range 1992-2015\n",
    "def clip_discovery_year(cur_time: pd.Timestamp):\n",
    "    if cur_time.year in range(1992, 2016):\n",
    "        return cur_time\n",
    "\n",
    "    clipped_year = int(np.clip(cur_time.year, a_min=1992, a_max=2015) )\n",
    "\n",
    "    try:\n",
    "        return cur_time.replace(year=clipped_year)\n",
    "    except ValueError:\n",
    "        return pd.Timestamp(day=1, month=1, year=clipped_year)"
   ],
   "metadata": {
    "collapsed": false,
    "pycharm": {
     "name": "#%%\n"
    }
   }
  },
  {
   "cell_type": "code",
   "execution_count": 16,
   "outputs": [],
   "source": [
    "met_data['DISCOVERY_DATE'] = met_data['DISCOVERY_DATE'].apply(clip_discovery_year)"
   ],
   "metadata": {
    "collapsed": false,
    "pycharm": {
     "name": "#%%\n"
    }
   }
  },
  {
   "cell_type": "code",
   "execution_count": 17,
   "outputs": [
    {
     "data": {
      "text/plain": "   LATITUDE  LONGITUDE DISCOVERY_DATE  OBJECTID\n0  0.830791  -2.029936     1998-09-17    463445\n1  0.844797  -1.890010     2011-08-22   1464479\n2  0.709799  -1.729432     2012-05-19   1591094\n3  0.680678  -1.366055     2002-01-04    944726\n4  0.540935  -1.568421     2002-05-16    896277",
      "text/html": "<div>\n<style scoped>\n    .dataframe tbody tr th:only-of-type {\n        vertical-align: middle;\n    }\n\n    .dataframe tbody tr th {\n        vertical-align: top;\n    }\n\n    .dataframe thead th {\n        text-align: right;\n    }\n</style>\n<table border=\"1\" class=\"dataframe\">\n  <thead>\n    <tr style=\"text-align: right;\">\n      <th></th>\n      <th>LATITUDE</th>\n      <th>LONGITUDE</th>\n      <th>DISCOVERY_DATE</th>\n      <th>OBJECTID</th>\n    </tr>\n  </thead>\n  <tbody>\n    <tr>\n      <th>0</th>\n      <td>0.830791</td>\n      <td>-2.029936</td>\n      <td>1998-09-17</td>\n      <td>463445</td>\n    </tr>\n    <tr>\n      <th>1</th>\n      <td>0.844797</td>\n      <td>-1.890010</td>\n      <td>2011-08-22</td>\n      <td>1464479</td>\n    </tr>\n    <tr>\n      <th>2</th>\n      <td>0.709799</td>\n      <td>-1.729432</td>\n      <td>2012-05-19</td>\n      <td>1591094</td>\n    </tr>\n    <tr>\n      <th>3</th>\n      <td>0.680678</td>\n      <td>-1.366055</td>\n      <td>2002-01-04</td>\n      <td>944726</td>\n    </tr>\n    <tr>\n      <th>4</th>\n      <td>0.540935</td>\n      <td>-1.568421</td>\n      <td>2002-05-16</td>\n      <td>896277</td>\n    </tr>\n  </tbody>\n</table>\n</div>"
     },
     "execution_count": 17,
     "metadata": {},
     "output_type": "execute_result"
    }
   ],
   "source": [
    "# converting met_data coordinates to radians\n",
    "met_data['LATITUDE'] = met_data['LATITUDE'].apply(radians)\n",
    "met_data['LONGITUDE'] = met_data['LONGITUDE'].apply(radians)\n",
    "\n",
    "met_data.head()"
   ],
   "metadata": {
    "collapsed": false,
    "pycharm": {
     "name": "#%%\n"
    }
   }
  },
  {
   "cell_type": "code",
   "execution_count": 18,
   "outputs": [],
   "source": [
    "met_data.set_index('OBJECTID', inplace=True)"
   ],
   "metadata": {
    "collapsed": false,
    "pycharm": {
     "name": "#%%\n"
    }
   }
  },
  {
   "cell_type": "code",
   "execution_count": 19,
   "outputs": [],
   "source": [
    "# computing the haversine distance between fires and stations\n",
    "dist_matrix = haversine_distances(met_data.loc[:, ['LATITUDE', 'LONGITUDE']], stations_df.loc[:, ['latitude_radians', 'longitude_radians']])\n",
    "dist_matrix = pd.DataFrame(data=dist_matrix, index=met_data.index, columns=stations_df.index)"
   ],
   "metadata": {
    "collapsed": false,
    "pycharm": {
     "name": "#%%\n"
    }
   }
  },
  {
   "cell_type": "code",
   "execution_count": 20,
   "outputs": [
    {
     "data": {
      "text/plain": "          LATITUDE  LONGITUDE DISCOVERY_DATE station_id\nOBJECTID                                               \n463445    0.830791  -2.029936     1998-09-17      72785\n1464479   0.844797  -1.890010     2011-08-22      72768\n1591094   0.709799  -1.729432     2012-05-19      72552\n944726    0.680678  -1.366055     2002-01-04      72403\n896277    0.540935  -1.568421     2002-05-16      72231",
      "text/html": "<div>\n<style scoped>\n    .dataframe tbody tr th:only-of-type {\n        vertical-align: middle;\n    }\n\n    .dataframe tbody tr th {\n        vertical-align: top;\n    }\n\n    .dataframe thead th {\n        text-align: right;\n    }\n</style>\n<table border=\"1\" class=\"dataframe\">\n  <thead>\n    <tr style=\"text-align: right;\">\n      <th></th>\n      <th>LATITUDE</th>\n      <th>LONGITUDE</th>\n      <th>DISCOVERY_DATE</th>\n      <th>station_id</th>\n    </tr>\n    <tr>\n      <th>OBJECTID</th>\n      <th></th>\n      <th></th>\n      <th></th>\n      <th></th>\n    </tr>\n  </thead>\n  <tbody>\n    <tr>\n      <th>463445</th>\n      <td>0.830791</td>\n      <td>-2.029936</td>\n      <td>1998-09-17</td>\n      <td>72785</td>\n    </tr>\n    <tr>\n      <th>1464479</th>\n      <td>0.844797</td>\n      <td>-1.890010</td>\n      <td>2011-08-22</td>\n      <td>72768</td>\n    </tr>\n    <tr>\n      <th>1591094</th>\n      <td>0.709799</td>\n      <td>-1.729432</td>\n      <td>2012-05-19</td>\n      <td>72552</td>\n    </tr>\n    <tr>\n      <th>944726</th>\n      <td>0.680678</td>\n      <td>-1.366055</td>\n      <td>2002-01-04</td>\n      <td>72403</td>\n    </tr>\n    <tr>\n      <th>896277</th>\n      <td>0.540935</td>\n      <td>-1.568421</td>\n      <td>2002-05-16</td>\n      <td>72231</td>\n    </tr>\n  </tbody>\n</table>\n</div>"
     },
     "execution_count": 20,
     "metadata": {},
     "output_type": "execute_result"
    }
   ],
   "source": [
    "# assigning a station id to fire OBJECTID by coordinates proximity\n",
    "met_data['station_id'] = dist_matrix.idxmin(axis=1)\n",
    "\n",
    "met_data.head()"
   ],
   "metadata": {
    "collapsed": false,
    "pycharm": {
     "name": "#%%\n"
    }
   }
  },
  {
   "cell_type": "code",
   "execution_count": 21,
   "outputs": [
    {
     "data": {
      "text/plain": "          LATITUDE  LONGITUDE DISCOVERY_DATE station_id            merge_col\nOBJECTID                                                                    \n463445    0.830791  -2.029936     1998-09-17      72785  (72785, 1998-09-17)\n1464479   0.844797  -1.890010     2011-08-22      72768  (72768, 2011-08-22)\n1591094   0.709799  -1.729432     2012-05-19      72552  (72552, 2012-05-19)\n944726    0.680678  -1.366055     2002-01-04      72403  (72403, 2002-01-04)\n896277    0.540935  -1.568421     2002-05-16      72231  (72231, 2002-05-16)",
      "text/html": "<div>\n<style scoped>\n    .dataframe tbody tr th:only-of-type {\n        vertical-align: middle;\n    }\n\n    .dataframe tbody tr th {\n        vertical-align: top;\n    }\n\n    .dataframe thead th {\n        text-align: right;\n    }\n</style>\n<table border=\"1\" class=\"dataframe\">\n  <thead>\n    <tr style=\"text-align: right;\">\n      <th></th>\n      <th>LATITUDE</th>\n      <th>LONGITUDE</th>\n      <th>DISCOVERY_DATE</th>\n      <th>station_id</th>\n      <th>merge_col</th>\n    </tr>\n    <tr>\n      <th>OBJECTID</th>\n      <th></th>\n      <th></th>\n      <th></th>\n      <th></th>\n      <th></th>\n    </tr>\n  </thead>\n  <tbody>\n    <tr>\n      <th>463445</th>\n      <td>0.830791</td>\n      <td>-2.029936</td>\n      <td>1998-09-17</td>\n      <td>72785</td>\n      <td>(72785, 1998-09-17)</td>\n    </tr>\n    <tr>\n      <th>1464479</th>\n      <td>0.844797</td>\n      <td>-1.890010</td>\n      <td>2011-08-22</td>\n      <td>72768</td>\n      <td>(72768, 2011-08-22)</td>\n    </tr>\n    <tr>\n      <th>1591094</th>\n      <td>0.709799</td>\n      <td>-1.729432</td>\n      <td>2012-05-19</td>\n      <td>72552</td>\n      <td>(72552, 2012-05-19)</td>\n    </tr>\n    <tr>\n      <th>944726</th>\n      <td>0.680678</td>\n      <td>-1.366055</td>\n      <td>2002-01-04</td>\n      <td>72403</td>\n      <td>(72403, 2002-01-04)</td>\n    </tr>\n    <tr>\n      <th>896277</th>\n      <td>0.540935</td>\n      <td>-1.568421</td>\n      <td>2002-05-16</td>\n      <td>72231</td>\n      <td>(72231, 2002-05-16)</td>\n    </tr>\n  </tbody>\n</table>\n</div>"
     },
     "execution_count": 21,
     "metadata": {},
     "output_type": "execute_result"
    }
   ],
   "source": [
    "# merging the weather data into\n",
    "met_data['merge_col'] = met_data['DISCOVERY_DATE'].apply(lambda x: x.strftime('%Y-%m-%d'))\n",
    "met_data['merge_col'] = list(zip(met_data.station_id, met_data.merge_col))\n",
    "\n",
    "met_data.head()"
   ],
   "metadata": {
    "collapsed": false,
    "pycharm": {
     "name": "#%%\n"
    }
   }
  },
  {
   "cell_type": "code",
   "execution_count": 22,
   "outputs": [
    {
     "data": {
      "text/plain": "          LATITUDE  LONGITUDE DISCOVERY_DATE station_id            merge_col  \\\nOBJECTID                                                                       \n463445    0.830791  -2.029936     1998-09-17      72785  (72785, 1998-09-17)   \n1464479   0.844797  -1.890010     2011-08-22      72768  (72768, 2011-08-22)   \n1591094   0.709799  -1.729432     2012-05-19      72552  (72552, 2012-05-19)   \n944726    0.680678  -1.366055     2002-01-04      72403  (72403, 2002-01-04)   \n896277    0.540935  -1.568421     2002-05-16      72231  (72231, 2002-05-16)   \n\n          elevation  \nOBJECTID             \n463445        723.0  \n1464479       699.0  \n1591094       563.0  \n944726         95.0  \n896277          2.0  ",
      "text/html": "<div>\n<style scoped>\n    .dataframe tbody tr th:only-of-type {\n        vertical-align: middle;\n    }\n\n    .dataframe tbody tr th {\n        vertical-align: top;\n    }\n\n    .dataframe thead th {\n        text-align: right;\n    }\n</style>\n<table border=\"1\" class=\"dataframe\">\n  <thead>\n    <tr style=\"text-align: right;\">\n      <th></th>\n      <th>LATITUDE</th>\n      <th>LONGITUDE</th>\n      <th>DISCOVERY_DATE</th>\n      <th>station_id</th>\n      <th>merge_col</th>\n      <th>elevation</th>\n    </tr>\n    <tr>\n      <th>OBJECTID</th>\n      <th></th>\n      <th></th>\n      <th></th>\n      <th></th>\n      <th></th>\n      <th></th>\n    </tr>\n  </thead>\n  <tbody>\n    <tr>\n      <th>463445</th>\n      <td>0.830791</td>\n      <td>-2.029936</td>\n      <td>1998-09-17</td>\n      <td>72785</td>\n      <td>(72785, 1998-09-17)</td>\n      <td>723.0</td>\n    </tr>\n    <tr>\n      <th>1464479</th>\n      <td>0.844797</td>\n      <td>-1.890010</td>\n      <td>2011-08-22</td>\n      <td>72768</td>\n      <td>(72768, 2011-08-22)</td>\n      <td>699.0</td>\n    </tr>\n    <tr>\n      <th>1591094</th>\n      <td>0.709799</td>\n      <td>-1.729432</td>\n      <td>2012-05-19</td>\n      <td>72552</td>\n      <td>(72552, 2012-05-19)</td>\n      <td>563.0</td>\n    </tr>\n    <tr>\n      <th>944726</th>\n      <td>0.680678</td>\n      <td>-1.366055</td>\n      <td>2002-01-04</td>\n      <td>72403</td>\n      <td>(72403, 2002-01-04)</td>\n      <td>95.0</td>\n    </tr>\n    <tr>\n      <th>896277</th>\n      <td>0.540935</td>\n      <td>-1.568421</td>\n      <td>2002-05-16</td>\n      <td>72231</td>\n      <td>(72231, 2002-05-16)</td>\n      <td>2.0</td>\n    </tr>\n  </tbody>\n</table>\n</div>"
     },
     "execution_count": 22,
     "metadata": {},
     "output_type": "execute_result"
    }
   ],
   "source": [
    "# adding elevation data\n",
    "met_data['elevation'] = met_data['station_id'].apply(lambda x: stations_df.loc[x, 'elevation'])\n",
    "\n",
    "met_data.head()"
   ],
   "metadata": {
    "collapsed": false,
    "pycharm": {
     "name": "#%%\n"
    }
   }
  },
  {
   "cell_type": "code",
   "execution_count": 23,
   "outputs": [
    {
     "data": {
      "text/plain": "          LATITUDE  LONGITUDE DISCOVERY_DATE station_id_x  \\\nOBJECTID                                                    \n463445    0.830791  -2.029936     1998-09-17        72785   \n1464479   0.844797  -1.890010     2011-08-22        72768   \n1591094   0.709799  -1.729432     2012-05-19        72552   \n944726    0.680678  -1.366055     2002-01-04        72403   \n896277    0.540935  -1.568421     2002-05-16        72231   \n\n                    merge_col  elevation       time  tavg  tmin  tmax  prcp  \\\nOBJECTID                                                                      \n463445    (72785, 1998-09-17)      723.0 1998-09-17  19.4  13.3  25.6   0.5   \n1464479   (72768, 2011-08-22)      699.0 2011-08-22  25.3  13.3  36.1   0.0   \n1591094   (72552, 2012-05-19)      563.0 2012-05-19  20.8  12.8  26.7   9.7   \n944726    (72403, 2002-01-04)       95.0 2002-01-04  -0.6  -6.7   5.0   0.0   \n896277    (72231, 2002-05-16)        2.0 2002-05-16  25.6  20.6  30.6   0.0   \n\n          snow        wdir  wspd  wpgt    pres        tsun station_id_y  \\\nOBJECTID                                                                  \n463445     0.0  138.000000  12.6  25.9  1007.0  150.608696        72785   \n1464479    0.0   30.750000  10.8  27.7  1005.6    0.000000        72768   \n1591094    0.0  163.333333  24.1  24.1  1012.3    0.000000        72552   \n944726     0.0  310.285714  15.1  48.2  1020.3    0.000000        72403   \n896277     0.0  143.000000  14.8  44.3  1018.3    0.000000        72231   \n\n          month    year  \nOBJECTID                 \n463445      9.0  1998.0  \n1464479     8.0  2011.0  \n1591094     5.0  2012.0  \n944726      1.0  2002.0  \n896277      5.0  2002.0  ",
      "text/html": "<div>\n<style scoped>\n    .dataframe tbody tr th:only-of-type {\n        vertical-align: middle;\n    }\n\n    .dataframe tbody tr th {\n        vertical-align: top;\n    }\n\n    .dataframe thead th {\n        text-align: right;\n    }\n</style>\n<table border=\"1\" class=\"dataframe\">\n  <thead>\n    <tr style=\"text-align: right;\">\n      <th></th>\n      <th>LATITUDE</th>\n      <th>LONGITUDE</th>\n      <th>DISCOVERY_DATE</th>\n      <th>station_id_x</th>\n      <th>merge_col</th>\n      <th>elevation</th>\n      <th>time</th>\n      <th>tavg</th>\n      <th>tmin</th>\n      <th>tmax</th>\n      <th>prcp</th>\n      <th>snow</th>\n      <th>wdir</th>\n      <th>wspd</th>\n      <th>wpgt</th>\n      <th>pres</th>\n      <th>tsun</th>\n      <th>station_id_y</th>\n      <th>month</th>\n      <th>year</th>\n    </tr>\n    <tr>\n      <th>OBJECTID</th>\n      <th></th>\n      <th></th>\n      <th></th>\n      <th></th>\n      <th></th>\n      <th></th>\n      <th></th>\n      <th></th>\n      <th></th>\n      <th></th>\n      <th></th>\n      <th></th>\n      <th></th>\n      <th></th>\n      <th></th>\n      <th></th>\n      <th></th>\n      <th></th>\n      <th></th>\n      <th></th>\n    </tr>\n  </thead>\n  <tbody>\n    <tr>\n      <th>463445</th>\n      <td>0.830791</td>\n      <td>-2.029936</td>\n      <td>1998-09-17</td>\n      <td>72785</td>\n      <td>(72785, 1998-09-17)</td>\n      <td>723.0</td>\n      <td>1998-09-17</td>\n      <td>19.4</td>\n      <td>13.3</td>\n      <td>25.6</td>\n      <td>0.5</td>\n      <td>0.0</td>\n      <td>138.000000</td>\n      <td>12.6</td>\n      <td>25.9</td>\n      <td>1007.0</td>\n      <td>150.608696</td>\n      <td>72785</td>\n      <td>9.0</td>\n      <td>1998.0</td>\n    </tr>\n    <tr>\n      <th>1464479</th>\n      <td>0.844797</td>\n      <td>-1.890010</td>\n      <td>2011-08-22</td>\n      <td>72768</td>\n      <td>(72768, 2011-08-22)</td>\n      <td>699.0</td>\n      <td>2011-08-22</td>\n      <td>25.3</td>\n      <td>13.3</td>\n      <td>36.1</td>\n      <td>0.0</td>\n      <td>0.0</td>\n      <td>30.750000</td>\n      <td>10.8</td>\n      <td>27.7</td>\n      <td>1005.6</td>\n      <td>0.000000</td>\n      <td>72768</td>\n      <td>8.0</td>\n      <td>2011.0</td>\n    </tr>\n    <tr>\n      <th>1591094</th>\n      <td>0.709799</td>\n      <td>-1.729432</td>\n      <td>2012-05-19</td>\n      <td>72552</td>\n      <td>(72552, 2012-05-19)</td>\n      <td>563.0</td>\n      <td>2012-05-19</td>\n      <td>20.8</td>\n      <td>12.8</td>\n      <td>26.7</td>\n      <td>9.7</td>\n      <td>0.0</td>\n      <td>163.333333</td>\n      <td>24.1</td>\n      <td>24.1</td>\n      <td>1012.3</td>\n      <td>0.000000</td>\n      <td>72552</td>\n      <td>5.0</td>\n      <td>2012.0</td>\n    </tr>\n    <tr>\n      <th>944726</th>\n      <td>0.680678</td>\n      <td>-1.366055</td>\n      <td>2002-01-04</td>\n      <td>72403</td>\n      <td>(72403, 2002-01-04)</td>\n      <td>95.0</td>\n      <td>2002-01-04</td>\n      <td>-0.6</td>\n      <td>-6.7</td>\n      <td>5.0</td>\n      <td>0.0</td>\n      <td>0.0</td>\n      <td>310.285714</td>\n      <td>15.1</td>\n      <td>48.2</td>\n      <td>1020.3</td>\n      <td>0.000000</td>\n      <td>72403</td>\n      <td>1.0</td>\n      <td>2002.0</td>\n    </tr>\n    <tr>\n      <th>896277</th>\n      <td>0.540935</td>\n      <td>-1.568421</td>\n      <td>2002-05-16</td>\n      <td>72231</td>\n      <td>(72231, 2002-05-16)</td>\n      <td>2.0</td>\n      <td>2002-05-16</td>\n      <td>25.6</td>\n      <td>20.6</td>\n      <td>30.6</td>\n      <td>0.0</td>\n      <td>0.0</td>\n      <td>143.000000</td>\n      <td>14.8</td>\n      <td>44.3</td>\n      <td>1018.3</td>\n      <td>0.000000</td>\n      <td>72231</td>\n      <td>5.0</td>\n      <td>2002.0</td>\n    </tr>\n  </tbody>\n</table>\n</div>"
     },
     "execution_count": 23,
     "metadata": {},
     "output_type": "execute_result"
    }
   ],
   "source": [
    "met_data.reset_index(None, inplace=True)\n",
    "met_data = met_data.merge(weather_data, how='left', on='merge_col')\n",
    "met_data.set_index('OBJECTID', inplace=True)\n",
    "\n",
    "met_data.head()"
   ],
   "metadata": {
    "collapsed": false,
    "pycharm": {
     "name": "#%%\n"
    }
   }
  },
  {
   "cell_type": "code",
   "execution_count": 24,
   "outputs": [],
   "source": [
    "weather_keep_cols = ['elevation', 'tavg', 'tmin', 'tmax', 'prcp', 'snow', 'wdir', 'wspd', 'wpgt','station_id_x', 'month', 'year']"
   ],
   "metadata": {
    "collapsed": false,
    "pycharm": {
     "name": "#%%\n"
    }
   }
  },
  {
   "cell_type": "code",
   "execution_count": 25,
   "outputs": [
    {
     "data": {
      "text/plain": "          elevation  tavg  tmin  tmax  prcp  snow        wdir  wspd  wpgt  \\\nOBJECTID                                                                    \n463445        723.0  19.4  13.3  25.6   0.5   0.0  138.000000  12.6  25.9   \n1464479       699.0  25.3  13.3  36.1   0.0   0.0   30.750000  10.8  27.7   \n1591094       563.0  20.8  12.8  26.7   9.7   0.0  163.333333  24.1  24.1   \n944726         95.0  -0.6  -6.7   5.0   0.0   0.0  310.285714  15.1  48.2   \n896277          2.0  25.6  20.6  30.6   0.0   0.0  143.000000  14.8  44.3   \n\n         station_id_x  month    year  \nOBJECTID                              \n463445          72785    9.0  1998.0  \n1464479         72768    8.0  2011.0  \n1591094         72552    5.0  2012.0  \n944726          72403    1.0  2002.0  \n896277          72231    5.0  2002.0  ",
      "text/html": "<div>\n<style scoped>\n    .dataframe tbody tr th:only-of-type {\n        vertical-align: middle;\n    }\n\n    .dataframe tbody tr th {\n        vertical-align: top;\n    }\n\n    .dataframe thead th {\n        text-align: right;\n    }\n</style>\n<table border=\"1\" class=\"dataframe\">\n  <thead>\n    <tr style=\"text-align: right;\">\n      <th></th>\n      <th>elevation</th>\n      <th>tavg</th>\n      <th>tmin</th>\n      <th>tmax</th>\n      <th>prcp</th>\n      <th>snow</th>\n      <th>wdir</th>\n      <th>wspd</th>\n      <th>wpgt</th>\n      <th>station_id_x</th>\n      <th>month</th>\n      <th>year</th>\n    </tr>\n    <tr>\n      <th>OBJECTID</th>\n      <th></th>\n      <th></th>\n      <th></th>\n      <th></th>\n      <th></th>\n      <th></th>\n      <th></th>\n      <th></th>\n      <th></th>\n      <th></th>\n      <th></th>\n      <th></th>\n    </tr>\n  </thead>\n  <tbody>\n    <tr>\n      <th>463445</th>\n      <td>723.0</td>\n      <td>19.4</td>\n      <td>13.3</td>\n      <td>25.6</td>\n      <td>0.5</td>\n      <td>0.0</td>\n      <td>138.000000</td>\n      <td>12.6</td>\n      <td>25.9</td>\n      <td>72785</td>\n      <td>9.0</td>\n      <td>1998.0</td>\n    </tr>\n    <tr>\n      <th>1464479</th>\n      <td>699.0</td>\n      <td>25.3</td>\n      <td>13.3</td>\n      <td>36.1</td>\n      <td>0.0</td>\n      <td>0.0</td>\n      <td>30.750000</td>\n      <td>10.8</td>\n      <td>27.7</td>\n      <td>72768</td>\n      <td>8.0</td>\n      <td>2011.0</td>\n    </tr>\n    <tr>\n      <th>1591094</th>\n      <td>563.0</td>\n      <td>20.8</td>\n      <td>12.8</td>\n      <td>26.7</td>\n      <td>9.7</td>\n      <td>0.0</td>\n      <td>163.333333</td>\n      <td>24.1</td>\n      <td>24.1</td>\n      <td>72552</td>\n      <td>5.0</td>\n      <td>2012.0</td>\n    </tr>\n    <tr>\n      <th>944726</th>\n      <td>95.0</td>\n      <td>-0.6</td>\n      <td>-6.7</td>\n      <td>5.0</td>\n      <td>0.0</td>\n      <td>0.0</td>\n      <td>310.285714</td>\n      <td>15.1</td>\n      <td>48.2</td>\n      <td>72403</td>\n      <td>1.0</td>\n      <td>2002.0</td>\n    </tr>\n    <tr>\n      <th>896277</th>\n      <td>2.0</td>\n      <td>25.6</td>\n      <td>20.6</td>\n      <td>30.6</td>\n      <td>0.0</td>\n      <td>0.0</td>\n      <td>143.000000</td>\n      <td>14.8</td>\n      <td>44.3</td>\n      <td>72231</td>\n      <td>5.0</td>\n      <td>2002.0</td>\n    </tr>\n  </tbody>\n</table>\n</div>"
     },
     "execution_count": 25,
     "metadata": {},
     "output_type": "execute_result"
    }
   ],
   "source": [
    "met_data = met_data.loc[:, weather_keep_cols]\n",
    "\n",
    "met_data.head()"
   ],
   "metadata": {
    "collapsed": false,
    "pycharm": {
     "name": "#%%\n"
    }
   }
  },
  {
   "cell_type": "markdown",
   "source": [
    "So the processed weather data is stored in the 'met_data' dataframe, which is indexed by the fires' 'OBJECTID' and is formatted as follows:"
   ],
   "metadata": {
    "collapsed": false,
    "pycharm": {
     "name": "#%% md\n"
    }
   }
  },
  {
   "cell_type": "code",
   "execution_count": 26,
   "outputs": [
    {
     "data": {
      "text/plain": "          elevation  tavg  tmin  tmax  prcp  snow        wdir  wspd  wpgt  \\\nOBJECTID                                                                    \n463445        723.0  19.4  13.3  25.6   0.5   0.0  138.000000  12.6  25.9   \n1464479       699.0  25.3  13.3  36.1   0.0   0.0   30.750000  10.8  27.7   \n1591094       563.0  20.8  12.8  26.7   9.7   0.0  163.333333  24.1  24.1   \n944726         95.0  -0.6  -6.7   5.0   0.0   0.0  310.285714  15.1  48.2   \n896277          2.0  25.6  20.6  30.6   0.0   0.0  143.000000  14.8  44.3   \n\n         station_id_x  month    year  \nOBJECTID                              \n463445          72785    9.0  1998.0  \n1464479         72768    8.0  2011.0  \n1591094         72552    5.0  2012.0  \n944726          72403    1.0  2002.0  \n896277          72231    5.0  2002.0  ",
      "text/html": "<div>\n<style scoped>\n    .dataframe tbody tr th:only-of-type {\n        vertical-align: middle;\n    }\n\n    .dataframe tbody tr th {\n        vertical-align: top;\n    }\n\n    .dataframe thead th {\n        text-align: right;\n    }\n</style>\n<table border=\"1\" class=\"dataframe\">\n  <thead>\n    <tr style=\"text-align: right;\">\n      <th></th>\n      <th>elevation</th>\n      <th>tavg</th>\n      <th>tmin</th>\n      <th>tmax</th>\n      <th>prcp</th>\n      <th>snow</th>\n      <th>wdir</th>\n      <th>wspd</th>\n      <th>wpgt</th>\n      <th>station_id_x</th>\n      <th>month</th>\n      <th>year</th>\n    </tr>\n    <tr>\n      <th>OBJECTID</th>\n      <th></th>\n      <th></th>\n      <th></th>\n      <th></th>\n      <th></th>\n      <th></th>\n      <th></th>\n      <th></th>\n      <th></th>\n      <th></th>\n      <th></th>\n      <th></th>\n    </tr>\n  </thead>\n  <tbody>\n    <tr>\n      <th>463445</th>\n      <td>723.0</td>\n      <td>19.4</td>\n      <td>13.3</td>\n      <td>25.6</td>\n      <td>0.5</td>\n      <td>0.0</td>\n      <td>138.000000</td>\n      <td>12.6</td>\n      <td>25.9</td>\n      <td>72785</td>\n      <td>9.0</td>\n      <td>1998.0</td>\n    </tr>\n    <tr>\n      <th>1464479</th>\n      <td>699.0</td>\n      <td>25.3</td>\n      <td>13.3</td>\n      <td>36.1</td>\n      <td>0.0</td>\n      <td>0.0</td>\n      <td>30.750000</td>\n      <td>10.8</td>\n      <td>27.7</td>\n      <td>72768</td>\n      <td>8.0</td>\n      <td>2011.0</td>\n    </tr>\n    <tr>\n      <th>1591094</th>\n      <td>563.0</td>\n      <td>20.8</td>\n      <td>12.8</td>\n      <td>26.7</td>\n      <td>9.7</td>\n      <td>0.0</td>\n      <td>163.333333</td>\n      <td>24.1</td>\n      <td>24.1</td>\n      <td>72552</td>\n      <td>5.0</td>\n      <td>2012.0</td>\n    </tr>\n    <tr>\n      <th>944726</th>\n      <td>95.0</td>\n      <td>-0.6</td>\n      <td>-6.7</td>\n      <td>5.0</td>\n      <td>0.0</td>\n      <td>0.0</td>\n      <td>310.285714</td>\n      <td>15.1</td>\n      <td>48.2</td>\n      <td>72403</td>\n      <td>1.0</td>\n      <td>2002.0</td>\n    </tr>\n    <tr>\n      <th>896277</th>\n      <td>2.0</td>\n      <td>25.6</td>\n      <td>20.6</td>\n      <td>30.6</td>\n      <td>0.0</td>\n      <td>0.0</td>\n      <td>143.000000</td>\n      <td>14.8</td>\n      <td>44.3</td>\n      <td>72231</td>\n      <td>5.0</td>\n      <td>2002.0</td>\n    </tr>\n  </tbody>\n</table>\n</div>"
     },
     "execution_count": 26,
     "metadata": {},
     "output_type": "execute_result"
    }
   ],
   "source": [
    "met_data.head()"
   ],
   "metadata": {
    "collapsed": false,
    "pycharm": {
     "name": "#%%\n"
    }
   }
  },
  {
   "cell_type": "code",
   "execution_count": 27,
   "outputs": [
    {
     "data": {
      "text/plain": "   OBJECTID   LATITUDE   LONGITUDE SOURCE_SYSTEM_TYPE  FIRE_YEAR  FIRE_SIZE  \\\n0    463445  47.600845 -116.306789             NONFED       1998        2.0   \n1   1464479  48.403300 -108.289600                FED       2011        0.1   \n2   1591094  40.668460  -99.089130             NONFED       2012        1.5   \n3    944726  39.000000  -78.269200             NONFED       2002        2.0   \n4    896277  30.993300  -89.863900             NONFED       2002        5.0   \n\n   DISCOVERY_DOY  OWNER_CODE     Gacc    UnitType  ...  tmin  tmax  prcp snow  \\\n0            260        14.0  USUTGBC    US State  ...  13.3  25.6   0.5  0.0   \n1            234         8.0  USMTNRC  US Federal  ...  13.3  36.1   0.0  0.0   \n2            140        14.0  USCORMC    US State  ...  12.8  26.7   9.7  0.0   \n3              4        14.0  USGASAC    US State  ...  -6.7   5.0   0.0  0.0   \n4            136        14.0  USGASAC    US State  ...  20.6  30.6   0.0  0.0   \n\n         wdir  wspd  wpgt  station_id_x  month    year  \n0  138.000000  12.6  25.9         72785    9.0  1998.0  \n1   30.750000  10.8  27.7         72768    8.0  2011.0  \n2  163.333333  24.1  24.1         72552    5.0  2012.0  \n3  310.285714  15.1  48.2         72403    1.0  2002.0  \n4  143.000000  14.8  44.3         72231    5.0  2002.0  \n\n[5 rows x 26 columns]",
      "text/html": "<div>\n<style scoped>\n    .dataframe tbody tr th:only-of-type {\n        vertical-align: middle;\n    }\n\n    .dataframe tbody tr th {\n        vertical-align: top;\n    }\n\n    .dataframe thead th {\n        text-align: right;\n    }\n</style>\n<table border=\"1\" class=\"dataframe\">\n  <thead>\n    <tr style=\"text-align: right;\">\n      <th></th>\n      <th>OBJECTID</th>\n      <th>LATITUDE</th>\n      <th>LONGITUDE</th>\n      <th>SOURCE_SYSTEM_TYPE</th>\n      <th>FIRE_YEAR</th>\n      <th>FIRE_SIZE</th>\n      <th>DISCOVERY_DOY</th>\n      <th>OWNER_CODE</th>\n      <th>Gacc</th>\n      <th>UnitType</th>\n      <th>...</th>\n      <th>tmin</th>\n      <th>tmax</th>\n      <th>prcp</th>\n      <th>snow</th>\n      <th>wdir</th>\n      <th>wspd</th>\n      <th>wpgt</th>\n      <th>station_id_x</th>\n      <th>month</th>\n      <th>year</th>\n    </tr>\n  </thead>\n  <tbody>\n    <tr>\n      <th>0</th>\n      <td>463445</td>\n      <td>47.600845</td>\n      <td>-116.306789</td>\n      <td>NONFED</td>\n      <td>1998</td>\n      <td>2.0</td>\n      <td>260</td>\n      <td>14.0</td>\n      <td>USUTGBC</td>\n      <td>US State</td>\n      <td>...</td>\n      <td>13.3</td>\n      <td>25.6</td>\n      <td>0.5</td>\n      <td>0.0</td>\n      <td>138.000000</td>\n      <td>12.6</td>\n      <td>25.9</td>\n      <td>72785</td>\n      <td>9.0</td>\n      <td>1998.0</td>\n    </tr>\n    <tr>\n      <th>1</th>\n      <td>1464479</td>\n      <td>48.403300</td>\n      <td>-108.289600</td>\n      <td>FED</td>\n      <td>2011</td>\n      <td>0.1</td>\n      <td>234</td>\n      <td>8.0</td>\n      <td>USMTNRC</td>\n      <td>US Federal</td>\n      <td>...</td>\n      <td>13.3</td>\n      <td>36.1</td>\n      <td>0.0</td>\n      <td>0.0</td>\n      <td>30.750000</td>\n      <td>10.8</td>\n      <td>27.7</td>\n      <td>72768</td>\n      <td>8.0</td>\n      <td>2011.0</td>\n    </tr>\n    <tr>\n      <th>2</th>\n      <td>1591094</td>\n      <td>40.668460</td>\n      <td>-99.089130</td>\n      <td>NONFED</td>\n      <td>2012</td>\n      <td>1.5</td>\n      <td>140</td>\n      <td>14.0</td>\n      <td>USCORMC</td>\n      <td>US State</td>\n      <td>...</td>\n      <td>12.8</td>\n      <td>26.7</td>\n      <td>9.7</td>\n      <td>0.0</td>\n      <td>163.333333</td>\n      <td>24.1</td>\n      <td>24.1</td>\n      <td>72552</td>\n      <td>5.0</td>\n      <td>2012.0</td>\n    </tr>\n    <tr>\n      <th>3</th>\n      <td>944726</td>\n      <td>39.000000</td>\n      <td>-78.269200</td>\n      <td>NONFED</td>\n      <td>2002</td>\n      <td>2.0</td>\n      <td>4</td>\n      <td>14.0</td>\n      <td>USGASAC</td>\n      <td>US State</td>\n      <td>...</td>\n      <td>-6.7</td>\n      <td>5.0</td>\n      <td>0.0</td>\n      <td>0.0</td>\n      <td>310.285714</td>\n      <td>15.1</td>\n      <td>48.2</td>\n      <td>72403</td>\n      <td>1.0</td>\n      <td>2002.0</td>\n    </tr>\n    <tr>\n      <th>4</th>\n      <td>896277</td>\n      <td>30.993300</td>\n      <td>-89.863900</td>\n      <td>NONFED</td>\n      <td>2002</td>\n      <td>5.0</td>\n      <td>136</td>\n      <td>14.0</td>\n      <td>USGASAC</td>\n      <td>US State</td>\n      <td>...</td>\n      <td>20.6</td>\n      <td>30.6</td>\n      <td>0.0</td>\n      <td>0.0</td>\n      <td>143.000000</td>\n      <td>14.8</td>\n      <td>44.3</td>\n      <td>72231</td>\n      <td>5.0</td>\n      <td>2002.0</td>\n    </tr>\n  </tbody>\n</table>\n<p>5 rows × 26 columns</p>\n</div>"
     },
     "execution_count": 27,
     "metadata": {},
     "output_type": "execute_result"
    }
   ],
   "source": [
    "# plugging the weather data to the fires data\n",
    "data_df = data_df.merge(met_data, how='left', on='OBJECTID')\n",
    "\n",
    "data_df.head()"
   ],
   "metadata": {
    "collapsed": false,
    "pycharm": {
     "name": "#%%\n"
    }
   }
  },
  {
   "cell_type": "code",
   "execution_count": 28,
   "outputs": [],
   "source": [
    "# storing the months and years for imputation\n",
    "data_df['month'] = pd.to_datetime(data_df['DISCOVERY_DATE'] - pd.Timestamp(0).to_julian_date(), unit='D')\n",
    "data_df['year'] = pd.to_datetime(data_df['DISCOVERY_DATE'] - pd.Timestamp(0).to_julian_date(), unit='D')\n",
    "\n",
    "data_df['month'] = data_df['month'].apply(lambda x: x.month)\n",
    "data_df['year'] = data_df['year'].apply(lambda x: x.year)"
   ],
   "metadata": {
    "collapsed": false,
    "pycharm": {
     "name": "#%%\n"
    }
   }
  },
  {
   "cell_type": "markdown",
   "source": [
    "### Adding parks data ###\n",
    "***\n",
    "For each state in the data, we add the number of national parks in that state.\n",
    "\n",
    "The mentioned information was taken from wikipedia and stored in a .csv file, formatted as follows:"
   ],
   "metadata": {
    "collapsed": false,
    "pycharm": {
     "name": "#%% md\n"
    }
   }
  },
  {
   "cell_type": "code",
   "execution_count": 29,
   "outputs": [
    {
     "data": {
      "text/plain": "  STATE  Total parks\n0    CA            9\n1    AK            8\n2    UT            5\n3    CO            4\n4    AZ            3",
      "text/html": "<div>\n<style scoped>\n    .dataframe tbody tr th:only-of-type {\n        vertical-align: middle;\n    }\n\n    .dataframe tbody tr th {\n        vertical-align: top;\n    }\n\n    .dataframe thead th {\n        text-align: right;\n    }\n</style>\n<table border=\"1\" class=\"dataframe\">\n  <thead>\n    <tr style=\"text-align: right;\">\n      <th></th>\n      <th>STATE</th>\n      <th>Total parks</th>\n    </tr>\n  </thead>\n  <tbody>\n    <tr>\n      <th>0</th>\n      <td>CA</td>\n      <td>9</td>\n    </tr>\n    <tr>\n      <th>1</th>\n      <td>AK</td>\n      <td>8</td>\n    </tr>\n    <tr>\n      <th>2</th>\n      <td>UT</td>\n      <td>5</td>\n    </tr>\n    <tr>\n      <th>3</th>\n      <td>CO</td>\n      <td>4</td>\n    </tr>\n    <tr>\n      <th>4</th>\n      <td>AZ</td>\n      <td>3</td>\n    </tr>\n  </tbody>\n</table>\n</div>"
     },
     "execution_count": 29,
     "metadata": {},
     "output_type": "execute_result"
    }
   ],
   "source": [
    "parks_data.head()"
   ],
   "metadata": {
    "collapsed": false,
    "pycharm": {
     "name": "#%%\n"
    }
   }
  },
  {
   "cell_type": "code",
   "execution_count": 30,
   "outputs": [
    {
     "data": {
      "text/plain": "   OBJECTID   LATITUDE   LONGITUDE SOURCE_SYSTEM_TYPE  FIRE_YEAR  FIRE_SIZE  \\\n0    463445  47.600845 -116.306789             NONFED       1998        2.0   \n1   1464479  48.403300 -108.289600                FED       2011        0.1   \n2   1591094  40.668460  -99.089130             NONFED       2012        1.5   \n3    944726  39.000000  -78.269200             NONFED       2002        2.0   \n4    896277  30.993300  -89.863900             NONFED       2002        5.0   \n\n   DISCOVERY_DOY  OWNER_CODE     Gacc    UnitType  ...  tmax prcp  snow  \\\n0            260        14.0  USUTGBC    US State  ...  25.6  0.5   0.0   \n1            234         8.0  USMTNRC  US Federal  ...  36.1  0.0   0.0   \n2            140        14.0  USCORMC    US State  ...  26.7  9.7   0.0   \n3              4        14.0  USGASAC    US State  ...   5.0  0.0   0.0   \n4            136        14.0  USGASAC    US State  ...  30.6  0.0   0.0   \n\n         wdir  wspd  wpgt  station_id_x  month  year  Total parks  \n0  138.000000  12.6  25.9         72785      9  1998          1.0  \n1   30.750000  10.8  27.7         72768      8  2011          2.0  \n2  163.333333  24.1  24.1         72552      5  2012          0.0  \n3  310.285714  15.1  48.2         72403      1  2002          1.0  \n4  143.000000  14.8  44.3         72231      5  2002          0.0  \n\n[5 rows x 27 columns]",
      "text/html": "<div>\n<style scoped>\n    .dataframe tbody tr th:only-of-type {\n        vertical-align: middle;\n    }\n\n    .dataframe tbody tr th {\n        vertical-align: top;\n    }\n\n    .dataframe thead th {\n        text-align: right;\n    }\n</style>\n<table border=\"1\" class=\"dataframe\">\n  <thead>\n    <tr style=\"text-align: right;\">\n      <th></th>\n      <th>OBJECTID</th>\n      <th>LATITUDE</th>\n      <th>LONGITUDE</th>\n      <th>SOURCE_SYSTEM_TYPE</th>\n      <th>FIRE_YEAR</th>\n      <th>FIRE_SIZE</th>\n      <th>DISCOVERY_DOY</th>\n      <th>OWNER_CODE</th>\n      <th>Gacc</th>\n      <th>UnitType</th>\n      <th>...</th>\n      <th>tmax</th>\n      <th>prcp</th>\n      <th>snow</th>\n      <th>wdir</th>\n      <th>wspd</th>\n      <th>wpgt</th>\n      <th>station_id_x</th>\n      <th>month</th>\n      <th>year</th>\n      <th>Total parks</th>\n    </tr>\n  </thead>\n  <tbody>\n    <tr>\n      <th>0</th>\n      <td>463445</td>\n      <td>47.600845</td>\n      <td>-116.306789</td>\n      <td>NONFED</td>\n      <td>1998</td>\n      <td>2.0</td>\n      <td>260</td>\n      <td>14.0</td>\n      <td>USUTGBC</td>\n      <td>US State</td>\n      <td>...</td>\n      <td>25.6</td>\n      <td>0.5</td>\n      <td>0.0</td>\n      <td>138.000000</td>\n      <td>12.6</td>\n      <td>25.9</td>\n      <td>72785</td>\n      <td>9</td>\n      <td>1998</td>\n      <td>1.0</td>\n    </tr>\n    <tr>\n      <th>1</th>\n      <td>1464479</td>\n      <td>48.403300</td>\n      <td>-108.289600</td>\n      <td>FED</td>\n      <td>2011</td>\n      <td>0.1</td>\n      <td>234</td>\n      <td>8.0</td>\n      <td>USMTNRC</td>\n      <td>US Federal</td>\n      <td>...</td>\n      <td>36.1</td>\n      <td>0.0</td>\n      <td>0.0</td>\n      <td>30.750000</td>\n      <td>10.8</td>\n      <td>27.7</td>\n      <td>72768</td>\n      <td>8</td>\n      <td>2011</td>\n      <td>2.0</td>\n    </tr>\n    <tr>\n      <th>2</th>\n      <td>1591094</td>\n      <td>40.668460</td>\n      <td>-99.089130</td>\n      <td>NONFED</td>\n      <td>2012</td>\n      <td>1.5</td>\n      <td>140</td>\n      <td>14.0</td>\n      <td>USCORMC</td>\n      <td>US State</td>\n      <td>...</td>\n      <td>26.7</td>\n      <td>9.7</td>\n      <td>0.0</td>\n      <td>163.333333</td>\n      <td>24.1</td>\n      <td>24.1</td>\n      <td>72552</td>\n      <td>5</td>\n      <td>2012</td>\n      <td>0.0</td>\n    </tr>\n    <tr>\n      <th>3</th>\n      <td>944726</td>\n      <td>39.000000</td>\n      <td>-78.269200</td>\n      <td>NONFED</td>\n      <td>2002</td>\n      <td>2.0</td>\n      <td>4</td>\n      <td>14.0</td>\n      <td>USGASAC</td>\n      <td>US State</td>\n      <td>...</td>\n      <td>5.0</td>\n      <td>0.0</td>\n      <td>0.0</td>\n      <td>310.285714</td>\n      <td>15.1</td>\n      <td>48.2</td>\n      <td>72403</td>\n      <td>1</td>\n      <td>2002</td>\n      <td>1.0</td>\n    </tr>\n    <tr>\n      <th>4</th>\n      <td>896277</td>\n      <td>30.993300</td>\n      <td>-89.863900</td>\n      <td>NONFED</td>\n      <td>2002</td>\n      <td>5.0</td>\n      <td>136</td>\n      <td>14.0</td>\n      <td>USGASAC</td>\n      <td>US State</td>\n      <td>...</td>\n      <td>30.6</td>\n      <td>0.0</td>\n      <td>0.0</td>\n      <td>143.000000</td>\n      <td>14.8</td>\n      <td>44.3</td>\n      <td>72231</td>\n      <td>5</td>\n      <td>2002</td>\n      <td>0.0</td>\n    </tr>\n  </tbody>\n</table>\n<p>5 rows × 27 columns</p>\n</div>"
     },
     "execution_count": 30,
     "metadata": {},
     "output_type": "execute_result"
    }
   ],
   "source": [
    "data_df = data_df.merge(parks_data, how='left', on='STATE')\n",
    "data_df['Total parks'] = data_df['Total parks'].fillna(0)\n",
    "\n",
    "data_df.head()"
   ],
   "metadata": {
    "collapsed": false,
    "pycharm": {
     "name": "#%%\n"
    }
   }
  },
  {
   "cell_type": "markdown",
   "source": [
    "### Handling missing values ###\n",
    "***\n",
    "Let us explore quantity of missing values for each feature:"
   ],
   "metadata": {
    "collapsed": false,
    "pycharm": {
     "name": "#%% md\n"
    }
   }
  },
  {
   "cell_type": "code",
   "execution_count": 31,
   "outputs": [
    {
     "data": {
      "text/plain": "<Figure size 1000x800 with 1 Axes>",
      "image/png": "[encoded data removed]"
     },
     "metadata": {},
     "output_type": "display_data"
    }
   ],
   "source": [
    "na_cols = {}\n",
    "na_count = 0\n",
    "\n",
    "for col_name in data_df.columns:\n",
    "    na_count = data_df[col_name].isna().sum()\n",
    "\n",
    "    if na_count > 0:\n",
    "        na_cols.update({col_name: na_count})\n",
    "\n",
    "na_count_df = pd.Series(na_cols).sort_values()\n",
    "\n",
    "fig, ax = plt.subplots(figsize=(10,8))\n",
    "ax.tick_params(rotation=60, axis='x')\n",
    "\n",
    "try:\n",
    "    sns.barplot(x=na_count_df.index, y=na_count_df, ax=ax)\n",
    "except Exception:\n",
    "    print(na_count_df)"
   ],
   "metadata": {
    "collapsed": false,
    "pycharm": {
     "name": "#%%\n"
    }
   }
  },
  {
   "cell_type": "markdown",
   "source": [
    "As visible in the above plot, missing values exist in the weather cols, as well as in the 'UnitType' and 'Gacc'.\n",
    "\n",
    "It is important to note that the imputation is done separately on the train and test sets to avoid information leakage. Hence, as a first step - we split the data to train and test sets. In a later stage, when we process the Categorical data using one-hot encoding we would want to use the full data to avoid feature mismatch between the train and test sets. Having said that, we wish to stress out that the train and test sets are determined only once and only in this section. Even if we use the full data in later stages, we do so in a leakage-safe manner, where the train and test sets contain the same samples throughout the entire process.\n",
    "\n",
    "First, we deal with the missing values in the 'Gacc' column:"
   ],
   "metadata": {
    "collapsed": false,
    "pycharm": {
     "name": "#%% md\n"
    }
   }
  },
  {
   "cell_type": "code",
   "execution_count": 32,
   "outputs": [],
   "source": [
    "data_df.set_index('OBJECTID', inplace=True)"
   ],
   "metadata": {
    "collapsed": false,
    "pycharm": {
     "name": "#%%\n"
    }
   }
  },
  {
   "cell_type": "code",
   "execution_count": 33,
   "outputs": [],
   "source": [
    "from sklearn.model_selection import train_test_split\n",
    "\n",
    "if fires_train_path is None:\n",
    "    train_data, test_data = train_test_split(data_df, test_size=0.25, stratify=data_df[['STAT_CAUSE_DESCR']])\n",
    "else:\n",
    "    fires_train_df.set_index('OBJECTID', inplace=True)\n",
    "    fires_test_df.set_index('OBJECTID', inplace=True)\n",
    "\n",
    "    train_data = data_df.loc[fires_train_df.index, :]\n",
    "    test_data = data_df.loc[fires_test_df.index, :]\n",
    "\n",
    "train_ind = train_data.index"
   ],
   "metadata": {
    "collapsed": false,
    "pycharm": {
     "name": "#%%\n"
    }
   }
  },
  {
   "cell_type": "markdown",
   "source": [
    "Recall that the 'Gacc' column contains unique codes for geographic areas in the U.S.\n",
    "\n",
    "Hence, after splitting the data to train and test sets, we use the train data to compute the mean LATITUDE and LONGITUDE for each 'Gacc' code - thus, obtaining the 'center' of each 'Gacc':"
   ],
   "metadata": {
    "collapsed": false,
    "pycharm": {
     "name": "#%% md\n"
    }
   }
  },
  {
   "cell_type": "code",
   "execution_count": 34,
   "outputs": [
    {
     "data": {
      "text/plain": "           LATITUDE   LONGITUDE\nGacc                           \nUSAKACC   62.984958 -149.181153\nUSCAONCC  39.712788 -122.049203\nUSCAOSCC  35.537914 -118.737793\nUSCORMC   41.428377 -103.464932\nUSGASAC   33.000264  -86.657697\nUSMTNRC   47.194975 -110.015555\nUSNMSWC   34.232093 -109.506430\nUSORNWC   45.145643 -120.870582\nUSUTGBC   40.866351 -113.934003\nUSWIEACC  42.549627  -81.876405",
      "text/html": "<div>\n<style scoped>\n    .dataframe tbody tr th:only-of-type {\n        vertical-align: middle;\n    }\n\n    .dataframe tbody tr th {\n        vertical-align: top;\n    }\n\n    .dataframe thead th {\n        text-align: right;\n    }\n</style>\n<table border=\"1\" class=\"dataframe\">\n  <thead>\n    <tr style=\"text-align: right;\">\n      <th></th>\n      <th>LATITUDE</th>\n      <th>LONGITUDE</th>\n    </tr>\n    <tr>\n      <th>Gacc</th>\n      <th></th>\n      <th></th>\n    </tr>\n  </thead>\n  <tbody>\n    <tr>\n      <th>USAKACC</th>\n      <td>62.984958</td>\n      <td>-149.181153</td>\n    </tr>\n    <tr>\n      <th>USCAONCC</th>\n      <td>39.712788</td>\n      <td>-122.049203</td>\n    </tr>\n    <tr>\n      <th>USCAOSCC</th>\n      <td>35.537914</td>\n      <td>-118.737793</td>\n    </tr>\n    <tr>\n      <th>USCORMC</th>\n      <td>41.428377</td>\n      <td>-103.464932</td>\n    </tr>\n    <tr>\n      <th>USGASAC</th>\n      <td>33.000264</td>\n      <td>-86.657697</td>\n    </tr>\n    <tr>\n      <th>USMTNRC</th>\n      <td>47.194975</td>\n      <td>-110.015555</td>\n    </tr>\n    <tr>\n      <th>USNMSWC</th>\n      <td>34.232093</td>\n      <td>-109.506430</td>\n    </tr>\n    <tr>\n      <th>USORNWC</th>\n      <td>45.145643</td>\n      <td>-120.870582</td>\n    </tr>\n    <tr>\n      <th>USUTGBC</th>\n      <td>40.866351</td>\n      <td>-113.934003</td>\n    </tr>\n    <tr>\n      <th>USWIEACC</th>\n      <td>42.549627</td>\n      <td>-81.876405</td>\n    </tr>\n  </tbody>\n</table>\n</div>"
     },
     "execution_count": 34,
     "metadata": {},
     "output_type": "execute_result"
    }
   ],
   "source": [
    "gacc_df = gacc_df.loc[train_ind, :].groupby('Gacc').mean()\n",
    "\n",
    "gacc_df"
   ],
   "metadata": {
    "collapsed": false,
    "pycharm": {
     "name": "#%%\n"
    }
   }
  },
  {
   "cell_type": "markdown",
   "source": [
    "Following similar logic as before, we convert the coordinates to radians and compute the Haversine distance between the above centers and the coordinates of the fires with missing 'Gacc' values:\n",
    "#### $D\\left(x,y\\right)=2\\cdot arcsin\\left[\\sqrt{sin^{2}\\left(\\left(x_{1}-y_{1}\\right)\\slash2\\right)+cos\\left(x_{1}\\right)cos\\left(y_{1}\\right)sin^{2}\\left(\\left(x_{2}-y_{2}\\right)\\slash2\\right)}\\right]$ ####"
   ],
   "metadata": {
    "collapsed": false,
    "pycharm": {
     "name": "#%% md\n"
    }
   }
  },
  {
   "cell_type": "code",
   "execution_count": 35,
   "outputs": [
    {
     "data": {
      "text/plain": "          LATITUDE  LONGITUDE\nGacc                         \nUSAKACC   1.099295  -2.603702\nUSCAONCC  0.693119  -2.130160\nUSCAOSCC  0.620254  -2.072365\nUSCORMC   0.723062  -1.805804\nUSGASAC   0.575963  -1.512462\nUSMTNRC   0.823708  -1.920134\nUSNMSWC   0.597463  -1.911248\nUSORNWC   0.787940  -2.109590\nUSUTGBC   0.713252  -1.988523\nUSWIEACC  0.742631  -1.429013",
      "text/html": "<div>\n<style scoped>\n    .dataframe tbody tr th:only-of-type {\n        vertical-align: middle;\n    }\n\n    .dataframe tbody tr th {\n        vertical-align: top;\n    }\n\n    .dataframe thead th {\n        text-align: right;\n    }\n</style>\n<table border=\"1\" class=\"dataframe\">\n  <thead>\n    <tr style=\"text-align: right;\">\n      <th></th>\n      <th>LATITUDE</th>\n      <th>LONGITUDE</th>\n    </tr>\n    <tr>\n      <th>Gacc</th>\n      <th></th>\n      <th></th>\n    </tr>\n  </thead>\n  <tbody>\n    <tr>\n      <th>USAKACC</th>\n      <td>1.099295</td>\n      <td>-2.603702</td>\n    </tr>\n    <tr>\n      <th>USCAONCC</th>\n      <td>0.693119</td>\n      <td>-2.130160</td>\n    </tr>\n    <tr>\n      <th>USCAOSCC</th>\n      <td>0.620254</td>\n      <td>-2.072365</td>\n    </tr>\n    <tr>\n      <th>USCORMC</th>\n      <td>0.723062</td>\n      <td>-1.805804</td>\n    </tr>\n    <tr>\n      <th>USGASAC</th>\n      <td>0.575963</td>\n      <td>-1.512462</td>\n    </tr>\n    <tr>\n      <th>USMTNRC</th>\n      <td>0.823708</td>\n      <td>-1.920134</td>\n    </tr>\n    <tr>\n      <th>USNMSWC</th>\n      <td>0.597463</td>\n      <td>-1.911248</td>\n    </tr>\n    <tr>\n      <th>USORNWC</th>\n      <td>0.787940</td>\n      <td>-2.109590</td>\n    </tr>\n    <tr>\n      <th>USUTGBC</th>\n      <td>0.713252</td>\n      <td>-1.988523</td>\n    </tr>\n    <tr>\n      <th>USWIEACC</th>\n      <td>0.742631</td>\n      <td>-1.429013</td>\n    </tr>\n  </tbody>\n</table>\n</div>"
     },
     "execution_count": 35,
     "metadata": {},
     "output_type": "execute_result"
    }
   ],
   "source": [
    "from math import radians\n",
    "gacc_df['LATITUDE'] = gacc_df['LATITUDE'].apply(radians)\n",
    "gacc_df['LONGITUDE'] = gacc_df['LONGITUDE'].apply(radians)\n",
    "\n",
    "gacc_df"
   ],
   "metadata": {
    "collapsed": false,
    "pycharm": {
     "name": "#%%\n"
    }
   }
  },
  {
   "cell_type": "markdown",
   "source": [
    "After computing the distances between the fires and the centers, we match each fire with missing 'Gacc' with the 'Gacc' who's center is of the highest proximity to the fire.\n",
    "\n",
    "<U> important note: </U> the 'Gacc' centers mentioned above are computed only for the train data, to avoid potential information leakage from the test set to the train set. However, the imputation based on the centers is done on the entire (unsplit) data for convenience and consistency reasons. As the information upon the imputation relies is computed for train samples only, we can be certain the no such leakage occurs here."
   ],
   "metadata": {
    "collapsed": false,
    "pycharm": {
     "name": "#%% md\n"
    }
   }
  },
  {
   "cell_type": "code",
   "execution_count": 36,
   "outputs": [],
   "source": [
    "from sklearn.metrics.pairwise import haversine_distances\n",
    "\n",
    "def fill_gacc(cur_df: pd.DataFrame):\n",
    "    sub_df = cur_df.loc[:, ['LATITUDE', 'LONGITUDE', 'Gacc']]\n",
    "    sub_df = sub_df.loc[sub_df['Gacc'].isna(), :]\n",
    "\n",
    "    sub_df['LATITUDE'] = sub_df['LATITUDE'].apply(radians)\n",
    "    sub_df['LONGITUDE'] = sub_df['LONGITUDE'].apply(radians)\n",
    "\n",
    "    dist_matrix = haversine_distances(sub_df.loc[:, ['LATITUDE', 'LONGITUDE']], gacc_df)\n",
    "    dist_matrix = pd.DataFrame(data=dist_matrix, index=sub_df.index, columns=gacc_df.index)\n",
    "\n",
    "    # filling the missing values\n",
    "    cur_df.loc[sub_df.index, 'Gacc'] = pd.Series(data=dist_matrix.idxmin(axis=1))"
   ],
   "metadata": {
    "collapsed": false,
    "pycharm": {
     "name": "#%%\n"
    }
   }
  },
  {
   "cell_type": "code",
   "execution_count": 37,
   "outputs": [],
   "source": [
    "fill_gacc(data_df)"
   ],
   "metadata": {
    "collapsed": false,
    "pycharm": {
     "name": "#%%\n"
    }
   }
  },
  {
   "cell_type": "markdown",
   "source": [
    "Now, after imputing the 'Gacc' column, we proceed to impute the 'UnitType' column.\n",
    "\n",
    "Note that here as well, the imputation values are computed solely based on the train samples.\n",
    "\n",
    "The imputation for this column is done as follows:\n",
    "1. we compute the relative frequency of each 'UnitType' in the train set and obtain a frequency vector.\n",
    "2. Let $m\\in\\mathbb{N}$ be the number of samples with missing 'UnitType' value. So, we generate a random list of 'UnitType' values of size $m$ and with probabilities matching the frequency vector found in stage1.\n",
    "3. Finally, we assign the relevant samples with the random 'UnitType' values obtained in stage 2."
   ],
   "metadata": {
    "collapsed": false,
    "pycharm": {
     "name": "#%% md\n"
    }
   }
  },
  {
   "cell_type": "code",
   "execution_count": 38,
   "outputs": [
    {
     "data": {
      "text/plain": "UnitType\nInteragency        0.000030\nTribe              0.001903\nUS County/Local    0.046690\nUS Federal         0.260519\nUS State           0.690858\nName: UnitType, dtype: float64"
     },
     "execution_count": 38,
     "metadata": {},
     "output_type": "execute_result"
    }
   ],
   "source": [
    "# filling the unit types\n",
    "unit_type_probs = train_data['UnitType'].groupby(train_data['UnitType']).count() / train_data['UnitType'].count()\n",
    "\n",
    "unit_type_probs"
   ],
   "metadata": {
    "collapsed": false,
    "pycharm": {
     "name": "#%%\n"
    }
   }
  },
  {
   "cell_type": "code",
   "execution_count": 39,
   "outputs": [],
   "source": [
    "missing_unit_type_ind = data_df.loc[data_df['UnitType'].isna(), 'UnitType'].index\n",
    "unit_fill_sr = pd.Series(data=np.random.choice(unit_type_probs.index, size=data_df['UnitType'].isna().sum(), p=unit_type_probs), index=missing_unit_type_ind)\n",
    "\n",
    "data_df.loc[missing_unit_type_ind, 'UnitType'] = unit_fill_sr"
   ],
   "metadata": {
    "collapsed": false,
    "pycharm": {
     "name": "#%%\n"
    }
   }
  },
  {
   "cell_type": "markdown",
   "source": [
    "Now, we impute the weather data.\n",
    "\n",
    "we do so by aggregating the <U>train data</U> by ('STATE', 'month') pairs, we fill the missing values."
   ],
   "metadata": {
    "collapsed": false,
    "pycharm": {
     "name": "#%% md\n"
    }
   }
  },
  {
   "cell_type": "code",
   "execution_count": 40,
   "outputs": [],
   "source": [
    "weather_cols = ['tavg', 'tmin', 'tmax', 'prcp', 'snow', 'wdir', 'wspd', 'wpgt']"
   ],
   "metadata": {
    "collapsed": false,
    "pycharm": {
     "name": "#%%\n"
    }
   }
  },
  {
   "cell_type": "code",
   "execution_count": 41,
   "outputs": [
    {
     "name": "stdout",
     "output_type": "stream",
     "text": [
      "imputed column tavg\n",
      "imputed column tmin\n",
      "imputed column tmax\n",
      "imputed column prcp\n",
      "imputed column snow\n",
      "imputed column wdir\n",
      "imputed column wspd\n",
      "imputed column wpgt\n"
     ]
    }
   ],
   "source": [
    "state_weather_agg = train_data.groupby(['STATE', 'month']).mean()\n",
    "\n",
    "for cur_weather_col in weather_cols:\n",
    "    sub_df = data_df.loc[data_df[cur_weather_col].isna(), ['STATE', 'month', cur_weather_col]]\n",
    "    sub_df[cur_weather_col] = list(zip(sub_df.STATE, sub_df.month))\n",
    "\n",
    "    try:\n",
    "        sub_df[cur_weather_col] = sub_df[cur_weather_col].apply(lambda x: state_weather_agg.loc[x, cur_weather_col])\n",
    "    except KeyError:\n",
    "        continue\n",
    "\n",
    "    data_df.loc[sub_df.index, cur_weather_col] = sub_df.loc[sub_df.index, cur_weather_col]\n",
    "\n",
    "    print(f\"imputed column {cur_weather_col}\")"
   ],
   "metadata": {
    "collapsed": false,
    "pycharm": {
     "name": "#%%\n"
    }
   }
  },
  {
   "cell_type": "code",
   "execution_count": 42,
   "outputs": [
    {
     "name": "stdout",
     "output_type": "stream",
     "text": [
      "col = tavg ; missing values count = 0\n",
      "col = tmin ; missing values count = 0\n",
      "col = tmax ; missing values count = 0\n",
      "col = prcp ; missing values count = 0\n",
      "col = snow ; missing values count = 0\n",
      "col = wdir ; missing values count = 0\n",
      "col = wspd ; missing values count = 0\n",
      "col = wpgt ; missing values count = 0\n"
     ]
    }
   ],
   "source": [
    "for cur_weather_col in weather_cols:\n",
    "    print(f\"col = {cur_weather_col} ; missing values count = {data_df[cur_weather_col].isna().sum()}\")"
   ],
   "metadata": {
    "collapsed": false,
    "pycharm": {
     "name": "#%%\n"
    }
   }
  },
  {
   "cell_type": "code",
   "execution_count": 43,
   "outputs": [],
   "source": [
    "# handling any other missing values in the data, by assigning the mode\n",
    "for cur_col in data_df.columns:\n",
    "    try:\n",
    "        data_df.loc[data_df[cur_col].isna(), cur_col] = train_data[cur_col].mode().item()\n",
    "    except ValueError:\n",
    "        data_df.loc[data_df[cur_col].isna(), cur_col] = 0"
   ],
   "metadata": {
    "collapsed": false,
    "pycharm": {
     "name": "#%%\n"
    }
   }
  },
  {
   "cell_type": "code",
   "execution_count": 44,
   "outputs": [
    {
     "name": "stdout",
     "output_type": "stream",
     "text": [
      "col = tavg ; missing values count = 0\n",
      "col = tmin ; missing values count = 0\n",
      "col = tmax ; missing values count = 0\n",
      "col = prcp ; missing values count = 0\n",
      "col = snow ; missing values count = 0\n",
      "col = wdir ; missing values count = 0\n",
      "col = wspd ; missing values count = 0\n",
      "col = wpgt ; missing values count = 0\n"
     ]
    }
   ],
   "source": [
    "for cur_weather_col in weather_cols:\n",
    "    print(f\"col = {cur_weather_col} ; missing values count = {data_df[cur_weather_col].isna().sum()}\")"
   ],
   "metadata": {
    "collapsed": false,
    "pycharm": {
     "name": "#%%\n"
    }
   }
  },
  {
   "cell_type": "markdown",
   "source": [
    "### Adding aggregate features ###\n",
    "***\n",
    "Let us add the following aggregate features:\n",
    "1. Average number of acres (FIRE_SIZE) consumed by wildfire per Gacc, per year.\n",
    "2. Number of fires per Gacc per year\n",
    "3. Number of fires per reporting unit\n",
    "4. Average temperature per Gacc per year\n",
    "\n",
    "Again, note that the aggregation is done solely on the train data, and only then assigned to the entire (unsplit data). This is done for convenience and consistency reasons as we wish to use the full data in a later stage. So still, no risk of leakage here."
   ],
   "metadata": {
    "collapsed": false,
    "pycharm": {
     "name": "#%% md\n"
    }
   }
  },
  {
   "cell_type": "code",
   "execution_count": 45,
   "outputs": [
    {
     "data": {
      "text/plain": "Gacc      FIRE_YEAR\nUSAKACC   1992         440.398814\n          1993         187.939152\n          1994         308.063574\n          1995         172.150761\n          1996         897.897759\n                          ...    \nUSWIEACC  2011          19.002385\n          2012           8.572208\n          2013           6.487679\n          2014           6.438705\n          2015           6.625270\nName: FIRE_SIZE, Length: 240, dtype: float64"
     },
     "execution_count": 45,
     "metadata": {},
     "output_type": "execute_result"
    }
   ],
   "source": [
    "# aggregating by average acres per Gacc per year\n",
    "agg_df = train_data.groupby(['Gacc', 'FIRE_YEAR']).mean().loc[:, 'FIRE_SIZE']\n",
    "\n",
    "agg_df"
   ],
   "metadata": {
    "collapsed": false,
    "pycharm": {
     "name": "#%%\n"
    }
   }
  },
  {
   "cell_type": "code",
   "execution_count": 46,
   "outputs": [
    {
     "data": {
      "text/plain": "           LATITUDE   LONGITUDE SOURCE_SYSTEM_TYPE  FIRE_YEAR  FIRE_SIZE  \\\nOBJECTID                                                                   \n463445    47.600845 -116.306789             NONFED       1998        2.0   \n1464479   48.403300 -108.289600                FED       2011        0.1   \n1591094   40.668460  -99.089130             NONFED       2012        1.5   \n944726    39.000000  -78.269200             NONFED       2002        2.0   \n896277    30.993300  -89.863900             NONFED       2002        5.0   \n\n          DISCOVERY_DOY  OWNER_CODE     Gacc    UnitType STATE  ... prcp  \\\nOBJECTID                                                        ...        \n463445              260        14.0  USUTGBC    US State    ID  ...  0.5   \n1464479             234         8.0  USMTNRC  US Federal    MT  ...  0.0   \n1591094             140        14.0  USCORMC    US State    NE  ...  9.7   \n944726                4        14.0  USGASAC    US State    VA  ...  0.0   \n896277              136        14.0  USGASAC    US State    LA  ...  0.0   \n\n          snow        wdir  wspd  wpgt  station_id_x  month  year  \\\nOBJECTID                                                            \n463445     0.0  138.000000  12.6  25.9         72785      9  1998   \n1464479    0.0   30.750000  10.8  27.7         72768      8  2011   \n1591094    0.0  163.333333  24.1  24.1         72552      5  2012   \n944726     0.0  310.285714  15.1  48.2         72403      1  2002   \n896277     0.0  143.000000  14.8  44.3         72231      5  2002   \n\n          Total parks  fire_size_mean  \nOBJECTID                               \n463445            1.0       94.659654  \n1464479           2.0      101.710737  \n1591094           0.0       96.368654  \n944726            1.0       12.023816  \n896277            0.0       12.023816  \n\n[5 rows x 27 columns]",
      "text/html": "<div>\n<style scoped>\n    .dataframe tbody tr th:only-of-type {\n        vertical-align: middle;\n    }\n\n    .dataframe tbody tr th {\n        vertical-align: top;\n    }\n\n    .dataframe thead th {\n        text-align: right;\n    }\n</style>\n<table border=\"1\" class=\"dataframe\">\n  <thead>\n    <tr style=\"text-align: right;\">\n      <th></th>\n      <th>LATITUDE</th>\n      <th>LONGITUDE</th>\n      <th>SOURCE_SYSTEM_TYPE</th>\n      <th>FIRE_YEAR</th>\n      <th>FIRE_SIZE</th>\n      <th>DISCOVERY_DOY</th>\n      <th>OWNER_CODE</th>\n      <th>Gacc</th>\n      <th>UnitType</th>\n      <th>STATE</th>\n      <th>...</th>\n      <th>prcp</th>\n      <th>snow</th>\n      <th>wdir</th>\n      <th>wspd</th>\n      <th>wpgt</th>\n      <th>station_id_x</th>\n      <th>month</th>\n      <th>year</th>\n      <th>Total parks</th>\n      <th>fire_size_mean</th>\n    </tr>\n    <tr>\n      <th>OBJECTID</th>\n      <th></th>\n      <th></th>\n      <th></th>\n      <th></th>\n      <th></th>\n      <th></th>\n      <th></th>\n      <th></th>\n      <th></th>\n      <th></th>\n      <th></th>\n      <th></th>\n      <th></th>\n      <th></th>\n      <th></th>\n      <th></th>\n      <th></th>\n      <th></th>\n      <th></th>\n      <th></th>\n      <th></th>\n    </tr>\n  </thead>\n  <tbody>\n    <tr>\n      <th>463445</th>\n      <td>47.600845</td>\n      <td>-116.306789</td>\n      <td>NONFED</td>\n      <td>1998</td>\n      <td>2.0</td>\n      <td>260</td>\n      <td>14.0</td>\n      <td>USUTGBC</td>\n      <td>US State</td>\n      <td>ID</td>\n      <td>...</td>\n      <td>0.5</td>\n      <td>0.0</td>\n      <td>138.000000</td>\n      <td>12.6</td>\n      <td>25.9</td>\n      <td>72785</td>\n      <td>9</td>\n      <td>1998</td>\n      <td>1.0</td>\n      <td>94.659654</td>\n    </tr>\n    <tr>\n      <th>1464479</th>\n      <td>48.403300</td>\n      <td>-108.289600</td>\n      <td>FED</td>\n      <td>2011</td>\n      <td>0.1</td>\n      <td>234</td>\n      <td>8.0</td>\n      <td>USMTNRC</td>\n      <td>US Federal</td>\n      <td>MT</td>\n      <td>...</td>\n      <td>0.0</td>\n      <td>0.0</td>\n      <td>30.750000</td>\n      <td>10.8</td>\n      <td>27.7</td>\n      <td>72768</td>\n      <td>8</td>\n      <td>2011</td>\n      <td>2.0</td>\n      <td>101.710737</td>\n    </tr>\n    <tr>\n      <th>1591094</th>\n      <td>40.668460</td>\n      <td>-99.089130</td>\n      <td>NONFED</td>\n      <td>2012</td>\n      <td>1.5</td>\n      <td>140</td>\n      <td>14.0</td>\n      <td>USCORMC</td>\n      <td>US State</td>\n      <td>NE</td>\n      <td>...</td>\n      <td>9.7</td>\n      <td>0.0</td>\n      <td>163.333333</td>\n      <td>24.1</td>\n      <td>24.1</td>\n      <td>72552</td>\n      <td>5</td>\n      <td>2012</td>\n      <td>0.0</td>\n      <td>96.368654</td>\n    </tr>\n    <tr>\n      <th>944726</th>\n      <td>39.000000</td>\n      <td>-78.269200</td>\n      <td>NONFED</td>\n      <td>2002</td>\n      <td>2.0</td>\n      <td>4</td>\n      <td>14.0</td>\n      <td>USGASAC</td>\n      <td>US State</td>\n      <td>VA</td>\n      <td>...</td>\n      <td>0.0</td>\n      <td>0.0</td>\n      <td>310.285714</td>\n      <td>15.1</td>\n      <td>48.2</td>\n      <td>72403</td>\n      <td>1</td>\n      <td>2002</td>\n      <td>1.0</td>\n      <td>12.023816</td>\n    </tr>\n    <tr>\n      <th>896277</th>\n      <td>30.993300</td>\n      <td>-89.863900</td>\n      <td>NONFED</td>\n      <td>2002</td>\n      <td>5.0</td>\n      <td>136</td>\n      <td>14.0</td>\n      <td>USGASAC</td>\n      <td>US State</td>\n      <td>LA</td>\n      <td>...</td>\n      <td>0.0</td>\n      <td>0.0</td>\n      <td>143.000000</td>\n      <td>14.8</td>\n      <td>44.3</td>\n      <td>72231</td>\n      <td>5</td>\n      <td>2002</td>\n      <td>0.0</td>\n      <td>12.023816</td>\n    </tr>\n  </tbody>\n</table>\n<p>5 rows × 27 columns</p>\n</div>"
     },
     "execution_count": 46,
     "metadata": {},
     "output_type": "execute_result"
    }
   ],
   "source": [
    "data_df['fire_size_mean'] = list(zip(data_df.Gacc, data_df.FIRE_YEAR))\n",
    "data_df['fire_size_mean'] = data_df['fire_size_mean'].apply(lambda x: agg_df.loc[x])\n",
    "\n",
    "data_df.head()"
   ],
   "metadata": {
    "collapsed": false,
    "pycharm": {
     "name": "#%%\n"
    }
   }
  },
  {
   "cell_type": "code",
   "execution_count": 47,
   "outputs": [
    {
     "data": {
      "text/plain": "Gacc      FIRE_YEAR\nUSAKACC   1992          253\n          1993          401\n          1994          291\n          1995          197\n          1996          357\n                       ... \nUSWIEACC  2011         2303\n          2012         3338\n          2013         2275\n          2014         3043\n          2015         4171\nName: OBJECTID, Length: 240, dtype: int64"
     },
     "execution_count": 47,
     "metadata": {},
     "output_type": "execute_result"
    }
   ],
   "source": [
    "# aggregating by count of fires per Gacc per year\n",
    "agg_df = train_data.reset_index(None).groupby(['Gacc', 'FIRE_YEAR']).count().loc[:, 'OBJECTID']\n",
    "\n",
    "agg_df"
   ],
   "metadata": {
    "collapsed": false,
    "pycharm": {
     "name": "#%%\n"
    }
   }
  },
  {
   "cell_type": "code",
   "execution_count": 48,
   "outputs": [
    {
     "data": {
      "text/plain": "           LATITUDE   LONGITUDE SOURCE_SYSTEM_TYPE  FIRE_YEAR  FIRE_SIZE  \\\nOBJECTID                                                                   \n463445    47.600845 -116.306789             NONFED       1998        2.0   \n1464479   48.403300 -108.289600                FED       2011        0.1   \n1591094   40.668460  -99.089130             NONFED       2012        1.5   \n944726    39.000000  -78.269200             NONFED       2002        2.0   \n896277    30.993300  -89.863900             NONFED       2002        5.0   \n\n          DISCOVERY_DOY  OWNER_CODE     Gacc    UnitType STATE  ... snow  \\\nOBJECTID                                                        ...        \n463445              260        14.0  USUTGBC    US State    ID  ...  0.0   \n1464479             234         8.0  USMTNRC  US Federal    MT  ...  0.0   \n1591094             140        14.0  USCORMC    US State    NE  ...  0.0   \n944726                4        14.0  USGASAC    US State    VA  ...  0.0   \n896277              136        14.0  USGASAC    US State    LA  ...  0.0   \n\n                wdir  wspd  wpgt  station_id_x  month  year  Total parks  \\\nOBJECTID                                                                   \n463445    138.000000  12.6  25.9         72785      9  1998          1.0   \n1464479    30.750000  10.8  27.7         72768      8  2011          2.0   \n1591094   163.333333  24.1  24.1         72552      5  2012          0.0   \n944726    310.285714  15.1  48.2         72403      1  2002          1.0   \n896277    143.000000  14.8  44.3         72231      5  2002          0.0   \n\n          fire_size_mean  fire_gacc_count  \nOBJECTID                                   \n463445         94.659654              722  \n1464479       101.710737              434  \n1591094        96.368654             1580  \n944726         12.023816             8893  \n896277         12.023816             8893  \n\n[5 rows x 28 columns]",
      "text/html": "<div>\n<style scoped>\n    .dataframe tbody tr th:only-of-type {\n        vertical-align: middle;\n    }\n\n    .dataframe tbody tr th {\n        vertical-align: top;\n    }\n\n    .dataframe thead th {\n        text-align: right;\n    }\n</style>\n<table border=\"1\" class=\"dataframe\">\n  <thead>\n    <tr style=\"text-align: right;\">\n      <th></th>\n      <th>LATITUDE</th>\n      <th>LONGITUDE</th>\n      <th>SOURCE_SYSTEM_TYPE</th>\n      <th>FIRE_YEAR</th>\n      <th>FIRE_SIZE</th>\n      <th>DISCOVERY_DOY</th>\n      <th>OWNER_CODE</th>\n      <th>Gacc</th>\n      <th>UnitType</th>\n      <th>STATE</th>\n      <th>...</th>\n      <th>snow</th>\n      <th>wdir</th>\n      <th>wspd</th>\n      <th>wpgt</th>\n      <th>station_id_x</th>\n      <th>month</th>\n      <th>year</th>\n      <th>Total parks</th>\n      <th>fire_size_mean</th>\n      <th>fire_gacc_count</th>\n    </tr>\n    <tr>\n      <th>OBJECTID</th>\n      <th></th>\n      <th></th>\n      <th></th>\n      <th></th>\n      <th></th>\n      <th></th>\n      <th></th>\n      <th></th>\n      <th></th>\n      <th></th>\n      <th></th>\n      <th></th>\n      <th></th>\n      <th></th>\n      <th></th>\n      <th></th>\n      <th></th>\n      <th></th>\n      <th></th>\n      <th></th>\n      <th></th>\n    </tr>\n  </thead>\n  <tbody>\n    <tr>\n      <th>463445</th>\n      <td>47.600845</td>\n      <td>-116.306789</td>\n      <td>NONFED</td>\n      <td>1998</td>\n      <td>2.0</td>\n      <td>260</td>\n      <td>14.0</td>\n      <td>USUTGBC</td>\n      <td>US State</td>\n      <td>ID</td>\n      <td>...</td>\n      <td>0.0</td>\n      <td>138.000000</td>\n      <td>12.6</td>\n      <td>25.9</td>\n      <td>72785</td>\n      <td>9</td>\n      <td>1998</td>\n      <td>1.0</td>\n      <td>94.659654</td>\n      <td>722</td>\n    </tr>\n    <tr>\n      <th>1464479</th>\n      <td>48.403300</td>\n      <td>-108.289600</td>\n      <td>FED</td>\n      <td>2011</td>\n      <td>0.1</td>\n      <td>234</td>\n      <td>8.0</td>\n      <td>USMTNRC</td>\n      <td>US Federal</td>\n      <td>MT</td>\n      <td>...</td>\n      <td>0.0</td>\n      <td>30.750000</td>\n      <td>10.8</td>\n      <td>27.7</td>\n      <td>72768</td>\n      <td>8</td>\n      <td>2011</td>\n      <td>2.0</td>\n      <td>101.710737</td>\n      <td>434</td>\n    </tr>\n    <tr>\n      <th>1591094</th>\n      <td>40.668460</td>\n      <td>-99.089130</td>\n      <td>NONFED</td>\n      <td>2012</td>\n      <td>1.5</td>\n      <td>140</td>\n      <td>14.0</td>\n      <td>USCORMC</td>\n      <td>US State</td>\n      <td>NE</td>\n      <td>...</td>\n      <td>0.0</td>\n      <td>163.333333</td>\n      <td>24.1</td>\n      <td>24.1</td>\n      <td>72552</td>\n      <td>5</td>\n      <td>2012</td>\n      <td>0.0</td>\n      <td>96.368654</td>\n      <td>1580</td>\n    </tr>\n    <tr>\n      <th>944726</th>\n      <td>39.000000</td>\n      <td>-78.269200</td>\n      <td>NONFED</td>\n      <td>2002</td>\n      <td>2.0</td>\n      <td>4</td>\n      <td>14.0</td>\n      <td>USGASAC</td>\n      <td>US State</td>\n      <td>VA</td>\n      <td>...</td>\n      <td>0.0</td>\n      <td>310.285714</td>\n      <td>15.1</td>\n      <td>48.2</td>\n      <td>72403</td>\n      <td>1</td>\n      <td>2002</td>\n      <td>1.0</td>\n      <td>12.023816</td>\n      <td>8893</td>\n    </tr>\n    <tr>\n      <th>896277</th>\n      <td>30.993300</td>\n      <td>-89.863900</td>\n      <td>NONFED</td>\n      <td>2002</td>\n      <td>5.0</td>\n      <td>136</td>\n      <td>14.0</td>\n      <td>USGASAC</td>\n      <td>US State</td>\n      <td>LA</td>\n      <td>...</td>\n      <td>0.0</td>\n      <td>143.000000</td>\n      <td>14.8</td>\n      <td>44.3</td>\n      <td>72231</td>\n      <td>5</td>\n      <td>2002</td>\n      <td>0.0</td>\n      <td>12.023816</td>\n      <td>8893</td>\n    </tr>\n  </tbody>\n</table>\n<p>5 rows × 28 columns</p>\n</div>"
     },
     "execution_count": 48,
     "metadata": {},
     "output_type": "execute_result"
    }
   ],
   "source": [
    "data_df['fire_gacc_count'] = list(zip(data_df.Gacc, data_df.FIRE_YEAR))\n",
    "data_df['fire_gacc_count'] = data_df['fire_gacc_count'].apply(lambda x: agg_df.loc[x])\n",
    "\n",
    "data_df.head()"
   ],
   "metadata": {
    "collapsed": false,
    "pycharm": {
     "name": "#%%\n"
    }
   }
  },
  {
   "cell_type": "code",
   "execution_count": 49,
   "outputs": [
    {
     "data": {
      "text/plain": "NWCG_REPORTING_UNIT_ID  FIRE_YEAR\nUSAKACC                 2011         2\nUSAKAKA                 1992         5\n                        1993         2\n                        1994         4\n                        1995         1\n                                    ..\nUSWYYNP                 2010         3\n                        2011         3\n                        2012         3\n                        2013         3\n                        2014         3\nName: OBJECTID, Length: 12239, dtype: int64"
     },
     "execution_count": 49,
     "metadata": {},
     "output_type": "execute_result"
    }
   ],
   "source": [
    "# aggregating by count of fires per unit per year\n",
    "agg_df = train_data.reset_index(None).groupby(['NWCG_REPORTING_UNIT_ID', 'FIRE_YEAR']).count().loc[:, 'OBJECTID']\n",
    "\n",
    "agg_df"
   ],
   "metadata": {
    "collapsed": false,
    "pycharm": {
     "name": "#%%\n"
    }
   }
  },
  {
   "cell_type": "code",
   "execution_count": 50,
   "outputs": [],
   "source": [
    "def fill_units(cur_index):\n",
    "    try:\n",
    "        return agg_df.loc[cur_index]\n",
    "    except KeyError:\n",
    "        return 0"
   ],
   "metadata": {
    "collapsed": false,
    "pycharm": {
     "name": "#%%\n"
    }
   }
  },
  {
   "cell_type": "code",
   "execution_count": 51,
   "outputs": [
    {
     "data": {
      "text/plain": "           LATITUDE   LONGITUDE SOURCE_SYSTEM_TYPE  FIRE_YEAR  FIRE_SIZE  \\\nOBJECTID                                                                   \n463445    47.600845 -116.306789             NONFED       1998        2.0   \n1464479   48.403300 -108.289600                FED       2011        0.1   \n1591094   40.668460  -99.089130             NONFED       2012        1.5   \n944726    39.000000  -78.269200             NONFED       2002        2.0   \n896277    30.993300  -89.863900             NONFED       2002        5.0   \n\n          DISCOVERY_DOY  OWNER_CODE     Gacc    UnitType STATE  ...  \\\nOBJECTID                                                        ...   \n463445              260        14.0  USUTGBC    US State    ID  ...   \n1464479             234         8.0  USMTNRC  US Federal    MT  ...   \n1591094             140        14.0  USCORMC    US State    NE  ...   \n944726                4        14.0  USGASAC    US State    VA  ...   \n896277              136        14.0  USGASAC    US State    LA  ...   \n\n                wdir  wspd  wpgt  station_id_x  month  year  Total parks  \\\nOBJECTID                                                                   \n463445    138.000000  12.6  25.9         72785      9  1998          1.0   \n1464479    30.750000  10.8  27.7         72768      8  2011          2.0   \n1591094   163.333333  24.1  24.1         72552      5  2012          0.0   \n944726    310.285714  15.1  48.2         72403      1  2002          1.0   \n896277    143.000000  14.8  44.3         72231      5  2002          0.0   \n\n          fire_size_mean  fire_gacc_count  fire_unit_count  \nOBJECTID                                                    \n463445         94.659654              722               90  \n1464479       101.710737              434                7  \n1591094        96.368654             1580              262  \n944726         12.023816             8893              366  \n896277         12.023816             8893              333  \n\n[5 rows x 29 columns]",
      "text/html": "<div>\n<style scoped>\n    .dataframe tbody tr th:only-of-type {\n        vertical-align: middle;\n    }\n\n    .dataframe tbody tr th {\n        vertical-align: top;\n    }\n\n    .dataframe thead th {\n        text-align: right;\n    }\n</style>\n<table border=\"1\" class=\"dataframe\">\n  <thead>\n    <tr style=\"text-align: right;\">\n      <th></th>\n      <th>LATITUDE</th>\n      <th>LONGITUDE</th>\n      <th>SOURCE_SYSTEM_TYPE</th>\n      <th>FIRE_YEAR</th>\n      <th>FIRE_SIZE</th>\n      <th>DISCOVERY_DOY</th>\n      <th>OWNER_CODE</th>\n      <th>Gacc</th>\n      <th>UnitType</th>\n      <th>STATE</th>\n      <th>...</th>\n      <th>wdir</th>\n      <th>wspd</th>\n      <th>wpgt</th>\n      <th>station_id_x</th>\n      <th>month</th>\n      <th>year</th>\n      <th>Total parks</th>\n      <th>fire_size_mean</th>\n      <th>fire_gacc_count</th>\n      <th>fire_unit_count</th>\n    </tr>\n    <tr>\n      <th>OBJECTID</th>\n      <th></th>\n      <th></th>\n      <th></th>\n      <th></th>\n      <th></th>\n      <th></th>\n      <th></th>\n      <th></th>\n      <th></th>\n      <th></th>\n      <th></th>\n      <th></th>\n      <th></th>\n      <th></th>\n      <th></th>\n      <th></th>\n      <th></th>\n      <th></th>\n      <th></th>\n      <th></th>\n      <th></th>\n    </tr>\n  </thead>\n  <tbody>\n    <tr>\n      <th>463445</th>\n      <td>47.600845</td>\n      <td>-116.306789</td>\n      <td>NONFED</td>\n      <td>1998</td>\n      <td>2.0</td>\n      <td>260</td>\n      <td>14.0</td>\n      <td>USUTGBC</td>\n      <td>US State</td>\n      <td>ID</td>\n      <td>...</td>\n      <td>138.000000</td>\n      <td>12.6</td>\n      <td>25.9</td>\n      <td>72785</td>\n      <td>9</td>\n      <td>1998</td>\n      <td>1.0</td>\n      <td>94.659654</td>\n      <td>722</td>\n      <td>90</td>\n    </tr>\n    <tr>\n      <th>1464479</th>\n      <td>48.403300</td>\n      <td>-108.289600</td>\n      <td>FED</td>\n      <td>2011</td>\n      <td>0.1</td>\n      <td>234</td>\n      <td>8.0</td>\n      <td>USMTNRC</td>\n      <td>US Federal</td>\n      <td>MT</td>\n      <td>...</td>\n      <td>30.750000</td>\n      <td>10.8</td>\n      <td>27.7</td>\n      <td>72768</td>\n      <td>8</td>\n      <td>2011</td>\n      <td>2.0</td>\n      <td>101.710737</td>\n      <td>434</td>\n      <td>7</td>\n    </tr>\n    <tr>\n      <th>1591094</th>\n      <td>40.668460</td>\n      <td>-99.089130</td>\n      <td>NONFED</td>\n      <td>2012</td>\n      <td>1.5</td>\n      <td>140</td>\n      <td>14.0</td>\n      <td>USCORMC</td>\n      <td>US State</td>\n      <td>NE</td>\n      <td>...</td>\n      <td>163.333333</td>\n      <td>24.1</td>\n      <td>24.1</td>\n      <td>72552</td>\n      <td>5</td>\n      <td>2012</td>\n      <td>0.0</td>\n      <td>96.368654</td>\n      <td>1580</td>\n      <td>262</td>\n    </tr>\n    <tr>\n      <th>944726</th>\n      <td>39.000000</td>\n      <td>-78.269200</td>\n      <td>NONFED</td>\n      <td>2002</td>\n      <td>2.0</td>\n      <td>4</td>\n      <td>14.0</td>\n      <td>USGASAC</td>\n      <td>US State</td>\n      <td>VA</td>\n      <td>...</td>\n      <td>310.285714</td>\n      <td>15.1</td>\n      <td>48.2</td>\n      <td>72403</td>\n      <td>1</td>\n      <td>2002</td>\n      <td>1.0</td>\n      <td>12.023816</td>\n      <td>8893</td>\n      <td>366</td>\n    </tr>\n    <tr>\n      <th>896277</th>\n      <td>30.993300</td>\n      <td>-89.863900</td>\n      <td>NONFED</td>\n      <td>2002</td>\n      <td>5.0</td>\n      <td>136</td>\n      <td>14.0</td>\n      <td>USGASAC</td>\n      <td>US State</td>\n      <td>LA</td>\n      <td>...</td>\n      <td>143.000000</td>\n      <td>14.8</td>\n      <td>44.3</td>\n      <td>72231</td>\n      <td>5</td>\n      <td>2002</td>\n      <td>0.0</td>\n      <td>12.023816</td>\n      <td>8893</td>\n      <td>333</td>\n    </tr>\n  </tbody>\n</table>\n<p>5 rows × 29 columns</p>\n</div>"
     },
     "execution_count": 51,
     "metadata": {},
     "output_type": "execute_result"
    }
   ],
   "source": [
    "data_df['fire_unit_count'] = list(zip(data_df.NWCG_REPORTING_UNIT_ID, data_df.FIRE_YEAR))\n",
    "data_df['fire_unit_count'] = data_df['fire_unit_count'].apply(lambda x: fill_units(x))\n",
    "\n",
    "data_df.head()"
   ],
   "metadata": {
    "collapsed": false,
    "pycharm": {
     "name": "#%%\n"
    }
   }
  },
  {
   "cell_type": "code",
   "execution_count": 52,
   "outputs": [
    {
     "data": {
      "text/plain": "Gacc      FIRE_YEAR\nUSAKACC   1992         12.524993\n          1993         15.412769\n          1994         14.405732\n          1995         12.094875\n          1996         12.058415\n                         ...    \nUSWIEACC  2011         14.633229\n          2012         13.374912\n          2013         12.101567\n          2014         11.912674\n          2015         13.721740\nName: tavg, Length: 240, dtype: float64"
     },
     "execution_count": 52,
     "metadata": {},
     "output_type": "execute_result"
    }
   ],
   "source": [
    "# aggregating by mean of temperature per Gacc per year\n",
    "agg_df = train_data.groupby(['Gacc', 'FIRE_YEAR']).mean().loc[:, 'tavg']\n",
    "\n",
    "agg_df"
   ],
   "metadata": {
    "collapsed": false,
    "pycharm": {
     "name": "#%%\n"
    }
   }
  },
  {
   "cell_type": "code",
   "execution_count": 53,
   "outputs": [
    {
     "data": {
      "text/plain": "           LATITUDE   LONGITUDE SOURCE_SYSTEM_TYPE  FIRE_YEAR  FIRE_SIZE  \\\nOBJECTID                                                                   \n463445    47.600845 -116.306789             NONFED       1998        2.0   \n1464479   48.403300 -108.289600                FED       2011        0.1   \n1591094   40.668460  -99.089130             NONFED       2012        1.5   \n944726    39.000000  -78.269200             NONFED       2002        2.0   \n896277    30.993300  -89.863900             NONFED       2002        5.0   \n\n          DISCOVERY_DOY  OWNER_CODE     Gacc    UnitType STATE  ...  wspd  \\\nOBJECTID                                                        ...         \n463445              260        14.0  USUTGBC    US State    ID  ...  12.6   \n1464479             234         8.0  USMTNRC  US Federal    MT  ...  10.8   \n1591094             140        14.0  USCORMC    US State    NE  ...  24.1   \n944726                4        14.0  USGASAC    US State    VA  ...  15.1   \n896277              136        14.0  USGASAC    US State    LA  ...  14.8   \n\n          wpgt station_id_x  month  year  Total parks  fire_size_mean  \\\nOBJECTID                                                                \n463445    25.9        72785      9  1998          1.0       94.659654   \n1464479   27.7        72768      8  2011          2.0      101.710737   \n1591094   24.1        72552      5  2012          0.0       96.368654   \n944726    48.2        72403      1  2002          1.0       12.023816   \n896277    44.3        72231      5  2002          0.0       12.023816   \n\n          fire_gacc_count  fire_unit_count  gacc_mean_year_temp  \nOBJECTID                                                         \n463445                722               90            24.246399  \n1464479               434                7            16.683416  \n1591094              1580              262            18.416493  \n944726               8893              366            16.186517  \n896277               8893              333            16.186517  \n\n[5 rows x 30 columns]",
      "text/html": "<div>\n<style scoped>\n    .dataframe tbody tr th:only-of-type {\n        vertical-align: middle;\n    }\n\n    .dataframe tbody tr th {\n        vertical-align: top;\n    }\n\n    .dataframe thead th {\n        text-align: right;\n    }\n</style>\n<table border=\"1\" class=\"dataframe\">\n  <thead>\n    <tr style=\"text-align: right;\">\n      <th></th>\n      <th>LATITUDE</th>\n      <th>LONGITUDE</th>\n      <th>SOURCE_SYSTEM_TYPE</th>\n      <th>FIRE_YEAR</th>\n      <th>FIRE_SIZE</th>\n      <th>DISCOVERY_DOY</th>\n      <th>OWNER_CODE</th>\n      <th>Gacc</th>\n      <th>UnitType</th>\n      <th>STATE</th>\n      <th>...</th>\n      <th>wspd</th>\n      <th>wpgt</th>\n      <th>station_id_x</th>\n      <th>month</th>\n      <th>year</th>\n      <th>Total parks</th>\n      <th>fire_size_mean</th>\n      <th>fire_gacc_count</th>\n      <th>fire_unit_count</th>\n      <th>gacc_mean_year_temp</th>\n    </tr>\n    <tr>\n      <th>OBJECTID</th>\n      <th></th>\n      <th></th>\n      <th></th>\n      <th></th>\n      <th></th>\n      <th></th>\n      <th></th>\n      <th></th>\n      <th></th>\n      <th></th>\n      <th></th>\n      <th></th>\n      <th></th>\n      <th></th>\n      <th></th>\n      <th></th>\n      <th></th>\n      <th></th>\n      <th></th>\n      <th></th>\n      <th></th>\n    </tr>\n  </thead>\n  <tbody>\n    <tr>\n      <th>463445</th>\n      <td>47.600845</td>\n      <td>-116.306789</td>\n      <td>NONFED</td>\n      <td>1998</td>\n      <td>2.0</td>\n      <td>260</td>\n      <td>14.0</td>\n      <td>USUTGBC</td>\n      <td>US State</td>\n      <td>ID</td>\n      <td>...</td>\n      <td>12.6</td>\n      <td>25.9</td>\n      <td>72785</td>\n      <td>9</td>\n      <td>1998</td>\n      <td>1.0</td>\n      <td>94.659654</td>\n      <td>722</td>\n      <td>90</td>\n      <td>24.246399</td>\n    </tr>\n    <tr>\n      <th>1464479</th>\n      <td>48.403300</td>\n      <td>-108.289600</td>\n      <td>FED</td>\n      <td>2011</td>\n      <td>0.1</td>\n      <td>234</td>\n      <td>8.0</td>\n      <td>USMTNRC</td>\n      <td>US Federal</td>\n      <td>MT</td>\n      <td>...</td>\n      <td>10.8</td>\n      <td>27.7</td>\n      <td>72768</td>\n      <td>8</td>\n      <td>2011</td>\n      <td>2.0</td>\n      <td>101.710737</td>\n      <td>434</td>\n      <td>7</td>\n      <td>16.683416</td>\n    </tr>\n    <tr>\n      <th>1591094</th>\n      <td>40.668460</td>\n      <td>-99.089130</td>\n      <td>NONFED</td>\n      <td>2012</td>\n      <td>1.5</td>\n      <td>140</td>\n      <td>14.0</td>\n      <td>USCORMC</td>\n      <td>US State</td>\n      <td>NE</td>\n      <td>...</td>\n      <td>24.1</td>\n      <td>24.1</td>\n      <td>72552</td>\n      <td>5</td>\n      <td>2012</td>\n      <td>0.0</td>\n      <td>96.368654</td>\n      <td>1580</td>\n      <td>262</td>\n      <td>18.416493</td>\n    </tr>\n    <tr>\n      <th>944726</th>\n      <td>39.000000</td>\n      <td>-78.269200</td>\n      <td>NONFED</td>\n      <td>2002</td>\n      <td>2.0</td>\n      <td>4</td>\n      <td>14.0</td>\n      <td>USGASAC</td>\n      <td>US State</td>\n      <td>VA</td>\n      <td>...</td>\n      <td>15.1</td>\n      <td>48.2</td>\n      <td>72403</td>\n      <td>1</td>\n      <td>2002</td>\n      <td>1.0</td>\n      <td>12.023816</td>\n      <td>8893</td>\n      <td>366</td>\n      <td>16.186517</td>\n    </tr>\n    <tr>\n      <th>896277</th>\n      <td>30.993300</td>\n      <td>-89.863900</td>\n      <td>NONFED</td>\n      <td>2002</td>\n      <td>5.0</td>\n      <td>136</td>\n      <td>14.0</td>\n      <td>USGASAC</td>\n      <td>US State</td>\n      <td>LA</td>\n      <td>...</td>\n      <td>14.8</td>\n      <td>44.3</td>\n      <td>72231</td>\n      <td>5</td>\n      <td>2002</td>\n      <td>0.0</td>\n      <td>12.023816</td>\n      <td>8893</td>\n      <td>333</td>\n      <td>16.186517</td>\n    </tr>\n  </tbody>\n</table>\n<p>5 rows × 30 columns</p>\n</div>"
     },
     "execution_count": 53,
     "metadata": {},
     "output_type": "execute_result"
    }
   ],
   "source": [
    "data_df['gacc_mean_year_temp'] = list(zip(data_df.Gacc, data_df.FIRE_YEAR))\n",
    "data_df['gacc_mean_year_temp'] = data_df['gacc_mean_year_temp'].apply(lambda x: agg_df.loc[x])\n",
    "\n",
    "data_df.head()"
   ],
   "metadata": {
    "collapsed": false,
    "pycharm": {
     "name": "#%%\n"
    }
   }
  },
  {
   "cell_type": "code",
   "execution_count": 54,
   "outputs": [],
   "source": [
    "data_df['temp_state'] = data_df['STATE']\n",
    "\n",
    "data_df.drop('STATE', axis=1, inplace=True)"
   ],
   "metadata": {
    "collapsed": false,
    "pycharm": {
     "name": "#%%\n"
    }
   }
  },
  {
   "cell_type": "markdown",
   "source": [
    "### Handling categorical data ###\n",
    "***\n",
    "In this section we deal with the categorical features in the data using some feature engineering.\n",
    "\n",
    "The categorical features in the data can be split into 2 sets: serial and non-serial.\n",
    "\n",
    "The serial features are: 'SOURCE_SYSTEM_TYPE', 'UnitType'.\n",
    "The non serial features are: 'OWNER_CODE', 'Gacc', 'Agency', 'STATE'.\n",
    "\n",
    "Let us deal with the serial data first:"
   ],
   "metadata": {
    "collapsed": false,
    "pycharm": {
     "name": "#%% md\n"
    }
   }
  },
  {
   "cell_type": "code",
   "execution_count": 55,
   "outputs": [
    {
     "data": {
      "text/plain": "array(['NONFED', 'FED', 'INTERAGCY'], dtype=object)"
     },
     "execution_count": 55,
     "metadata": {},
     "output_type": "execute_result"
    }
   ],
   "source": [
    "data_df['SOURCE_SYSTEM_TYPE'].unique()"
   ],
   "metadata": {
    "collapsed": false,
    "pycharm": {
     "name": "#%%\n"
    }
   }
  },
  {
   "cell_type": "markdown",
   "source": [
    "We decide to apply the following order on 'SOURCE_SYSTEM_TYPE': NONFED > FED > INTERAGCY"
   ],
   "metadata": {
    "collapsed": false,
    "pycharm": {
     "name": "#%% md\n"
    }
   }
  },
  {
   "cell_type": "code",
   "execution_count": 56,
   "outputs": [
    {
     "data": {
      "text/plain": "           LATITUDE   LONGITUDE  SOURCE_SYSTEM_TYPE  FIRE_YEAR  FIRE_SIZE  \\\nOBJECTID                                                                    \n463445    47.600845 -116.306789                   1       1998        2.0   \n1464479   48.403300 -108.289600                   2       2011        0.1   \n1591094   40.668460  -99.089130                   1       2012        1.5   \n944726    39.000000  -78.269200                   1       2002        2.0   \n896277    30.993300  -89.863900                   1       2002        5.0   \n\n          DISCOVERY_DOY  OWNER_CODE     Gacc    UnitType  \\\nOBJECTID                                                   \n463445              260        14.0  USUTGBC    US State   \n1464479             234         8.0  USMTNRC  US Federal   \n1591094             140        14.0  USCORMC    US State   \n944726                4        14.0  USGASAC    US State   \n896277              136        14.0  USGASAC    US State   \n\n         NWCG_REPORTING_UNIT_ID  ...  wpgt station_id_x  month  year  \\\nOBJECTID                         ...                                   \n463445                  USIDIDS  ...  25.9        72785      9  1998   \n1464479                 USMTFBA  ...  27.7        72768      8  2011   \n1591094                 USNENES  ...  24.1        72552      5  2012   \n944726                  USVAVAS  ...  48.2        72403      1  2002   \n896277                  USLALAS  ...  44.3        72231      5  2002   \n\n          Total parks  fire_size_mean  fire_gacc_count  fire_unit_count  \\\nOBJECTID                                                                  \n463445            1.0       94.659654              722               90   \n1464479           2.0      101.710737              434                7   \n1591094           0.0       96.368654             1580              262   \n944726            1.0       12.023816             8893              366   \n896277            0.0       12.023816             8893              333   \n\n          gacc_mean_year_temp  temp_state  \nOBJECTID                                   \n463445              24.246399          ID  \n1464479             16.683416          MT  \n1591094             18.416493          NE  \n944726              16.186517          VA  \n896277              16.186517          LA  \n\n[5 rows x 30 columns]",
      "text/html": "<div>\n<style scoped>\n    .dataframe tbody tr th:only-of-type {\n        vertical-align: middle;\n    }\n\n    .dataframe tbody tr th {\n        vertical-align: top;\n    }\n\n    .dataframe thead th {\n        text-align: right;\n    }\n</style>\n<table border=\"1\" class=\"dataframe\">\n  <thead>\n    <tr style=\"text-align: right;\">\n      <th></th>\n      <th>LATITUDE</th>\n      <th>LONGITUDE</th>\n      <th>SOURCE_SYSTEM_TYPE</th>\n      <th>FIRE_YEAR</th>\n      <th>FIRE_SIZE</th>\n      <th>DISCOVERY_DOY</th>\n      <th>OWNER_CODE</th>\n      <th>Gacc</th>\n      <th>UnitType</th>\n      <th>NWCG_REPORTING_UNIT_ID</th>\n      <th>...</th>\n      <th>wpgt</th>\n      <th>station_id_x</th>\n      <th>month</th>\n      <th>year</th>\n      <th>Total parks</th>\n      <th>fire_size_mean</th>\n      <th>fire_gacc_count</th>\n      <th>fire_unit_count</th>\n      <th>gacc_mean_year_temp</th>\n      <th>temp_state</th>\n    </tr>\n    <tr>\n      <th>OBJECTID</th>\n      <th></th>\n      <th></th>\n      <th></th>\n      <th></th>\n      <th></th>\n      <th></th>\n      <th></th>\n      <th></th>\n      <th></th>\n      <th></th>\n      <th></th>\n      <th></th>\n      <th></th>\n      <th></th>\n      <th></th>\n      <th></th>\n      <th></th>\n      <th></th>\n      <th></th>\n      <th></th>\n      <th></th>\n    </tr>\n  </thead>\n  <tbody>\n    <tr>\n      <th>463445</th>\n      <td>47.600845</td>\n      <td>-116.306789</td>\n      <td>1</td>\n      <td>1998</td>\n      <td>2.0</td>\n      <td>260</td>\n      <td>14.0</td>\n      <td>USUTGBC</td>\n      <td>US State</td>\n      <td>USIDIDS</td>\n      <td>...</td>\n      <td>25.9</td>\n      <td>72785</td>\n      <td>9</td>\n      <td>1998</td>\n      <td>1.0</td>\n      <td>94.659654</td>\n      <td>722</td>\n      <td>90</td>\n      <td>24.246399</td>\n      <td>ID</td>\n    </tr>\n    <tr>\n      <th>1464479</th>\n      <td>48.403300</td>\n      <td>-108.289600</td>\n      <td>2</td>\n      <td>2011</td>\n      <td>0.1</td>\n      <td>234</td>\n      <td>8.0</td>\n      <td>USMTNRC</td>\n      <td>US Federal</td>\n      <td>USMTFBA</td>\n      <td>...</td>\n      <td>27.7</td>\n      <td>72768</td>\n      <td>8</td>\n      <td>2011</td>\n      <td>2.0</td>\n      <td>101.710737</td>\n      <td>434</td>\n      <td>7</td>\n      <td>16.683416</td>\n      <td>MT</td>\n    </tr>\n    <tr>\n      <th>1591094</th>\n      <td>40.668460</td>\n      <td>-99.089130</td>\n      <td>1</td>\n      <td>2012</td>\n      <td>1.5</td>\n      <td>140</td>\n      <td>14.0</td>\n      <td>USCORMC</td>\n      <td>US State</td>\n      <td>USNENES</td>\n      <td>...</td>\n      <td>24.1</td>\n      <td>72552</td>\n      <td>5</td>\n      <td>2012</td>\n      <td>0.0</td>\n      <td>96.368654</td>\n      <td>1580</td>\n      <td>262</td>\n      <td>18.416493</td>\n      <td>NE</td>\n    </tr>\n    <tr>\n      <th>944726</th>\n      <td>39.000000</td>\n      <td>-78.269200</td>\n      <td>1</td>\n      <td>2002</td>\n      <td>2.0</td>\n      <td>4</td>\n      <td>14.0</td>\n      <td>USGASAC</td>\n      <td>US State</td>\n      <td>USVAVAS</td>\n      <td>...</td>\n      <td>48.2</td>\n      <td>72403</td>\n      <td>1</td>\n      <td>2002</td>\n      <td>1.0</td>\n      <td>12.023816</td>\n      <td>8893</td>\n      <td>366</td>\n      <td>16.186517</td>\n      <td>VA</td>\n    </tr>\n    <tr>\n      <th>896277</th>\n      <td>30.993300</td>\n      <td>-89.863900</td>\n      <td>1</td>\n      <td>2002</td>\n      <td>5.0</td>\n      <td>136</td>\n      <td>14.0</td>\n      <td>USGASAC</td>\n      <td>US State</td>\n      <td>USLALAS</td>\n      <td>...</td>\n      <td>44.3</td>\n      <td>72231</td>\n      <td>5</td>\n      <td>2002</td>\n      <td>0.0</td>\n      <td>12.023816</td>\n      <td>8893</td>\n      <td>333</td>\n      <td>16.186517</td>\n      <td>LA</td>\n    </tr>\n  </tbody>\n</table>\n<p>5 rows × 30 columns</p>\n</div>"
     },
     "execution_count": 56,
     "metadata": {},
     "output_type": "execute_result"
    }
   ],
   "source": [
    "conversion_dict = {'NONFED': 1,\n",
    "                   'FED': 2,\n",
    "                   'INTERAGCY': 3}\n",
    "\n",
    "data_df['SOURCE_SYSTEM_TYPE'] = data_df['SOURCE_SYSTEM_TYPE'].replace(conversion_dict)\n",
    "\n",
    "data_df.head()"
   ],
   "metadata": {
    "collapsed": false,
    "pycharm": {
     "name": "#%%\n"
    }
   }
  },
  {
   "cell_type": "markdown",
   "source": [
    "And now, we proceed to process 'UnitType':"
   ],
   "metadata": {
    "collapsed": false,
    "pycharm": {
     "name": "#%% md\n"
    }
   }
  },
  {
   "cell_type": "code",
   "execution_count": 57,
   "outputs": [
    {
     "data": {
      "text/plain": "array(['US State', 'US Federal', 'US County/Local', 'Tribe',\n       'Interagency'], dtype=object)"
     },
     "execution_count": 57,
     "metadata": {},
     "output_type": "execute_result"
    }
   ],
   "source": [
    "data_df['UnitType'].unique()"
   ],
   "metadata": {
    "collapsed": false,
    "pycharm": {
     "name": "#%%\n"
    }
   }
  },
  {
   "cell_type": "markdown",
   "source": [
    "We decide to apply the following order:\n",
    "1. Tribe\n",
    "2. US County/Local\n",
    "3. US State\n",
    "4. US Federal\n",
    "5. Interagency"
   ],
   "metadata": {
    "collapsed": false,
    "pycharm": {
     "name": "#%% md\n"
    }
   }
  },
  {
   "cell_type": "code",
   "execution_count": 58,
   "outputs": [
    {
     "data": {
      "text/plain": "           LATITUDE   LONGITUDE  SOURCE_SYSTEM_TYPE  FIRE_YEAR  FIRE_SIZE  \\\nOBJECTID                                                                    \n463445    47.600845 -116.306789                   1       1998        2.0   \n1464479   48.403300 -108.289600                   2       2011        0.1   \n1591094   40.668460  -99.089130                   1       2012        1.5   \n944726    39.000000  -78.269200                   1       2002        2.0   \n896277    30.993300  -89.863900                   1       2002        5.0   \n\n          DISCOVERY_DOY  OWNER_CODE     Gacc  UnitType NWCG_REPORTING_UNIT_ID  \\\nOBJECTID                                                                        \n463445              260        14.0  USUTGBC         3                USIDIDS   \n1464479             234         8.0  USMTNRC         4                USMTFBA   \n1591094             140        14.0  USCORMC         3                USNENES   \n944726                4        14.0  USGASAC         3                USVAVAS   \n896277              136        14.0  USGASAC         3                USLALAS   \n\n          ...  wpgt station_id_x  month  year  Total parks  fire_size_mean  \\\nOBJECTID  ...                                                                \n463445    ...  25.9        72785      9  1998          1.0       94.659654   \n1464479   ...  27.7        72768      8  2011          2.0      101.710737   \n1591094   ...  24.1        72552      5  2012          0.0       96.368654   \n944726    ...  48.2        72403      1  2002          1.0       12.023816   \n896277    ...  44.3        72231      5  2002          0.0       12.023816   \n\n          fire_gacc_count  fire_unit_count  gacc_mean_year_temp  temp_state  \nOBJECTID                                                                     \n463445                722               90            24.246399          ID  \n1464479               434                7            16.683416          MT  \n1591094              1580              262            18.416493          NE  \n944726               8893              366            16.186517          VA  \n896277               8893              333            16.186517          LA  \n\n[5 rows x 30 columns]",
      "text/html": "<div>\n<style scoped>\n    .dataframe tbody tr th:only-of-type {\n        vertical-align: middle;\n    }\n\n    .dataframe tbody tr th {\n        vertical-align: top;\n    }\n\n    .dataframe thead th {\n        text-align: right;\n    }\n</style>\n<table border=\"1\" class=\"dataframe\">\n  <thead>\n    <tr style=\"text-align: right;\">\n      <th></th>\n      <th>LATITUDE</th>\n      <th>LONGITUDE</th>\n      <th>SOURCE_SYSTEM_TYPE</th>\n      <th>FIRE_YEAR</th>\n      <th>FIRE_SIZE</th>\n      <th>DISCOVERY_DOY</th>\n      <th>OWNER_CODE</th>\n      <th>Gacc</th>\n      <th>UnitType</th>\n      <th>NWCG_REPORTING_UNIT_ID</th>\n      <th>...</th>\n      <th>wpgt</th>\n      <th>station_id_x</th>\n      <th>month</th>\n      <th>year</th>\n      <th>Total parks</th>\n      <th>fire_size_mean</th>\n      <th>fire_gacc_count</th>\n      <th>fire_unit_count</th>\n      <th>gacc_mean_year_temp</th>\n      <th>temp_state</th>\n    </tr>\n    <tr>\n      <th>OBJECTID</th>\n      <th></th>\n      <th></th>\n      <th></th>\n      <th></th>\n      <th></th>\n      <th></th>\n      <th></th>\n      <th></th>\n      <th></th>\n      <th></th>\n      <th></th>\n      <th></th>\n      <th></th>\n      <th></th>\n      <th></th>\n      <th></th>\n      <th></th>\n      <th></th>\n      <th></th>\n      <th></th>\n      <th></th>\n    </tr>\n  </thead>\n  <tbody>\n    <tr>\n      <th>463445</th>\n      <td>47.600845</td>\n      <td>-116.306789</td>\n      <td>1</td>\n      <td>1998</td>\n      <td>2.0</td>\n      <td>260</td>\n      <td>14.0</td>\n      <td>USUTGBC</td>\n      <td>3</td>\n      <td>USIDIDS</td>\n      <td>...</td>\n      <td>25.9</td>\n      <td>72785</td>\n      <td>9</td>\n      <td>1998</td>\n      <td>1.0</td>\n      <td>94.659654</td>\n      <td>722</td>\n      <td>90</td>\n      <td>24.246399</td>\n      <td>ID</td>\n    </tr>\n    <tr>\n      <th>1464479</th>\n      <td>48.403300</td>\n      <td>-108.289600</td>\n      <td>2</td>\n      <td>2011</td>\n      <td>0.1</td>\n      <td>234</td>\n      <td>8.0</td>\n      <td>USMTNRC</td>\n      <td>4</td>\n      <td>USMTFBA</td>\n      <td>...</td>\n      <td>27.7</td>\n      <td>72768</td>\n      <td>8</td>\n      <td>2011</td>\n      <td>2.0</td>\n      <td>101.710737</td>\n      <td>434</td>\n      <td>7</td>\n      <td>16.683416</td>\n      <td>MT</td>\n    </tr>\n    <tr>\n      <th>1591094</th>\n      <td>40.668460</td>\n      <td>-99.089130</td>\n      <td>1</td>\n      <td>2012</td>\n      <td>1.5</td>\n      <td>140</td>\n      <td>14.0</td>\n      <td>USCORMC</td>\n      <td>3</td>\n      <td>USNENES</td>\n      <td>...</td>\n      <td>24.1</td>\n      <td>72552</td>\n      <td>5</td>\n      <td>2012</td>\n      <td>0.0</td>\n      <td>96.368654</td>\n      <td>1580</td>\n      <td>262</td>\n      <td>18.416493</td>\n      <td>NE</td>\n    </tr>\n    <tr>\n      <th>944726</th>\n      <td>39.000000</td>\n      <td>-78.269200</td>\n      <td>1</td>\n      <td>2002</td>\n      <td>2.0</td>\n      <td>4</td>\n      <td>14.0</td>\n      <td>USGASAC</td>\n      <td>3</td>\n      <td>USVAVAS</td>\n      <td>...</td>\n      <td>48.2</td>\n      <td>72403</td>\n      <td>1</td>\n      <td>2002</td>\n      <td>1.0</td>\n      <td>12.023816</td>\n      <td>8893</td>\n      <td>366</td>\n      <td>16.186517</td>\n      <td>VA</td>\n    </tr>\n    <tr>\n      <th>896277</th>\n      <td>30.993300</td>\n      <td>-89.863900</td>\n      <td>1</td>\n      <td>2002</td>\n      <td>5.0</td>\n      <td>136</td>\n      <td>14.0</td>\n      <td>USGASAC</td>\n      <td>3</td>\n      <td>USLALAS</td>\n      <td>...</td>\n      <td>44.3</td>\n      <td>72231</td>\n      <td>5</td>\n      <td>2002</td>\n      <td>0.0</td>\n      <td>12.023816</td>\n      <td>8893</td>\n      <td>333</td>\n      <td>16.186517</td>\n      <td>LA</td>\n    </tr>\n  </tbody>\n</table>\n<p>5 rows × 30 columns</p>\n</div>"
     },
     "execution_count": 58,
     "metadata": {},
     "output_type": "execute_result"
    }
   ],
   "source": [
    "conversion_dict = {'Tribe': 1,\n",
    "                   'US County/Local': 2,\n",
    "                   'US State': 3,\n",
    "                   'US Federal': 4,\n",
    "                   'Interagency': 5}\n",
    "\n",
    "data_df['UnitType'] = data_df['UnitType'].replace(conversion_dict)\n",
    "\n",
    "data_df.head()"
   ],
   "metadata": {
    "collapsed": false,
    "pycharm": {
     "name": "#%%\n"
    }
   }
  },
  {
   "cell_type": "markdown",
   "source": [
    "Now, we handle the non-serial categorical data using one-hot encoding.\n",
    "\n",
    "Although performing any type of pre-processing on the entire data considered to be 'bad practice', we chose to do it with the one-hot encoding to ensure feature consistency in train and test sets, as well as to avoid adding complex functionality that achieves the same goal.\n",
    "\n",
    "Note that in this case, processing the one-hot encoding for the entire data does not put us at risk for information leakage. As the columns processed this way have a fixed, and finite set of possible values for every possible dataset.\n",
    "\n",
    "For example, we know that the 'OWNER_CODE' field in our data contains only 14 pre-known possible values. So, encoding these 14 values in advance is not considered as 'cheating' or leakage, as we could force this encoding on each data set separately and achive the same result."
   ],
   "metadata": {
    "collapsed": false,
    "pycharm": {
     "name": "#%% md\n"
    }
   }
  },
  {
   "cell_type": "code",
   "execution_count": 59,
   "outputs": [
    {
     "data": {
      "text/plain": "           LATITUDE   LONGITUDE  SOURCE_SYSTEM_TYPE  FIRE_YEAR  FIRE_SIZE  \\\nOBJECTID                                                                    \n463445    47.600845 -116.306789                   1       1998        2.0   \n1464479   48.403300 -108.289600                   2       2011        0.1   \n1591094   40.668460  -99.089130                   1       2012        1.5   \n944726    39.000000  -78.269200                   1       2002        2.0   \n896277    30.993300  -89.863900                   1       2002        5.0   \n\n          DISCOVERY_DOY  UnitType NWCG_REPORTING_UNIT_ID  DISCOVERY_DATE  \\\nOBJECTID                                                                   \n463445              260         3                USIDIDS       2451073.5   \n1464479             234         4                USMTFBA       2455795.5   \n1591094             140         3                USNENES       2456066.5   \n944726                4         3                USVAVAS       2452278.5   \n896277              136         3                USLALAS       2452410.5   \n\n           STAT_CAUSE_DESCR  ...  Gacc_USAKACC  Gacc_USCAONCC  Gacc_USCAOSCC  \\\nOBJECTID                     ...                                               \n463445    Missing/Undefined  ...             0              0              0   \n1464479       Miscellaneous  ...             0              0              0   \n1591094       Miscellaneous  ...             0              0              0   \n944726        Miscellaneous  ...             0              0              0   \n896277                Arson  ...             0              0              0   \n\n          Gacc_USCORMC  Gacc_USGASAC  Gacc_USMTNRC  Gacc_USNMSWC  \\\nOBJECTID                                                           \n463445               0             0             0             0   \n1464479              0             0             1             0   \n1591094              1             0             0             0   \n944726               0             1             0             0   \n896277               0             1             0             0   \n\n          Gacc_USORNWC  Gacc_USUTGBC Gacc_USWIEACC  \nOBJECTID                                            \n463445               0             1             0  \n1464479              0             0             0  \n1591094              0             0             0  \n944726               0             0             0  \n896277               0             0             0  \n\n[5 rows x 54 columns]",
      "text/html": "<div>\n<style scoped>\n    .dataframe tbody tr th:only-of-type {\n        vertical-align: middle;\n    }\n\n    .dataframe tbody tr th {\n        vertical-align: top;\n    }\n\n    .dataframe thead th {\n        text-align: right;\n    }\n</style>\n<table border=\"1\" class=\"dataframe\">\n  <thead>\n    <tr style=\"text-align: right;\">\n      <th></th>\n      <th>LATITUDE</th>\n      <th>LONGITUDE</th>\n      <th>SOURCE_SYSTEM_TYPE</th>\n      <th>FIRE_YEAR</th>\n      <th>FIRE_SIZE</th>\n      <th>DISCOVERY_DOY</th>\n      <th>UnitType</th>\n      <th>NWCG_REPORTING_UNIT_ID</th>\n      <th>DISCOVERY_DATE</th>\n      <th>STAT_CAUSE_DESCR</th>\n      <th>...</th>\n      <th>Gacc_USAKACC</th>\n      <th>Gacc_USCAONCC</th>\n      <th>Gacc_USCAOSCC</th>\n      <th>Gacc_USCORMC</th>\n      <th>Gacc_USGASAC</th>\n      <th>Gacc_USMTNRC</th>\n      <th>Gacc_USNMSWC</th>\n      <th>Gacc_USORNWC</th>\n      <th>Gacc_USUTGBC</th>\n      <th>Gacc_USWIEACC</th>\n    </tr>\n    <tr>\n      <th>OBJECTID</th>\n      <th></th>\n      <th></th>\n      <th></th>\n      <th></th>\n      <th></th>\n      <th></th>\n      <th></th>\n      <th></th>\n      <th></th>\n      <th></th>\n      <th></th>\n      <th></th>\n      <th></th>\n      <th></th>\n      <th></th>\n      <th></th>\n      <th></th>\n      <th></th>\n      <th></th>\n      <th></th>\n      <th></th>\n    </tr>\n  </thead>\n  <tbody>\n    <tr>\n      <th>463445</th>\n      <td>47.600845</td>\n      <td>-116.306789</td>\n      <td>1</td>\n      <td>1998</td>\n      <td>2.0</td>\n      <td>260</td>\n      <td>3</td>\n      <td>USIDIDS</td>\n      <td>2451073.5</td>\n      <td>Missing/Undefined</td>\n      <td>...</td>\n      <td>0</td>\n      <td>0</td>\n      <td>0</td>\n      <td>0</td>\n      <td>0</td>\n      <td>0</td>\n      <td>0</td>\n      <td>0</td>\n      <td>1</td>\n      <td>0</td>\n    </tr>\n    <tr>\n      <th>1464479</th>\n      <td>48.403300</td>\n      <td>-108.289600</td>\n      <td>2</td>\n      <td>2011</td>\n      <td>0.1</td>\n      <td>234</td>\n      <td>4</td>\n      <td>USMTFBA</td>\n      <td>2455795.5</td>\n      <td>Miscellaneous</td>\n      <td>...</td>\n      <td>0</td>\n      <td>0</td>\n      <td>0</td>\n      <td>0</td>\n      <td>0</td>\n      <td>1</td>\n      <td>0</td>\n      <td>0</td>\n      <td>0</td>\n      <td>0</td>\n    </tr>\n    <tr>\n      <th>1591094</th>\n      <td>40.668460</td>\n      <td>-99.089130</td>\n      <td>1</td>\n      <td>2012</td>\n      <td>1.5</td>\n      <td>140</td>\n      <td>3</td>\n      <td>USNENES</td>\n      <td>2456066.5</td>\n      <td>Miscellaneous</td>\n      <td>...</td>\n      <td>0</td>\n      <td>0</td>\n      <td>0</td>\n      <td>1</td>\n      <td>0</td>\n      <td>0</td>\n      <td>0</td>\n      <td>0</td>\n      <td>0</td>\n      <td>0</td>\n    </tr>\n    <tr>\n      <th>944726</th>\n      <td>39.000000</td>\n      <td>-78.269200</td>\n      <td>1</td>\n      <td>2002</td>\n      <td>2.0</td>\n      <td>4</td>\n      <td>3</td>\n      <td>USVAVAS</td>\n      <td>2452278.5</td>\n      <td>Miscellaneous</td>\n      <td>...</td>\n      <td>0</td>\n      <td>0</td>\n      <td>0</td>\n      <td>0</td>\n      <td>1</td>\n      <td>0</td>\n      <td>0</td>\n      <td>0</td>\n      <td>0</td>\n      <td>0</td>\n    </tr>\n    <tr>\n      <th>896277</th>\n      <td>30.993300</td>\n      <td>-89.863900</td>\n      <td>1</td>\n      <td>2002</td>\n      <td>5.0</td>\n      <td>136</td>\n      <td>3</td>\n      <td>USLALAS</td>\n      <td>2452410.5</td>\n      <td>Arson</td>\n      <td>...</td>\n      <td>0</td>\n      <td>0</td>\n      <td>0</td>\n      <td>0</td>\n      <td>1</td>\n      <td>0</td>\n      <td>0</td>\n      <td>0</td>\n      <td>0</td>\n      <td>0</td>\n    </tr>\n  </tbody>\n</table>\n<p>5 rows × 54 columns</p>\n</div>"
     },
     "execution_count": 59,
     "metadata": {},
     "output_type": "execute_result"
    }
   ],
   "source": [
    "dummy_cols_lst = ['Gacc', 'Agency', 'Department', 'STATE', 'OWNER_CODE']\n",
    "dummy_cols = set(dummy_cols_lst).intersection(set(data_df.columns))\n",
    "\n",
    "data_df = pd.get_dummies(data_df, columns=dummy_cols)\n",
    "\n",
    "data_df.head()"
   ],
   "metadata": {
    "collapsed": false,
    "pycharm": {
     "name": "#%%\n"
    }
   }
  },
  {
   "cell_type": "markdown",
   "source": [
    "Now that we are done processing the categorical data, we no longer need to perform any type of action on the entire data. So we re-split the entire data (with the encoded categorical features now), making sure that the train and test sets have the same indices as before."
   ],
   "metadata": {
    "collapsed": false,
    "pycharm": {
     "name": "#%% md\n"
    }
   }
  },
  {
   "cell_type": "code",
   "execution_count": 60,
   "outputs": [],
   "source": [
    "# now, removing redundant features\n",
    "data_df.drop(['station_id_x', 'month', 'year'], axis=1, inplace=True)"
   ],
   "metadata": {
    "collapsed": false,
    "pycharm": {
     "name": "#%%\n"
    }
   }
  },
  {
   "cell_type": "markdown",
   "source": [],
   "metadata": {
    "collapsed": false,
    "pycharm": {
     "name": "#%% md\n"
    }
   }
  },
  {
   "cell_type": "code",
   "execution_count": 61,
   "outputs": [],
   "source": [
    "# slicing the overall processed data to train and test\n",
    "train_data = data_df.loc[train_data.index, :]\n",
    "test_data = data_df.loc[test_data.index, :]\n",
    "\n",
    "train_data.dropna(inplace=True)\n",
    "test_data.dropna(inplace=True)"
   ],
   "metadata": {
    "collapsed": false,
    "pycharm": {
     "name": "#%%\n"
    }
   }
  },
  {
   "cell_type": "markdown",
   "source": [
    "### Adding 'prior' knowledge to the causes distribution ###\n",
    "***\n",
    "In this section, we utilize the fact that we have a vast amount of data in order to obtain some information regarding the causes distribution. This information will be later provided to the model, which will hopefully boost the classification performance.\n",
    "\n",
    "The process works as follows:\n",
    "1. First, we split the data into train and test sets.\n",
    "2. Then, we take a small slice from the train set (about 30,000 samples) and drop it altogether to avoid inserting bias to the training stage.\n",
    "3. On the sliced data, we compute the frequency ratio of each cause for each (state, year) pair.\n",
    "4. After computing the mentioned values, we plug them into the train and test sets.\n",
    "\n",
    "The process mentioned above is implemented in a separate script."
   ],
   "metadata": {
    "collapsed": false
   }
  },
  {
   "cell_type": "code",
   "execution_count": 62,
   "outputs": [],
   "source": [
    "from cause_stats import get_3level_cause_stats, plug_3level_cause_stats\n",
    "\n",
    "# random slice\n",
    "slice_size = 30000\n",
    "\n",
    "if slice_size >= 0.4 * len(train_data):\n",
    "    slice_size = int(0.1 * len(train_data))\n",
    "\n",
    "prior_ind = np.random.choice(train_data.index, size=slice_size, replace=False)\n",
    "prior_data = train_data.loc[prior_ind, :]\n",
    "train_data.drop(prior_ind, inplace=True)"
   ],
   "metadata": {
    "collapsed": false,
    "pycharm": {
     "name": "#%%\n"
    }
   }
  },
  {
   "cell_type": "markdown",
   "source": [
    "For convenience and aesthetic reasons, we decided to implement the above process in an external .py script named 'cause_stats'.\n",
    "\n",
    "the script is being called from this notebook and used in the next few sections."
   ],
   "metadata": {
    "collapsed": false,
    "pycharm": {
     "name": "#%% md\n"
    }
   }
  },
  {
   "cell_type": "code",
   "execution_count": 63,
   "outputs": [
    {
     "data": {
      "text/plain": "    LATITUDE   LONGITUDE  SOURCE_SYSTEM_TYPE  FIRE_YEAR  FIRE_SIZE  \\\n0  31.342500  -86.896400                   1       1997        2.0   \n1  43.291944 -111.393889                   2       2001        0.2   \n2  43.196990  -77.838774                   1       2010        0.1   \n3  46.979159  -95.410312                   1       1997        5.0   \n4  26.736670  -81.783610                   1       2006        0.5   \n\n   DISCOVERY_DOY  UnitType NWCG_REPORTING_UNIT_ID  DISCOVERY_DATE  \\\n0            131         3                USALALS       2450579.5   \n1            247         4                USIDCTF       2452156.5   \n2            141         2                USNYNYX       2455337.5   \n3            114         3                USMNMNS       2450562.5   \n4            311         3                USFLFLS       2454046.5   \n\n  STAT_CAUSE_DESCR  ...  Lightning     Arson  Missing/Undefined  Railroad  \\\n0         Children  ...   0.000000  0.586207           0.000000  0.000000   \n1        Lightning  ...   0.611111  0.000000           0.166667  0.000000   \n2          Smoking  ...   0.074468  0.074468           0.000000  0.000000   \n3            Arson  ...   0.000000  0.215686           0.000000  0.019608   \n4    Equipment Use  ...   0.206522  0.163043           0.141304  0.000000   \n\n   Equipment Use  Powerline  Campfire  Children  Fireworks  Structure  \n0       0.068966   0.000000  0.034483  0.000000        0.0        0.0  \n1       0.166667   0.000000  0.000000  0.000000        0.0        0.0  \n2       0.021277   0.010638  0.000000  0.031915        0.0        0.0  \n3       0.019608   0.000000  0.019608  0.117647        0.0        0.0  \n4       0.130435   0.000000  0.043478  0.054348        0.0        0.0  \n\n[5 rows x 64 columns]",
      "text/html": "<div>\n<style scoped>\n    .dataframe tbody tr th:only-of-type {\n        vertical-align: middle;\n    }\n\n    .dataframe tbody tr th {\n        vertical-align: top;\n    }\n\n    .dataframe thead th {\n        text-align: right;\n    }\n</style>\n<table border=\"1\" class=\"dataframe\">\n  <thead>\n    <tr style=\"text-align: right;\">\n      <th></th>\n      <th>LATITUDE</th>\n      <th>LONGITUDE</th>\n      <th>SOURCE_SYSTEM_TYPE</th>\n      <th>FIRE_YEAR</th>\n      <th>FIRE_SIZE</th>\n      <th>DISCOVERY_DOY</th>\n      <th>UnitType</th>\n      <th>NWCG_REPORTING_UNIT_ID</th>\n      <th>DISCOVERY_DATE</th>\n      <th>STAT_CAUSE_DESCR</th>\n      <th>...</th>\n      <th>Lightning</th>\n      <th>Arson</th>\n      <th>Missing/Undefined</th>\n      <th>Railroad</th>\n      <th>Equipment Use</th>\n      <th>Powerline</th>\n      <th>Campfire</th>\n      <th>Children</th>\n      <th>Fireworks</th>\n      <th>Structure</th>\n    </tr>\n  </thead>\n  <tbody>\n    <tr>\n      <th>0</th>\n      <td>31.342500</td>\n      <td>-86.896400</td>\n      <td>1</td>\n      <td>1997</td>\n      <td>2.0</td>\n      <td>131</td>\n      <td>3</td>\n      <td>USALALS</td>\n      <td>2450579.5</td>\n      <td>Children</td>\n      <td>...</td>\n      <td>0.000000</td>\n      <td>0.586207</td>\n      <td>0.000000</td>\n      <td>0.000000</td>\n      <td>0.068966</td>\n      <td>0.000000</td>\n      <td>0.034483</td>\n      <td>0.000000</td>\n      <td>0.0</td>\n      <td>0.0</td>\n    </tr>\n    <tr>\n      <th>1</th>\n      <td>43.291944</td>\n      <td>-111.393889</td>\n      <td>2</td>\n      <td>2001</td>\n      <td>0.2</td>\n      <td>247</td>\n      <td>4</td>\n      <td>USIDCTF</td>\n      <td>2452156.5</td>\n      <td>Lightning</td>\n      <td>...</td>\n      <td>0.611111</td>\n      <td>0.000000</td>\n      <td>0.166667</td>\n      <td>0.000000</td>\n      <td>0.166667</td>\n      <td>0.000000</td>\n      <td>0.000000</td>\n      <td>0.000000</td>\n      <td>0.0</td>\n      <td>0.0</td>\n    </tr>\n    <tr>\n      <th>2</th>\n      <td>43.196990</td>\n      <td>-77.838774</td>\n      <td>1</td>\n      <td>2010</td>\n      <td>0.1</td>\n      <td>141</td>\n      <td>2</td>\n      <td>USNYNYX</td>\n      <td>2455337.5</td>\n      <td>Smoking</td>\n      <td>...</td>\n      <td>0.074468</td>\n      <td>0.074468</td>\n      <td>0.000000</td>\n      <td>0.000000</td>\n      <td>0.021277</td>\n      <td>0.010638</td>\n      <td>0.000000</td>\n      <td>0.031915</td>\n      <td>0.0</td>\n      <td>0.0</td>\n    </tr>\n    <tr>\n      <th>3</th>\n      <td>46.979159</td>\n      <td>-95.410312</td>\n      <td>1</td>\n      <td>1997</td>\n      <td>5.0</td>\n      <td>114</td>\n      <td>3</td>\n      <td>USMNMNS</td>\n      <td>2450562.5</td>\n      <td>Arson</td>\n      <td>...</td>\n      <td>0.000000</td>\n      <td>0.215686</td>\n      <td>0.000000</td>\n      <td>0.019608</td>\n      <td>0.019608</td>\n      <td>0.000000</td>\n      <td>0.019608</td>\n      <td>0.117647</td>\n      <td>0.0</td>\n      <td>0.0</td>\n    </tr>\n    <tr>\n      <th>4</th>\n      <td>26.736670</td>\n      <td>-81.783610</td>\n      <td>1</td>\n      <td>2006</td>\n      <td>0.5</td>\n      <td>311</td>\n      <td>3</td>\n      <td>USFLFLS</td>\n      <td>2454046.5</td>\n      <td>Equipment Use</td>\n      <td>...</td>\n      <td>0.206522</td>\n      <td>0.163043</td>\n      <td>0.141304</td>\n      <td>0.000000</td>\n      <td>0.130435</td>\n      <td>0.000000</td>\n      <td>0.043478</td>\n      <td>0.054348</td>\n      <td>0.0</td>\n      <td>0.0</td>\n    </tr>\n  </tbody>\n</table>\n<p>5 rows × 64 columns</p>\n</div>"
     },
     "execution_count": 63,
     "metadata": {},
     "output_type": "execute_result"
    }
   ],
   "source": [
    "prior_data = get_3level_cause_stats(prior_data, third_level='temp_state', second_level='FIRE_YEAR')\n",
    "train_data = plug_3level_cause_stats(train_data, prior_data, third_level='temp_state', second_level='FIRE_YEAR')\n",
    "\n",
    "train_data.head()"
   ],
   "metadata": {
    "collapsed": false,
    "pycharm": {
     "name": "#%%\n"
    }
   }
  },
  {
   "cell_type": "code",
   "execution_count": 64,
   "outputs": [
    {
     "data": {
      "text/plain": "    LATITUDE   LONGITUDE  SOURCE_SYSTEM_TYPE  FIRE_YEAR  FIRE_SIZE  \\\n0  33.893100  -80.313300                   1       2002        0.5   \n1  31.734400  -88.810600                   1       2000        0.1   \n2  34.631700  -79.251700                   1       1998       25.0   \n3  33.407500  -86.387200                   1       1999       10.0   \n4  39.549722 -121.982222                   2       2010        5.0   \n\n   DISCOVERY_DOY  UnitType NWCG_REPORTING_UNIT_ID  DISCOVERY_DATE  \\\n0             28         3                USSCSCS       2452302.5   \n1             84         3                USMSMSS       2451627.5   \n2            304         3                USNCNCS       2451117.5   \n3            260         3                USALALS       2451438.5   \n4            212         4                USCASRR       2455408.5   \n\n  STAT_CAUSE_DESCR  ...  Lightning     Arson  Missing/Undefined  Railroad  \\\n0   Debris Burning  ...   0.064516  0.241935           0.000000  0.000000   \n1    Miscellaneous  ...   0.027273  0.209091           0.000000  0.009091   \n2            Arson  ...   0.046154  0.153846           0.000000  0.000000   \n3            Arson  ...   0.043956  0.516484           0.000000  0.010989   \n4         Railroad  ...   0.137255  0.039216           0.117647  0.000000   \n\n   Equipment Use  Powerline  Campfire  Children  Fireworks  Structure  \n0       0.080645   0.000000  0.000000  0.016129        0.0        0.0  \n1       0.018182   0.000000  0.000000  0.000000        0.0        0.0  \n2       0.046154   0.000000  0.000000  0.107692        0.0        0.0  \n3       0.054945   0.000000  0.000000  0.010989        0.0        0.0  \n4       0.166667   0.019608  0.009804  0.039216        0.0        0.0  \n\n[5 rows x 64 columns]",
      "text/html": "<div>\n<style scoped>\n    .dataframe tbody tr th:only-of-type {\n        vertical-align: middle;\n    }\n\n    .dataframe tbody tr th {\n        vertical-align: top;\n    }\n\n    .dataframe thead th {\n        text-align: right;\n    }\n</style>\n<table border=\"1\" class=\"dataframe\">\n  <thead>\n    <tr style=\"text-align: right;\">\n      <th></th>\n      <th>LATITUDE</th>\n      <th>LONGITUDE</th>\n      <th>SOURCE_SYSTEM_TYPE</th>\n      <th>FIRE_YEAR</th>\n      <th>FIRE_SIZE</th>\n      <th>DISCOVERY_DOY</th>\n      <th>UnitType</th>\n      <th>NWCG_REPORTING_UNIT_ID</th>\n      <th>DISCOVERY_DATE</th>\n      <th>STAT_CAUSE_DESCR</th>\n      <th>...</th>\n      <th>Lightning</th>\n      <th>Arson</th>\n      <th>Missing/Undefined</th>\n      <th>Railroad</th>\n      <th>Equipment Use</th>\n      <th>Powerline</th>\n      <th>Campfire</th>\n      <th>Children</th>\n      <th>Fireworks</th>\n      <th>Structure</th>\n    </tr>\n  </thead>\n  <tbody>\n    <tr>\n      <th>0</th>\n      <td>33.893100</td>\n      <td>-80.313300</td>\n      <td>1</td>\n      <td>2002</td>\n      <td>0.5</td>\n      <td>28</td>\n      <td>3</td>\n      <td>USSCSCS</td>\n      <td>2452302.5</td>\n      <td>Debris Burning</td>\n      <td>...</td>\n      <td>0.064516</td>\n      <td>0.241935</td>\n      <td>0.000000</td>\n      <td>0.000000</td>\n      <td>0.080645</td>\n      <td>0.000000</td>\n      <td>0.000000</td>\n      <td>0.016129</td>\n      <td>0.0</td>\n      <td>0.0</td>\n    </tr>\n    <tr>\n      <th>1</th>\n      <td>31.734400</td>\n      <td>-88.810600</td>\n      <td>1</td>\n      <td>2000</td>\n      <td>0.1</td>\n      <td>84</td>\n      <td>3</td>\n      <td>USMSMSS</td>\n      <td>2451627.5</td>\n      <td>Miscellaneous</td>\n      <td>...</td>\n      <td>0.027273</td>\n      <td>0.209091</td>\n      <td>0.000000</td>\n      <td>0.009091</td>\n      <td>0.018182</td>\n      <td>0.000000</td>\n      <td>0.000000</td>\n      <td>0.000000</td>\n      <td>0.0</td>\n      <td>0.0</td>\n    </tr>\n    <tr>\n      <th>2</th>\n      <td>34.631700</td>\n      <td>-79.251700</td>\n      <td>1</td>\n      <td>1998</td>\n      <td>25.0</td>\n      <td>304</td>\n      <td>3</td>\n      <td>USNCNCS</td>\n      <td>2451117.5</td>\n      <td>Arson</td>\n      <td>...</td>\n      <td>0.046154</td>\n      <td>0.153846</td>\n      <td>0.000000</td>\n      <td>0.000000</td>\n      <td>0.046154</td>\n      <td>0.000000</td>\n      <td>0.000000</td>\n      <td>0.107692</td>\n      <td>0.0</td>\n      <td>0.0</td>\n    </tr>\n    <tr>\n      <th>3</th>\n      <td>33.407500</td>\n      <td>-86.387200</td>\n      <td>1</td>\n      <td>1999</td>\n      <td>10.0</td>\n      <td>260</td>\n      <td>3</td>\n      <td>USALALS</td>\n      <td>2451438.5</td>\n      <td>Arson</td>\n      <td>...</td>\n      <td>0.043956</td>\n      <td>0.516484</td>\n      <td>0.000000</td>\n      <td>0.010989</td>\n      <td>0.054945</td>\n      <td>0.000000</td>\n      <td>0.000000</td>\n      <td>0.010989</td>\n      <td>0.0</td>\n      <td>0.0</td>\n    </tr>\n    <tr>\n      <th>4</th>\n      <td>39.549722</td>\n      <td>-121.982222</td>\n      <td>2</td>\n      <td>2010</td>\n      <td>5.0</td>\n      <td>212</td>\n      <td>4</td>\n      <td>USCASRR</td>\n      <td>2455408.5</td>\n      <td>Railroad</td>\n      <td>...</td>\n      <td>0.137255</td>\n      <td>0.039216</td>\n      <td>0.117647</td>\n      <td>0.000000</td>\n      <td>0.166667</td>\n      <td>0.019608</td>\n      <td>0.009804</td>\n      <td>0.039216</td>\n      <td>0.0</td>\n      <td>0.0</td>\n    </tr>\n  </tbody>\n</table>\n<p>5 rows × 64 columns</p>\n</div>"
     },
     "execution_count": 64,
     "metadata": {},
     "output_type": "execute_result"
    }
   ],
   "source": [
    "test_data = plug_3level_cause_stats(test_data, prior_data, third_level='temp_state', second_level='FIRE_YEAR')\n",
    "\n",
    "test_data.head()"
   ],
   "metadata": {
    "collapsed": false,
    "pycharm": {
     "name": "#%%\n"
    }
   }
  },
  {
   "cell_type": "code",
   "execution_count": 65,
   "outputs": [],
   "source": [
    "# removing the unit id, it is not needed from this point on\n",
    "train_data.drop('NWCG_REPORTING_UNIT_ID', axis=1, inplace=True)\n",
    "test_data.drop('NWCG_REPORTING_UNIT_ID', axis=1, inplace=True)\n",
    "\n",
    "# removing the temporary state column we saved, as it is no longer needed\n",
    "train_data.drop('temp_state', axis=1, inplace=True)\n",
    "test_data.drop('temp_state', axis=1, inplace=True)"
   ],
   "metadata": {
    "collapsed": false,
    "pycharm": {
     "name": "#%%\n"
    }
   }
  },
  {
   "cell_type": "markdown",
   "source": [
    "As the prior is computed on a relatively small slice taken from the train data, it is possible that some samples in the train data will not have a matching prior value computed for them. In such case, we impute the prior columns using the overall median.\n",
    "\n",
    "We are aware that the overall median may not be the best and most precise imputation value here, but as the number of samples with missing priors is small, we allow ourselves to use the median anyway.\n",
    "\n",
    "here, we find the number of missing prior values:"
   ],
   "metadata": {
    "collapsed": false,
    "pycharm": {
     "name": "#%% md\n"
    }
   }
  },
  {
   "cell_type": "code",
   "execution_count": 66,
   "outputs": [
    {
     "name": "stdout",
     "output_type": "stream",
     "text": [
      "num missing priors in train = 0\n",
      "num missing priors in test = 0\n"
     ]
    }
   ],
   "source": [
    "train_missing_pr = 0\n",
    "test_missing_pr = 0\n",
    "\n",
    "for col_name in data_df['STAT_CAUSE_DESCR'].unique():\n",
    "    train_missing_pr = max(train_missing_pr, train_data[col_name].isna().sum())\n",
    "    test_missing_pr = max(test_missing_pr, test_data[col_name].isna().sum())\n",
    "\n",
    "print(f\"num missing priors in train = {train_missing_pr}\")\n",
    "print(f\"num missing priors in test = {test_missing_pr}\")"
   ],
   "metadata": {
    "collapsed": false,
    "pycharm": {
     "name": "#%%\n"
    }
   }
  },
  {
   "cell_type": "code",
   "execution_count": 67,
   "outputs": [],
   "source": [
    "# filling missing prior values\n",
    "def fill_prior(cur_df: pd.DataFrame):\n",
    "    for i in range(1, len(data_df['STAT_CAUSE_DESCR'].unique()) + 1):\n",
    "        cur_median = cur_df.iloc[:, -i].median()\n",
    "        cur_df.iloc[:, -i] = cur_df.iloc[:, -i].fillna(cur_median)\n",
    "\n",
    "fill_prior(train_data)\n",
    "fill_prior(test_data)"
   ],
   "metadata": {
    "collapsed": false,
    "pycharm": {
     "name": "#%%\n"
    }
   }
  },
  {
   "cell_type": "markdown",
   "source": [
    "### Processing labels and removing redundant features ###\n",
    "***\n",
    "Now, we replace the labels with numerical values, and separate the target vectors from the train and test sets.\n",
    "\n",
    "Also, we check if any features that are not made for model prediction used by us for other purposes so far remained in the data still. If so - we remove them."
   ],
   "metadata": {
    "collapsed": false,
    "pycharm": {
     "name": "#%% md\n"
    }
   }
  },
  {
   "cell_type": "code",
   "execution_count": 68,
   "outputs": [
    {
     "name": "stdout",
     "output_type": "stream",
     "text": [
      "LATITUDE\n",
      "LONGITUDE\n",
      "SOURCE_SYSTEM_TYPE\n",
      "FIRE_YEAR\n",
      "FIRE_SIZE\n",
      "DISCOVERY_DOY\n",
      "UnitType\n",
      "DISCOVERY_DATE\n",
      "STAT_CAUSE_DESCR\n",
      "elevation\n",
      "tavg\n",
      "tmin\n",
      "tmax\n",
      "prcp\n",
      "snow\n",
      "wdir\n",
      "wspd\n",
      "wpgt\n",
      "Total parks\n",
      "fire_size_mean\n",
      "fire_gacc_count\n",
      "fire_unit_count\n",
      "gacc_mean_year_temp\n",
      "OWNER_CODE_0.0\n",
      "OWNER_CODE_1.0\n",
      "OWNER_CODE_2.0\n",
      "OWNER_CODE_3.0\n",
      "OWNER_CODE_4.0\n",
      "OWNER_CODE_5.0\n",
      "OWNER_CODE_6.0\n",
      "OWNER_CODE_7.0\n",
      "OWNER_CODE_8.0\n",
      "OWNER_CODE_9.0\n",
      "OWNER_CODE_10.0\n",
      "OWNER_CODE_11.0\n",
      "OWNER_CODE_12.0\n",
      "OWNER_CODE_13.0\n",
      "OWNER_CODE_14.0\n",
      "OWNER_CODE_15.0\n",
      "Gacc_USAKACC\n",
      "Gacc_USCAONCC\n",
      "Gacc_USCAOSCC\n",
      "Gacc_USCORMC\n",
      "Gacc_USGASAC\n",
      "Gacc_USMTNRC\n",
      "Gacc_USNMSWC\n",
      "Gacc_USORNWC\n",
      "Gacc_USUTGBC\n",
      "Gacc_USWIEACC\n",
      "Miscellaneous\n",
      "Smoking\n",
      "Debris Burning\n",
      "Lightning\n",
      "Arson\n",
      "Missing/Undefined\n",
      "Railroad\n",
      "Equipment Use\n",
      "Powerline\n",
      "Campfire\n",
      "Children\n",
      "Fireworks\n",
      "Structure\n"
     ]
    }
   ],
   "source": [
    "for col_name in train_data.columns:\n",
    "    print(col_name)"
   ],
   "metadata": {
    "collapsed": false,
    "pycharm": {
     "name": "#%%\n"
    }
   }
  },
  {
   "cell_type": "code",
   "execution_count": 69,
   "outputs": [],
   "source": [
    "remove_columns = {'DISCOVERY_DATE'}\n",
    "\n",
    "remove_columns = remove_columns.intersection(set(train_data.columns))\n",
    "\n",
    "train_data.drop(remove_columns, axis=1, inplace=True)\n",
    "test_data.drop(remove_columns, axis=1, inplace=True)"
   ],
   "metadata": {
    "collapsed": false,
    "pycharm": {
     "name": "#%%\n"
    }
   }
  },
  {
   "cell_type": "code",
   "execution_count": 70,
   "outputs": [],
   "source": [
    "# removing all missing values as they are insignificant at this point\n",
    "data_df.dropna(inplace=True)\n",
    "train_data.dropna(inplace=True)\n",
    "test_data.dropna(inplace=True)"
   ],
   "metadata": {
    "collapsed": false,
    "pycharm": {
     "name": "#%%\n"
    }
   }
  },
  {
   "cell_type": "code",
   "execution_count": 71,
   "outputs": [],
   "source": [
    "train_y = train_data['STAT_CAUSE_DESCR']\n",
    "train_x = train_data.drop('STAT_CAUSE_DESCR', axis=1)\n",
    "\n",
    "test_y = test_data['STAT_CAUSE_DESCR']\n",
    "test_x = test_data.drop('STAT_CAUSE_DESCR', axis=1)"
   ],
   "metadata": {
    "collapsed": false,
    "pycharm": {
     "name": "#%%\n"
    }
   }
  },
  {
   "cell_type": "code",
   "execution_count": 72,
   "outputs": [],
   "source": [
    "from sklearn.preprocessing import LabelEncoder\n",
    "lab_encoder = LabelEncoder().fit(data_df['STAT_CAUSE_DESCR'].unique())\n",
    "\n",
    "train_y = lab_encoder.transform(train_y)\n",
    "test_y = lab_encoder.transform(test_y)"
   ],
   "metadata": {
    "collapsed": false,
    "pycharm": {
     "name": "#%%\n"
    }
   }
  },
  {
   "cell_type": "markdown",
   "source": [
    "### Training random forest model ###\n",
    "***\n",
    "In this section, we train and optimize a random forest model to predict the fire causes for our data.\n",
    "\n",
    "For hyper-parameter optimization, we used Bayesian HPO implemented by optuna. Furthermore, the HPO is performed using 5-fold cross validation on a a small subset of size 50,000 sliced from the train data (stratified by target vector). We chose to do so in order to achieve shorter runtime for each iteration."
   ],
   "metadata": {
    "collapsed": false,
    "pycharm": {
     "name": "#%% md\n"
    }
   }
  },
  {
   "cell_type": "code",
   "execution_count": 73,
   "outputs": [],
   "source": [
    "from sklearn.ensemble import RandomForestClassifier\n",
    "from sklearn.metrics import classification_report, make_scorer, f1_score"
   ],
   "metadata": {
    "collapsed": false,
    "pycharm": {
     "name": "#%%\n"
    }
   }
  },
  {
   "cell_type": "code",
   "execution_count": 74,
   "outputs": [],
   "source": [
    "from sklearn.utils import resample\n",
    "\n",
    "sub_train_x, sub_train_y = resample(train_x, train_y, n_samples=50000, stratify=train_y)"
   ],
   "metadata": {
    "collapsed": false,
    "pycharm": {
     "name": "#%%\n"
    }
   }
  },
  {
   "cell_type": "code",
   "execution_count": 75,
   "outputs": [],
   "source": [
    "import optuna\n",
    "from sklearn.model_selection import cross_val_score\n",
    "\n",
    "def objective(trial):\n",
    "\n",
    "    params={}\n",
    "    # params['n_estimators'] = trial.suggest_int('n_estimators', 2, 4000)\n",
    "    params['max_depth'] = trial.suggest_int('max_depth', 2, 128)\n",
    "    params['min_samples_leaf'] = trial.suggest_int('min_samples_leaf', 2, 128)\n",
    "    params['min_samples_split'] = trial.suggest_int('min_samples_split', 2, 128)\n",
    "    params['criterion'] = trial.suggest_categorical('criterion',['gini','entropy'])\n",
    "    model = RandomForestClassifier(random_state=15, **params)\n",
    "    res = cross_val_score(model, sub_train_x, sub_train_y, scoring=make_scorer(f1_score, average='weighted'),cv=5).mean()\n",
    "    return res"
   ],
   "metadata": {
    "collapsed": false,
    "pycharm": {
     "name": "#%%\n"
    }
   }
  },
  {
   "cell_type": "code",
   "execution_count": 76,
   "outputs": [],
   "source": [
    "if use_preComputed_hp:\n",
    "    forest_model = RandomForestClassifier(max_depth=111, min_samples_leaf=2, min_samples_split=10, criterion='gini')\n",
    "else:\n",
    "    study = optuna.create_study(direction='maximize')\n",
    "    study.optimize(objective, n_trials=50)\n",
    "\n",
    "    trial = study.best_trial\n",
    "\n",
    "    forest_model = RandomForestClassifier(**trial.params)"
   ],
   "metadata": {
    "collapsed": false,
    "pycharm": {
     "name": "#%%\n"
    }
   }
  },
  {
   "cell_type": "code",
   "execution_count": 77,
   "outputs": [],
   "source": [
    "forest_model = forest_model.fit(train_x, train_y)"
   ],
   "metadata": {
    "collapsed": false,
    "pycharm": {
     "name": "#%%\n"
    }
   }
  },
  {
   "cell_type": "markdown",
   "source": [
    "The following chart shows the classification performance for the test set:"
   ],
   "metadata": {
    "collapsed": false,
    "pycharm": {
     "name": "#%% md\n"
    }
   }
  },
  {
   "cell_type": "code",
   "execution_count": 78,
   "outputs": [
    {
     "name": "stdout",
     "output_type": "stream",
     "text": [
      "                   precision    recall  f1-score   support\n",
      "\n",
      "            Arson       0.55      0.50      0.53     23453\n",
      "         Campfire       0.56      0.31      0.40      6721\n",
      "         Children       0.44      0.11      0.18      5217\n",
      "   Debris Burning       0.52      0.73      0.60     36347\n",
      "    Equipment Use       0.41      0.25      0.31     12456\n",
      "        Fireworks       0.61      0.38      0.47      1013\n",
      "        Lightning       0.72      0.85      0.78     24246\n",
      "    Miscellaneous       0.52      0.54      0.53     27419\n",
      "Missing/Undefined       0.90      0.91      0.91     14068\n",
      "        Powerline       0.67      0.10      0.18      1286\n",
      "         Railroad       0.49      0.39      0.43      2765\n",
      "          Smoking       0.36      0.03      0.05      4466\n",
      "        Structure       0.69      0.11      0.19       392\n",
      "\n",
      "         accuracy                           0.59    159849\n",
      "        macro avg       0.57      0.40      0.43    159849\n",
      "     weighted avg       0.58      0.59      0.57    159849\n",
      "\n"
     ]
    }
   ],
   "source": [
    "print(classification_report(test_y, forest_model.predict(test_x), target_names=lab_encoder.inverse_transform(range(data_df['STAT_CAUSE_DESCR'].nunique()))))"
   ],
   "metadata": {
    "collapsed": false,
    "pycharm": {
     "name": "#%%\n"
    }
   }
  },
  {
   "cell_type": "markdown",
   "source": [
    "The following chart shows the classification performance for the train set."
   ],
   "metadata": {
    "collapsed": false,
    "pycharm": {
     "name": "#%% md\n"
    }
   }
  },
  {
   "cell_type": "code",
   "execution_count": 79,
   "outputs": [
    {
     "name": "stdout",
     "output_type": "stream",
     "text": [
      "                   precision    recall  f1-score   support\n",
      "\n",
      "            Arson       0.82      0.79      0.80     65827\n",
      "         Campfire       0.85      0.59      0.70     18665\n",
      "         Children       0.88      0.34      0.49     14632\n",
      "   Debris Burning       0.71      0.91      0.80    102097\n",
      "    Equipment Use       0.82      0.62      0.70     34947\n",
      "        Fireworks       0.87      0.62      0.72      2834\n",
      "        Lightning       0.84      0.93      0.88     67622\n",
      "    Miscellaneous       0.76      0.80      0.78     76912\n",
      "Missing/Undefined       0.95      0.97      0.96     39441\n",
      "        Powerline       0.94      0.30      0.45      3507\n",
      "         Railroad       0.71      0.57      0.63      7746\n",
      "          Smoking       0.93      0.18      0.30     12561\n",
      "        Structure       0.97      0.34      0.50      1088\n",
      "\n",
      "         accuracy                           0.79    447879\n",
      "        macro avg       0.85      0.61      0.67    447879\n",
      "     weighted avg       0.80      0.79      0.78    447879\n",
      "\n"
     ]
    }
   ],
   "source": [
    "print(classification_report(train_y, forest_model.predict(train_x), target_names=lab_encoder.inverse_transform(range(data_df['STAT_CAUSE_DESCR'].nunique()))))"
   ],
   "metadata": {
    "collapsed": false,
    "pycharm": {
     "name": "#%%\n"
    }
   }
  },
  {
   "cell_type": "markdown",
   "source": [
    "As can be seen in the above chart, while the classification performance on the train test are significantly higher, objectively, they are not exceptionally high. As we know, this is actually a good thing, because it most likely means that our model has not reached over-fitting and thus, is more likely to generalize."
   ],
   "metadata": {
    "collapsed": false,
    "pycharm": {
     "name": "#%% md\n"
    }
   }
  },
  {
   "cell_type": "code",
   "execution_count": 80,
   "outputs": [],
   "source": [
    "if save_test_prediction:\n",
    "    pd.Series(data=lab_encoder.inverse_transform(forest_model.predict(test_x)), index=test_x.index).to_pickle('test_prediction.pkl')"
   ],
   "metadata": {
    "collapsed": false,
    "pycharm": {
     "name": "#%%\n"
    }
   }
  },
  {
   "cell_type": "code",
   "execution_count": 81,
   "outputs": [],
   "source": [
    "if save_train_prediction:\n",
    "    pd.Series(data=lab_encoder.inverse_transform(forest_model.predict(train_x)), index=train_x.index).to_pickle('train_prediction.pkl')"
   ],
   "metadata": {
    "collapsed": false,
    "pycharm": {
     "name": "#%%\n"
    }
   }
  }
 ],
 "metadata": {
  "kernelspec": {
   "display_name": "Python 3",
   "language": "python",
   "name": "python3"
  },
  "language_info": {
   "codemirror_mode": {
    "name": "ipython",
    "version": 2
   },
   "file_extension": ".py",
   "mimetype": "text/x-python",
   "name": "python",
   "nbconvert_exporter": "python",
   "pygments_lexer": "ipython2",
   "version": "2.7.6"
  }
 },
 "nbformat": 4,
 "nbformat_minor": 0
}