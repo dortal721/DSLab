{
 "cells": [
  {
   "cell_type": "code",
   "execution_count": 2,
   "metadata": {
    "collapsed": true
   },
   "outputs": [],
   "source": [
    "import pandas as pd\n",
    "import numpy as np\n",
    "from datetime import datetime\n",
    "from meteostat import Daily, Stations\n",
    "from tqdm import tqdm\n",
    "from math import radians"
   ]
  },
  {
   "cell_type": "markdown",
   "source": [
    "# Loading weather data #\n",
    "In this notebook we show how we imported the weather data.\n",
    "\n",
    "warning - This code in this notebook may take exceptionally long time to run.\n",
    "\n",
    "important note - we slightly modified this notebook to prevent it from saving the imported data to .pkl. When we used it - we actually saved the fetched data to be later used in the main notebook."
   ],
   "metadata": {
    "collapsed": false,
    "pycharm": {
     "name": "#%% md\n"
    }
   }
  },
  {
   "cell_type": "code",
   "execution_count": 3,
   "outputs": [
    {
     "data": {
      "text/plain": "                                    name country region   wmo  icao  latitude  \\\nid                                                                              \n04AEH                            Norwich      US     NY  <NA>  KOIC   42.5665   \n0MV8M                Hill Air Force Base      US     UT  <NA>  KHIF   41.1111   \n0NNEW  Effingham County Memorial Airport      US     IL  <NA>  K1H2   39.0706   \n0OBKP            Live Oak County Airport      US     TX  <NA>  K8T6   28.3628   \n0RJDR                     Hotel (Gurley)      US     NE  <NA>  K1HW   41.3200   \n\n       longitude  elevation          timezone hourly_start hourly_end  \\\nid                                                                      \n04AEH   -75.5242      312.0  America/New_York   2022-04-23 2023-02-21   \n0MV8M  -111.9623     1459.0    America/Denver   2022-04-23 2023-02-21   \n0NNEW   -88.5333      179.0   America/Chicago   2022-05-06 2023-02-20   \n0OBKP   -98.1165       39.0   America/Chicago   2022-05-06 2023-02-21   \n0RJDR  -102.8300     1263.0    America/Denver   2022-05-06 2023-02-21   \n\n      daily_start  daily_end monthly_start monthly_end  latitude_radians  \\\nid                                                                         \n04AEH  2022-04-23 2022-04-26           NaT         NaT          0.742926   \n0MV8M  2022-04-23 2022-04-25           NaT         NaT          0.717524   \n0NNEW         NaT        NaT           NaT         NaT          0.681911   \n0OBKP         NaT        NaT           NaT         NaT          0.495024   \n0RJDR         NaT        NaT           NaT         NaT          0.721170   \n\n       longitude_radians  \nid                        \n04AEH          -1.318146  \n0MV8M          -1.954111  \n0NNEW          -1.545198  \n0OBKP          -1.712456  \n0RJDR          -1.794722  ",
      "text/html": "<div>\n<style scoped>\n    .dataframe tbody tr th:only-of-type {\n        vertical-align: middle;\n    }\n\n    .dataframe tbody tr th {\n        vertical-align: top;\n    }\n\n    .dataframe thead th {\n        text-align: right;\n    }\n</style>\n<table border=\"1\" class=\"dataframe\">\n  <thead>\n    <tr style=\"text-align: right;\">\n      <th></th>\n      <th>name</th>\n      <th>country</th>\n      <th>region</th>\n      <th>wmo</th>\n      <th>icao</th>\n      <th>latitude</th>\n      <th>longitude</th>\n      <th>elevation</th>\n      <th>timezone</th>\n      <th>hourly_start</th>\n      <th>hourly_end</th>\n      <th>daily_start</th>\n      <th>daily_end</th>\n      <th>monthly_start</th>\n      <th>monthly_end</th>\n      <th>latitude_radians</th>\n      <th>longitude_radians</th>\n    </tr>\n    <tr>\n      <th>id</th>\n      <th></th>\n      <th></th>\n      <th></th>\n      <th></th>\n      <th></th>\n      <th></th>\n      <th></th>\n      <th></th>\n      <th></th>\n      <th></th>\n      <th></th>\n      <th></th>\n      <th></th>\n      <th></th>\n      <th></th>\n      <th></th>\n      <th></th>\n    </tr>\n  </thead>\n  <tbody>\n    <tr>\n      <th>04AEH</th>\n      <td>Norwich</td>\n      <td>US</td>\n      <td>NY</td>\n      <td>&lt;NA&gt;</td>\n      <td>KOIC</td>\n      <td>42.5665</td>\n      <td>-75.5242</td>\n      <td>312.0</td>\n      <td>America/New_York</td>\n      <td>2022-04-23</td>\n      <td>2023-02-21</td>\n      <td>2022-04-23</td>\n      <td>2022-04-26</td>\n      <td>NaT</td>\n      <td>NaT</td>\n      <td>0.742926</td>\n      <td>-1.318146</td>\n    </tr>\n    <tr>\n      <th>0MV8M</th>\n      <td>Hill Air Force Base</td>\n      <td>US</td>\n      <td>UT</td>\n      <td>&lt;NA&gt;</td>\n      <td>KHIF</td>\n      <td>41.1111</td>\n      <td>-111.9623</td>\n      <td>1459.0</td>\n      <td>America/Denver</td>\n      <td>2022-04-23</td>\n      <td>2023-02-21</td>\n      <td>2022-04-23</td>\n      <td>2022-04-25</td>\n      <td>NaT</td>\n      <td>NaT</td>\n      <td>0.717524</td>\n      <td>-1.954111</td>\n    </tr>\n    <tr>\n      <th>0NNEW</th>\n      <td>Effingham County Memorial Airport</td>\n      <td>US</td>\n      <td>IL</td>\n      <td>&lt;NA&gt;</td>\n      <td>K1H2</td>\n      <td>39.0706</td>\n      <td>-88.5333</td>\n      <td>179.0</td>\n      <td>America/Chicago</td>\n      <td>2022-05-06</td>\n      <td>2023-02-20</td>\n      <td>NaT</td>\n      <td>NaT</td>\n      <td>NaT</td>\n      <td>NaT</td>\n      <td>0.681911</td>\n      <td>-1.545198</td>\n    </tr>\n    <tr>\n      <th>0OBKP</th>\n      <td>Live Oak County Airport</td>\n      <td>US</td>\n      <td>TX</td>\n      <td>&lt;NA&gt;</td>\n      <td>K8T6</td>\n      <td>28.3628</td>\n      <td>-98.1165</td>\n      <td>39.0</td>\n      <td>America/Chicago</td>\n      <td>2022-05-06</td>\n      <td>2023-02-21</td>\n      <td>NaT</td>\n      <td>NaT</td>\n      <td>NaT</td>\n      <td>NaT</td>\n      <td>0.495024</td>\n      <td>-1.712456</td>\n    </tr>\n    <tr>\n      <th>0RJDR</th>\n      <td>Hotel (Gurley)</td>\n      <td>US</td>\n      <td>NE</td>\n      <td>&lt;NA&gt;</td>\n      <td>K1HW</td>\n      <td>41.3200</td>\n      <td>-102.8300</td>\n      <td>1263.0</td>\n      <td>America/Denver</td>\n      <td>2022-05-06</td>\n      <td>2023-02-21</td>\n      <td>NaT</td>\n      <td>NaT</td>\n      <td>NaT</td>\n      <td>NaT</td>\n      <td>0.721170</td>\n      <td>-1.794722</td>\n    </tr>\n  </tbody>\n</table>\n</div>"
     },
     "execution_count": 3,
     "metadata": {},
     "output_type": "execute_result"
    }
   ],
   "source": [
    "# loading stations data\n",
    "stations = Stations()\n",
    "stations = stations.region('US')\n",
    "\n",
    "stations_df = stations.fetch()\n",
    "\n",
    "stations_df['latitude_radians'] = stations_df['latitude'].apply(radians)\n",
    "stations_df['longitude_radians'] = stations_df['longitude'].apply(radians)\n",
    "\n",
    "stations_df.head()"
   ],
   "metadata": {
    "collapsed": false,
    "pycharm": {
     "name": "#%%\n"
    }
   }
  },
  {
   "cell_type": "code",
   "execution_count": 4,
   "outputs": [],
   "source": [
    "# filling missing value using neighbours\n",
    "cols_lst = ['tavg', 'tmin', 'tmax', 'prcp', 'snow', 'wdir', 'wspd', 'wpgt']"
   ],
   "metadata": {
    "collapsed": false,
    "pycharm": {
     "name": "#%%\n"
    }
   }
  },
  {
   "cell_type": "code",
   "execution_count": 4,
   "outputs": [
    {
     "name": "stderr",
     "output_type": "stream",
     "text": [
      "Loading year 1992:   9%|▉         | 243/2701 [00:51<22:23,  1.83it/s]Warning: Cannot load daily/72305.csv.gz from https://bulk.meteostat.net/v2/\n",
      "Loading year 1992:  11%|█         | 285/2701 [01:16<17:43,  2.27it/s]Warning: Cannot load daily/72367.csv.gz from https://bulk.meteostat.net/v2/\n",
      "Loading year 1992:  16%|█▌        | 438/2701 [02:46<28:51,  1.31it/s]  Warning: Cannot load daily/72558.csv.gz from https://bulk.meteostat.net/v2/\n",
      "Loading year 1992:  22%|██▏       | 607/2701 [04:08<12:30,  2.79it/s]Warning: Cannot load daily/74618.csv.gz from https://bulk.meteostat.net/v2/\n",
      "Loading year 1992:  25%|██▌       | 678/2701 [04:54<12:18,  2.74it/s]  Warning: Cannot load daily/91180.csv.gz from https://bulk.meteostat.net/v2/\n",
      "Loading year 1992:  29%|██▉       | 796/2701 [05:39<09:30,  3.34it/s]Warning: Cannot load daily/K44N0.csv.gz from https://bulk.meteostat.net/v2/\n",
      "Loading year 1992:  30%|██▉       | 806/2701 [05:42<11:40,  2.71it/s]Warning: Cannot load daily/K4SL0.csv.gz from https://bulk.meteostat.net/v2/\n",
      "Loading year 1992:  30%|██▉       | 807/2701 [05:43<10:05,  3.13it/s]Warning: Cannot load daily/K5T60.csv.gz from https://bulk.meteostat.net/v2/\n",
      "Loading year 1992:  30%|███       | 817/2701 [05:47<17:54,  1.75it/s]Warning: Cannot load daily/K8S00.csv.gz from https://bulk.meteostat.net/v2/\n",
      "Loading year 1992:  37%|███▋      | 1002/2701 [06:54<07:19,  3.87it/s]Warning: Cannot load daily/KBUB0.csv.gz from https://bulk.meteostat.net/v2/\n",
      "Loading year 1992:  42%|████▏     | 1141/2701 [07:50<06:29,  4.00it/s]Warning: Cannot load daily/KCZD0.csv.gz from https://bulk.meteostat.net/v2/\n",
      "Loading year 1992:  42%|████▏     | 1142/2701 [07:51<06:55,  3.75it/s]Warning: Cannot load daily/KCZK0.csv.gz from https://bulk.meteostat.net/v2/\n",
      "Loading year 1992:  67%|██████▋   | 1809/2701 [11:56<04:54,  3.03it/s]Warning: Cannot load daily/KMLD0.csv.gz from https://bulk.meteostat.net/v2/\n",
      "Loading year 1992:  71%|███████   | 1905/2701 [12:34<08:15,  1.61it/s]Warning: Cannot load daily/KNRA0.csv.gz from https://bulk.meteostat.net/v2/\n",
      "Loading year 1992:  71%|███████   | 1907/2701 [12:35<06:53,  1.92it/s]Warning: Cannot load daily/KNRC0.csv.gz from https://bulk.meteostat.net/v2/\n",
      "Loading year 1992:  72%|███████▏  | 1943/2701 [12:47<07:04,  1.79it/s]Warning: Cannot load daily/KOKH0.csv.gz from https://bulk.meteostat.net/v2/\n",
      "Loading year 1992:  79%|███████▊  | 2127/2701 [13:56<02:42,  3.54it/s]Warning: Cannot load daily/KRJD0.csv.gz from https://bulk.meteostat.net/v2/\n",
      "Loading year 1992:  85%|████████▌ | 2308/2701 [15:06<04:11,  1.56it/s]Warning: Cannot load daily/KTDO0.csv.gz from https://bulk.meteostat.net/v2/\n",
      "Loading year 1992:  87%|████████▋ | 2361/2701 [15:26<01:43,  3.27it/s]Warning: Cannot load daily/KU240.csv.gz from https://bulk.meteostat.net/v2/\n",
      "Loading year 1992:  88%|████████▊ | 2367/2701 [15:28<01:35,  3.51it/s]Warning: Cannot load daily/KU780.csv.gz from https://bulk.meteostat.net/v2/\n",
      "Loading year 1992:  92%|█████████▏| 2472/2701 [16:08<01:53,  2.01it/s]Warning: Cannot load daily/KZAB0.csv.gz from https://bulk.meteostat.net/v2/\n",
      "Loading year 1992:  93%|█████████▎| 2520/2701 [16:24<01:10,  2.56it/s]Warning: Cannot load daily/PAAP0.csv.gz from https://bulk.meteostat.net/v2/\n",
      "Loading year 1992:  93%|█████████▎| 2522/2701 [16:24<01:01,  2.93it/s]Warning: Cannot load daily/PABN0.csv.gz from https://bulk.meteostat.net/v2/\n",
      "Loading year 1992:  93%|█████████▎| 2524/2701 [16:25<00:56,  3.13it/s]Warning: Cannot load daily/PACE0.csv.gz from https://bulk.meteostat.net/v2/\n",
      "Loading year 1992:  93%|█████████▎| 2525/2701 [16:25<00:51,  3.40it/s]Warning: Cannot load daily/PACL0.csv.gz from https://bulk.meteostat.net/v2/\n",
      "Loading year 1992:  94%|█████████▎| 2529/2701 [16:26<00:50,  3.38it/s]Warning: Cannot load daily/PADT0.csv.gz from https://bulk.meteostat.net/v2/\n",
      "Loading year 1992:  94%|█████████▍| 2533/2701 [16:27<00:50,  3.32it/s]Warning: Cannot load daily/PAER0.csv.gz from https://bulk.meteostat.net/v2/\n",
      "Loading year 1992:  94%|█████████▍| 2536/2701 [16:28<00:47,  3.50it/s]Warning: Cannot load daily/PAFK0.csv.gz from https://bulk.meteostat.net/v2/\n",
      "Loading year 1992:  94%|█████████▍| 2537/2701 [16:29<00:45,  3.63it/s]Warning: Cannot load daily/PAFW0.csv.gz from https://bulk.meteostat.net/v2/\n",
      "Loading year 1992:  94%|█████████▍| 2544/2701 [16:31<00:47,  3.31it/s]Warning: Cannot load daily/PAHV0.csv.gz from https://bulk.meteostat.net/v2/\n",
      "Loading year 1992:  94%|█████████▍| 2547/2701 [16:31<00:45,  3.35it/s]Warning: Cannot load daily/PAHZ0.csv.gz from https://bulk.meteostat.net/v2/\n",
      "Loading year 1992:  94%|█████████▍| 2552/2701 [16:33<00:43,  3.39it/s]Warning: Cannot load daily/PAJV0.csv.gz from https://bulk.meteostat.net/v2/\n",
      "Loading year 1992:  95%|█████████▍| 2564/2701 [16:40<00:53,  2.56it/s]Warning: Cannot load daily/PALR0.csv.gz from https://bulk.meteostat.net/v2/\n",
      "Loading year 1992:  95%|█████████▌| 2568/2701 [16:41<00:47,  2.80it/s]Warning: Cannot load daily/PAMX0.csv.gz from https://bulk.meteostat.net/v2/\n",
      "Loading year 1992:  96%|█████████▌| 2589/2701 [16:47<00:36,  3.03it/s]Warning: Cannot load daily/PASP0.csv.gz from https://bulk.meteostat.net/v2/\n",
      "Loading year 1992:  96%|█████████▌| 2594/2701 [16:50<01:00,  1.77it/s]Warning: Cannot load daily/PATW0.csv.gz from https://bulk.meteostat.net/v2/\n",
      "Loading year 1992:  96%|█████████▌| 2596/2701 [16:52<01:01,  1.71it/s]Warning: Cannot load daily/PAUO0.csv.gz from https://bulk.meteostat.net/v2/\n",
      "Loading year 1992:  96%|█████████▋| 2601/2701 [16:54<00:40,  2.46it/s]Warning: Cannot load daily/PAWR0.csv.gz from https://bulk.meteostat.net/v2/\n",
      "Loading year 1992:  96%|█████████▋| 2603/2701 [16:54<00:34,  2.87it/s]Warning: Cannot load daily/PAXK0.csv.gz from https://bulk.meteostat.net/v2/\n",
      "Loading year 1992: 100%|██████████| 2701/2701 [17:27<00:00,  2.58it/s]\n",
      "Loading year 1993: 100%|██████████| 2701/2701 [04:27<00:00, 10.08it/s]\n",
      "Loading year 1994: 100%|██████████| 2701/2701 [04:37<00:00,  9.74it/s]\n",
      "Loading year 1995: 100%|██████████| 2701/2701 [04:26<00:00, 10.15it/s]\n",
      "Loading year 1996: 100%|██████████| 2701/2701 [04:25<00:00, 10.17it/s]\n",
      "Loading year 1997: 100%|██████████| 2701/2701 [04:30<00:00,  9.97it/s]\n",
      "Loading year 1998: 100%|██████████| 2701/2701 [04:30<00:00,  9.99it/s]\n",
      "Loading year 1999: 100%|██████████| 2701/2701 [04:28<00:00, 10.07it/s]\n",
      "Loading year 2000: 100%|██████████| 2701/2701 [04:34<00:00,  9.84it/s]\n",
      "Loading year 2001: 100%|██████████| 2701/2701 [04:28<00:00, 10.06it/s]\n",
      "Loading year 2002: 100%|██████████| 2701/2701 [04:29<00:00, 10.04it/s]\n",
      "Loading year 2003: 100%|██████████| 2701/2701 [04:27<00:00, 10.09it/s]\n",
      "Loading year 2004: 100%|██████████| 2701/2701 [04:35<00:00,  9.82it/s]\n",
      "Loading year 2005: 100%|██████████| 2701/2701 [04:27<00:00, 10.09it/s]\n",
      "Loading year 2006: 100%|██████████| 2701/2701 [04:32<00:00,  9.90it/s]\n",
      "Loading year 2007: 100%|██████████| 2701/2701 [04:40<00:00,  9.62it/s]\n",
      "Loading year 2008: 100%|██████████| 2701/2701 [04:34<00:00,  9.83it/s]\n",
      "Loading year 2009: 100%|██████████| 2701/2701 [04:43<00:00,  9.54it/s]\n",
      "Loading year 2010: 100%|██████████| 2701/2701 [04:42<00:00,  9.56it/s]\n",
      "Loading year 2011: 100%|██████████| 2701/2701 [04:38<00:00,  9.69it/s]\n",
      "Loading year 2012: 100%|██████████| 2701/2701 [04:37<00:00,  9.72it/s]\n",
      "Loading year 2013: 100%|██████████| 2701/2701 [04:46<00:00,  9.42it/s]\n",
      "Loading year 2014: 100%|██████████| 2701/2701 [04:40<00:00,  9.64it/s]\n",
      "Loading year 2015: 100%|██████████| 2701/2701 [04:42<00:00,  9.56it/s]\n"
     ]
    }
   ],
   "source": [
    "# loading daily data for each (year, station) pair.\n",
    "df_lst = []\n",
    "stations_lst = list(stations_df.index)\n",
    "missing_lst = []\n",
    "\n",
    "for year in range(1992, 2016):\n",
    "    start = datetime(year, 1, 1)\n",
    "    end = datetime(year, 12, 31)\n",
    "\n",
    "    for station_num in tqdm(range(len(stations_lst)), desc=f'Loading year {year}'):\n",
    "        station_id = stations_lst[station_num]\n",
    "        cur_data = Daily(station_id, start, end)\n",
    "        cur_daily_df = cur_data.fetch()\n",
    "        cur_daily_df['station_id'] = station_id\n",
    "\n",
    "        if cur_daily_df.size == 0:\n",
    "            missing_lst.append((station_id, year))\n",
    "        else:\n",
    "            cur_daily_df.loc[:, cols_lst] = cur_daily_df.loc[:, cols_lst].interpolate()\n",
    "\n",
    "        df_lst.append(cur_daily_df)"
   ],
   "metadata": {
    "collapsed": false,
    "pycharm": {
     "name": "#%%\n"
    }
   }
  },
  {
   "cell_type": "code",
   "execution_count": 5,
   "outputs": [],
   "source": [
    "met_data = pd.concat(df_lst)"
   ],
   "metadata": {
    "collapsed": false,
    "pycharm": {
     "name": "#%%\n"
    }
   }
  },
  {
   "cell_type": "code",
   "execution_count": 8,
   "outputs": [
    {
     "name": "stderr",
     "output_type": "stream",
     "text": [
      "Loading...: 100%|██████████| 2050/2050 [50:37<00:00,  1.48s/it]\n"
     ]
    }
   ],
   "source": [
    "stations_lst = list(met_data['station_id'].unique())\n",
    "\n",
    "for index in tqdm(range(len(stations_lst)), desc=f'Loading...'):\n",
    "    cur_station_id = stations_lst[index]\n",
    "    met_data.loc[met_data['station_id'] == cur_station_id, :] = met_data.loc[met_data['station_id'] == cur_station_id, :].interpolate()"
   ],
   "metadata": {
    "collapsed": false,
    "pycharm": {
     "name": "#%%\n"
    }
   }
  },
  {
   "cell_type": "markdown",
   "source": [
    "Imputing remaining missing values.\n",
    "\n",
    "First by aggregating over (station, month), then if not successful - by (station, year)."
   ],
   "metadata": {
    "collapsed": false,
    "pycharm": {
     "name": "#%% md\n"
    }
   }
  },
  {
   "cell_type": "code",
   "execution_count": 9,
   "outputs": [
    {
     "data": {
      "text/plain": "            tavg  tmin  tmax  prcp  snow  wdir  wspd  wpgt     pres  tsun  \\\ntime                                                                        \n1992-01-01  14.0   6.7  20.6   0.0   0.0   NaN   4.7  18.4  1017.60   NaN   \n1992-01-02  16.9  12.2  25.0   0.0   0.0   NaN   5.4  25.9  1013.20   NaN   \n1992-01-03  13.7  11.1  15.6   6.9   0.0   NaN   4.3  20.5  1012.55   NaN   \n1992-01-04  14.8  11.1  19.4   0.0   0.0   NaN   2.2  13.0  1011.90   NaN   \n1992-01-05  12.6  10.0  15.0  30.7   0.0   NaN  12.2  53.6  1007.70   NaN   \n...          ...   ...   ...   ...   ...   ...   ...   ...      ...   ...   \n2015-12-27   NaN  -0.6   6.1   0.0   0.0   NaN   NaN   NaN      NaN   NaN   \n2015-12-28   NaN  -2.8   3.9   0.0   0.0   NaN   NaN   NaN      NaN   NaN   \n2015-12-29   NaN  -2.8   6.7   7.4   0.0   NaN   NaN   NaN      NaN   NaN   \n2015-12-30   NaN  -2.2   7.8   0.0   0.0   NaN   NaN   NaN      NaN   NaN   \n2015-12-31   NaN  -0.6   6.1   0.0   0.0   NaN   NaN   NaN      NaN   NaN   \n\n           station_id  \ntime                   \n1992-01-01      69014  \n1992-01-02      69014  \n1992-01-03      69014  \n1992-01-04      69014  \n1992-01-05      69014  \n...               ...  \n2015-12-27      U9ANI  \n2015-12-28      U9ANI  \n2015-12-29      U9ANI  \n2015-12-30      U9ANI  \n2015-12-31      U9ANI  \n\n[8127453 rows x 11 columns]",
      "text/html": "<div>\n<style scoped>\n    .dataframe tbody tr th:only-of-type {\n        vertical-align: middle;\n    }\n\n    .dataframe tbody tr th {\n        vertical-align: top;\n    }\n\n    .dataframe thead th {\n        text-align: right;\n    }\n</style>\n<table border=\"1\" class=\"dataframe\">\n  <thead>\n    <tr style=\"text-align: right;\">\n      <th></th>\n      <th>tavg</th>\n      <th>tmin</th>\n      <th>tmax</th>\n      <th>prcp</th>\n      <th>snow</th>\n      <th>wdir</th>\n      <th>wspd</th>\n      <th>wpgt</th>\n      <th>pres</th>\n      <th>tsun</th>\n      <th>station_id</th>\n    </tr>\n    <tr>\n      <th>time</th>\n      <th></th>\n      <th></th>\n      <th></th>\n      <th></th>\n      <th></th>\n      <th></th>\n      <th></th>\n      <th></th>\n      <th></th>\n      <th></th>\n      <th></th>\n    </tr>\n  </thead>\n  <tbody>\n    <tr>\n      <th>1992-01-01</th>\n      <td>14.0</td>\n      <td>6.7</td>\n      <td>20.6</td>\n      <td>0.0</td>\n      <td>0.0</td>\n      <td>NaN</td>\n      <td>4.7</td>\n      <td>18.4</td>\n      <td>1017.60</td>\n      <td>NaN</td>\n      <td>69014</td>\n    </tr>\n    <tr>\n      <th>1992-01-02</th>\n      <td>16.9</td>\n      <td>12.2</td>\n      <td>25.0</td>\n      <td>0.0</td>\n      <td>0.0</td>\n      <td>NaN</td>\n      <td>5.4</td>\n      <td>25.9</td>\n      <td>1013.20</td>\n      <td>NaN</td>\n      <td>69014</td>\n    </tr>\n    <tr>\n      <th>1992-01-03</th>\n      <td>13.7</td>\n      <td>11.1</td>\n      <td>15.6</td>\n      <td>6.9</td>\n      <td>0.0</td>\n      <td>NaN</td>\n      <td>4.3</td>\n      <td>20.5</td>\n      <td>1012.55</td>\n      <td>NaN</td>\n      <td>69014</td>\n    </tr>\n    <tr>\n      <th>1992-01-04</th>\n      <td>14.8</td>\n      <td>11.1</td>\n      <td>19.4</td>\n      <td>0.0</td>\n      <td>0.0</td>\n      <td>NaN</td>\n      <td>2.2</td>\n      <td>13.0</td>\n      <td>1011.90</td>\n      <td>NaN</td>\n      <td>69014</td>\n    </tr>\n    <tr>\n      <th>1992-01-05</th>\n      <td>12.6</td>\n      <td>10.0</td>\n      <td>15.0</td>\n      <td>30.7</td>\n      <td>0.0</td>\n      <td>NaN</td>\n      <td>12.2</td>\n      <td>53.6</td>\n      <td>1007.70</td>\n      <td>NaN</td>\n      <td>69014</td>\n    </tr>\n    <tr>\n      <th>...</th>\n      <td>...</td>\n      <td>...</td>\n      <td>...</td>\n      <td>...</td>\n      <td>...</td>\n      <td>...</td>\n      <td>...</td>\n      <td>...</td>\n      <td>...</td>\n      <td>...</td>\n      <td>...</td>\n    </tr>\n    <tr>\n      <th>2015-12-27</th>\n      <td>NaN</td>\n      <td>-0.6</td>\n      <td>6.1</td>\n      <td>0.0</td>\n      <td>0.0</td>\n      <td>NaN</td>\n      <td>NaN</td>\n      <td>NaN</td>\n      <td>NaN</td>\n      <td>NaN</td>\n      <td>U9ANI</td>\n    </tr>\n    <tr>\n      <th>2015-12-28</th>\n      <td>NaN</td>\n      <td>-2.8</td>\n      <td>3.9</td>\n      <td>0.0</td>\n      <td>0.0</td>\n      <td>NaN</td>\n      <td>NaN</td>\n      <td>NaN</td>\n      <td>NaN</td>\n      <td>NaN</td>\n      <td>U9ANI</td>\n    </tr>\n    <tr>\n      <th>2015-12-29</th>\n      <td>NaN</td>\n      <td>-2.8</td>\n      <td>6.7</td>\n      <td>7.4</td>\n      <td>0.0</td>\n      <td>NaN</td>\n      <td>NaN</td>\n      <td>NaN</td>\n      <td>NaN</td>\n      <td>NaN</td>\n      <td>U9ANI</td>\n    </tr>\n    <tr>\n      <th>2015-12-30</th>\n      <td>NaN</td>\n      <td>-2.2</td>\n      <td>7.8</td>\n      <td>0.0</td>\n      <td>0.0</td>\n      <td>NaN</td>\n      <td>NaN</td>\n      <td>NaN</td>\n      <td>NaN</td>\n      <td>NaN</td>\n      <td>U9ANI</td>\n    </tr>\n    <tr>\n      <th>2015-12-31</th>\n      <td>NaN</td>\n      <td>-0.6</td>\n      <td>6.1</td>\n      <td>0.0</td>\n      <td>0.0</td>\n      <td>NaN</td>\n      <td>NaN</td>\n      <td>NaN</td>\n      <td>NaN</td>\n      <td>NaN</td>\n      <td>U9ANI</td>\n    </tr>\n  </tbody>\n</table>\n<p>8127453 rows × 11 columns</p>\n</div>"
     },
     "execution_count": 9,
     "metadata": {},
     "output_type": "execute_result"
    }
   ],
   "source": [
    "met_data"
   ],
   "metadata": {
    "collapsed": false,
    "pycharm": {
     "name": "#%%\n"
    }
   }
  },
  {
   "cell_type": "code",
   "execution_count": 15,
   "outputs": [
    {
     "data": {
      "text/plain": "        time  tavg  tmin  tmax  prcp  snow  wdir  wspd  wpgt     pres  tsun  \\\n0 1992-01-01  14.0   6.7  20.6   0.0   0.0   NaN   4.7  18.4  1017.60   NaN   \n1 1992-01-02  16.9  12.2  25.0   0.0   0.0   NaN   5.4  25.9  1013.20   NaN   \n2 1992-01-03  13.7  11.1  15.6   6.9   0.0   NaN   4.3  20.5  1012.55   NaN   \n3 1992-01-04  14.8  11.1  19.4   0.0   0.0   NaN   2.2  13.0  1011.90   NaN   \n4 1992-01-05  12.6  10.0  15.0  30.7   0.0   NaN  12.2  53.6  1007.70   NaN   \n\n  station_id  \n0      69014  \n1      69014  \n2      69014  \n3      69014  \n4      69014  ",
      "text/html": "<div>\n<style scoped>\n    .dataframe tbody tr th:only-of-type {\n        vertical-align: middle;\n    }\n\n    .dataframe tbody tr th {\n        vertical-align: top;\n    }\n\n    .dataframe thead th {\n        text-align: right;\n    }\n</style>\n<table border=\"1\" class=\"dataframe\">\n  <thead>\n    <tr style=\"text-align: right;\">\n      <th></th>\n      <th>time</th>\n      <th>tavg</th>\n      <th>tmin</th>\n      <th>tmax</th>\n      <th>prcp</th>\n      <th>snow</th>\n      <th>wdir</th>\n      <th>wspd</th>\n      <th>wpgt</th>\n      <th>pres</th>\n      <th>tsun</th>\n      <th>station_id</th>\n    </tr>\n  </thead>\n  <tbody>\n    <tr>\n      <th>0</th>\n      <td>1992-01-01</td>\n      <td>14.0</td>\n      <td>6.7</td>\n      <td>20.6</td>\n      <td>0.0</td>\n      <td>0.0</td>\n      <td>NaN</td>\n      <td>4.7</td>\n      <td>18.4</td>\n      <td>1017.60</td>\n      <td>NaN</td>\n      <td>69014</td>\n    </tr>\n    <tr>\n      <th>1</th>\n      <td>1992-01-02</td>\n      <td>16.9</td>\n      <td>12.2</td>\n      <td>25.0</td>\n      <td>0.0</td>\n      <td>0.0</td>\n      <td>NaN</td>\n      <td>5.4</td>\n      <td>25.9</td>\n      <td>1013.20</td>\n      <td>NaN</td>\n      <td>69014</td>\n    </tr>\n    <tr>\n      <th>2</th>\n      <td>1992-01-03</td>\n      <td>13.7</td>\n      <td>11.1</td>\n      <td>15.6</td>\n      <td>6.9</td>\n      <td>0.0</td>\n      <td>NaN</td>\n      <td>4.3</td>\n      <td>20.5</td>\n      <td>1012.55</td>\n      <td>NaN</td>\n      <td>69014</td>\n    </tr>\n    <tr>\n      <th>3</th>\n      <td>1992-01-04</td>\n      <td>14.8</td>\n      <td>11.1</td>\n      <td>19.4</td>\n      <td>0.0</td>\n      <td>0.0</td>\n      <td>NaN</td>\n      <td>2.2</td>\n      <td>13.0</td>\n      <td>1011.90</td>\n      <td>NaN</td>\n      <td>69014</td>\n    </tr>\n    <tr>\n      <th>4</th>\n      <td>1992-01-05</td>\n      <td>12.6</td>\n      <td>10.0</td>\n      <td>15.0</td>\n      <td>30.7</td>\n      <td>0.0</td>\n      <td>NaN</td>\n      <td>12.2</td>\n      <td>53.6</td>\n      <td>1007.70</td>\n      <td>NaN</td>\n      <td>69014</td>\n    </tr>\n  </tbody>\n</table>\n</div>"
     },
     "execution_count": 15,
     "metadata": {},
     "output_type": "execute_result"
    }
   ],
   "source": [
    "met_data.reset_index(None, inplace=True)\n",
    "\n",
    "met_data.head()"
   ],
   "metadata": {
    "collapsed": false,
    "pycharm": {
     "name": "#%%\n"
    }
   }
  },
  {
   "cell_type": "code",
   "execution_count": 16,
   "outputs": [
    {
     "data": {
      "text/plain": "        time  tavg  tmin  tmax  prcp  snow  wdir  wspd  wpgt     pres  tsun  \\\n0 1992-01-01  14.0   6.7  20.6   0.0   0.0   NaN   4.7  18.4  1017.60   NaN   \n1 1992-01-02  16.9  12.2  25.0   0.0   0.0   NaN   5.4  25.9  1013.20   NaN   \n2 1992-01-03  13.7  11.1  15.6   6.9   0.0   NaN   4.3  20.5  1012.55   NaN   \n3 1992-01-04  14.8  11.1  19.4   0.0   0.0   NaN   2.2  13.0  1011.90   NaN   \n4 1992-01-05  12.6  10.0  15.0  30.7   0.0   NaN  12.2  53.6  1007.70   NaN   \n\n  station_id  month  year  \n0      69014      1  1992  \n1      69014      1  1992  \n2      69014      1  1992  \n3      69014      1  1992  \n4      69014      1  1992  ",
      "text/html": "<div>\n<style scoped>\n    .dataframe tbody tr th:only-of-type {\n        vertical-align: middle;\n    }\n\n    .dataframe tbody tr th {\n        vertical-align: top;\n    }\n\n    .dataframe thead th {\n        text-align: right;\n    }\n</style>\n<table border=\"1\" class=\"dataframe\">\n  <thead>\n    <tr style=\"text-align: right;\">\n      <th></th>\n      <th>time</th>\n      <th>tavg</th>\n      <th>tmin</th>\n      <th>tmax</th>\n      <th>prcp</th>\n      <th>snow</th>\n      <th>wdir</th>\n      <th>wspd</th>\n      <th>wpgt</th>\n      <th>pres</th>\n      <th>tsun</th>\n      <th>station_id</th>\n      <th>month</th>\n      <th>year</th>\n    </tr>\n  </thead>\n  <tbody>\n    <tr>\n      <th>0</th>\n      <td>1992-01-01</td>\n      <td>14.0</td>\n      <td>6.7</td>\n      <td>20.6</td>\n      <td>0.0</td>\n      <td>0.0</td>\n      <td>NaN</td>\n      <td>4.7</td>\n      <td>18.4</td>\n      <td>1017.60</td>\n      <td>NaN</td>\n      <td>69014</td>\n      <td>1</td>\n      <td>1992</td>\n    </tr>\n    <tr>\n      <th>1</th>\n      <td>1992-01-02</td>\n      <td>16.9</td>\n      <td>12.2</td>\n      <td>25.0</td>\n      <td>0.0</td>\n      <td>0.0</td>\n      <td>NaN</td>\n      <td>5.4</td>\n      <td>25.9</td>\n      <td>1013.20</td>\n      <td>NaN</td>\n      <td>69014</td>\n      <td>1</td>\n      <td>1992</td>\n    </tr>\n    <tr>\n      <th>2</th>\n      <td>1992-01-03</td>\n      <td>13.7</td>\n      <td>11.1</td>\n      <td>15.6</td>\n      <td>6.9</td>\n      <td>0.0</td>\n      <td>NaN</td>\n      <td>4.3</td>\n      <td>20.5</td>\n      <td>1012.55</td>\n      <td>NaN</td>\n      <td>69014</td>\n      <td>1</td>\n      <td>1992</td>\n    </tr>\n    <tr>\n      <th>3</th>\n      <td>1992-01-04</td>\n      <td>14.8</td>\n      <td>11.1</td>\n      <td>19.4</td>\n      <td>0.0</td>\n      <td>0.0</td>\n      <td>NaN</td>\n      <td>2.2</td>\n      <td>13.0</td>\n      <td>1011.90</td>\n      <td>NaN</td>\n      <td>69014</td>\n      <td>1</td>\n      <td>1992</td>\n    </tr>\n    <tr>\n      <th>4</th>\n      <td>1992-01-05</td>\n      <td>12.6</td>\n      <td>10.0</td>\n      <td>15.0</td>\n      <td>30.7</td>\n      <td>0.0</td>\n      <td>NaN</td>\n      <td>12.2</td>\n      <td>53.6</td>\n      <td>1007.70</td>\n      <td>NaN</td>\n      <td>69014</td>\n      <td>1</td>\n      <td>1992</td>\n    </tr>\n  </tbody>\n</table>\n</div>"
     },
     "execution_count": 16,
     "metadata": {},
     "output_type": "execute_result"
    }
   ],
   "source": [
    "met_data['month'] = met_data['time'].apply(lambda x: x.month)\n",
    "met_data['year'] = met_data['time'].apply(lambda x: x.year)\n",
    "\n",
    "met_data.head()"
   ],
   "metadata": {
    "collapsed": false,
    "pycharm": {
     "name": "#%%\n"
    }
   }
  },
  {
   "cell_type": "code",
   "execution_count": 17,
   "outputs": [
    {
     "data": {
      "text/plain": "                       tavg       tmin       tmax      prcp      snow  \\\nstation_id month                                                        \n69014      1      13.998848   9.541935  19.196774  4.340092  0.000000   \n           2      14.251852   9.829798  19.334848  5.184343  0.000000   \n           3      15.311674  10.752074  20.851613  3.005991  0.000000   \n           4      16.858095  11.695714  22.914762  0.435238  0.000000   \n           5      18.140092  14.094009  23.281106  0.298157  0.000000   \n...                     ...        ...        ...       ...       ...   \nU9ANI      8            NaN  15.763668  30.289594  0.504762  0.000000   \n           9            NaN  12.920751  27.821825  0.352057  0.000000   \n           10           NaN   8.534192  21.767140  1.518117  0.000000   \n           11           NaN   5.236287  16.012500  2.172295  0.046642   \n           12           NaN   2.254766  11.559712  3.357464  6.771583   \n\n                        wdir      wspd       wpgt         pres  tsun  \\\nstation_id month                                                       \n69014      1      101.665140  5.963134  22.643318  1016.910876   NaN   \n           2      128.822172  6.721212  26.274242  1016.737222   NaN   \n           3      148.345229  6.158525  23.903226  1015.923018   NaN   \n           4      162.970436  6.175238  24.290952  1014.395952   NaN   \n           5      165.337185  5.993548  23.080645  1013.609793   NaN   \n...                      ...       ...        ...          ...   ...   \nU9ANI      8             NaN       NaN        NaN          NaN   NaN   \n           9             NaN       NaN        NaN          NaN   NaN   \n           10            NaN       NaN        NaN          NaN   NaN   \n           11            NaN       NaN        NaN          NaN   NaN   \n           12            NaN       NaN        NaN          NaN   NaN   \n\n                         year  \nstation_id month               \n69014      1      1995.000000  \n           2      1994.989899  \n           3      1995.000000  \n           4      1995.000000  \n           5      1995.000000  \n...                       ...  \nU9ANI      8      2004.523810  \n           9      2004.622540  \n           10     2004.550622  \n           11     2004.927239  \n           12     2004.973022  \n\n[24304 rows x 11 columns]",
      "text/html": "<div>\n<style scoped>\n    .dataframe tbody tr th:only-of-type {\n        vertical-align: middle;\n    }\n\n    .dataframe tbody tr th {\n        vertical-align: top;\n    }\n\n    .dataframe thead th {\n        text-align: right;\n    }\n</style>\n<table border=\"1\" class=\"dataframe\">\n  <thead>\n    <tr style=\"text-align: right;\">\n      <th></th>\n      <th></th>\n      <th>tavg</th>\n      <th>tmin</th>\n      <th>tmax</th>\n      <th>prcp</th>\n      <th>snow</th>\n      <th>wdir</th>\n      <th>wspd</th>\n      <th>wpgt</th>\n      <th>pres</th>\n      <th>tsun</th>\n      <th>year</th>\n    </tr>\n    <tr>\n      <th>station_id</th>\n      <th>month</th>\n      <th></th>\n      <th></th>\n      <th></th>\n      <th></th>\n      <th></th>\n      <th></th>\n      <th></th>\n      <th></th>\n      <th></th>\n      <th></th>\n      <th></th>\n    </tr>\n  </thead>\n  <tbody>\n    <tr>\n      <th rowspan=\"5\" valign=\"top\">69014</th>\n      <th>1</th>\n      <td>13.998848</td>\n      <td>9.541935</td>\n      <td>19.196774</td>\n      <td>4.340092</td>\n      <td>0.000000</td>\n      <td>101.665140</td>\n      <td>5.963134</td>\n      <td>22.643318</td>\n      <td>1016.910876</td>\n      <td>NaN</td>\n      <td>1995.000000</td>\n    </tr>\n    <tr>\n      <th>2</th>\n      <td>14.251852</td>\n      <td>9.829798</td>\n      <td>19.334848</td>\n      <td>5.184343</td>\n      <td>0.000000</td>\n      <td>128.822172</td>\n      <td>6.721212</td>\n      <td>26.274242</td>\n      <td>1016.737222</td>\n      <td>NaN</td>\n      <td>1994.989899</td>\n    </tr>\n    <tr>\n      <th>3</th>\n      <td>15.311674</td>\n      <td>10.752074</td>\n      <td>20.851613</td>\n      <td>3.005991</td>\n      <td>0.000000</td>\n      <td>148.345229</td>\n      <td>6.158525</td>\n      <td>23.903226</td>\n      <td>1015.923018</td>\n      <td>NaN</td>\n      <td>1995.000000</td>\n    </tr>\n    <tr>\n      <th>4</th>\n      <td>16.858095</td>\n      <td>11.695714</td>\n      <td>22.914762</td>\n      <td>0.435238</td>\n      <td>0.000000</td>\n      <td>162.970436</td>\n      <td>6.175238</td>\n      <td>24.290952</td>\n      <td>1014.395952</td>\n      <td>NaN</td>\n      <td>1995.000000</td>\n    </tr>\n    <tr>\n      <th>5</th>\n      <td>18.140092</td>\n      <td>14.094009</td>\n      <td>23.281106</td>\n      <td>0.298157</td>\n      <td>0.000000</td>\n      <td>165.337185</td>\n      <td>5.993548</td>\n      <td>23.080645</td>\n      <td>1013.609793</td>\n      <td>NaN</td>\n      <td>1995.000000</td>\n    </tr>\n    <tr>\n      <th>...</th>\n      <th>...</th>\n      <td>...</td>\n      <td>...</td>\n      <td>...</td>\n      <td>...</td>\n      <td>...</td>\n      <td>...</td>\n      <td>...</td>\n      <td>...</td>\n      <td>...</td>\n      <td>...</td>\n      <td>...</td>\n    </tr>\n    <tr>\n      <th rowspan=\"5\" valign=\"top\">U9ANI</th>\n      <th>8</th>\n      <td>NaN</td>\n      <td>15.763668</td>\n      <td>30.289594</td>\n      <td>0.504762</td>\n      <td>0.000000</td>\n      <td>NaN</td>\n      <td>NaN</td>\n      <td>NaN</td>\n      <td>NaN</td>\n      <td>NaN</td>\n      <td>2004.523810</td>\n    </tr>\n    <tr>\n      <th>9</th>\n      <td>NaN</td>\n      <td>12.920751</td>\n      <td>27.821825</td>\n      <td>0.352057</td>\n      <td>0.000000</td>\n      <td>NaN</td>\n      <td>NaN</td>\n      <td>NaN</td>\n      <td>NaN</td>\n      <td>NaN</td>\n      <td>2004.622540</td>\n    </tr>\n    <tr>\n      <th>10</th>\n      <td>NaN</td>\n      <td>8.534192</td>\n      <td>21.767140</td>\n      <td>1.518117</td>\n      <td>0.000000</td>\n      <td>NaN</td>\n      <td>NaN</td>\n      <td>NaN</td>\n      <td>NaN</td>\n      <td>NaN</td>\n      <td>2004.550622</td>\n    </tr>\n    <tr>\n      <th>11</th>\n      <td>NaN</td>\n      <td>5.236287</td>\n      <td>16.012500</td>\n      <td>2.172295</td>\n      <td>0.046642</td>\n      <td>NaN</td>\n      <td>NaN</td>\n      <td>NaN</td>\n      <td>NaN</td>\n      <td>NaN</td>\n      <td>2004.927239</td>\n    </tr>\n    <tr>\n      <th>12</th>\n      <td>NaN</td>\n      <td>2.254766</td>\n      <td>11.559712</td>\n      <td>3.357464</td>\n      <td>6.771583</td>\n      <td>NaN</td>\n      <td>NaN</td>\n      <td>NaN</td>\n      <td>NaN</td>\n      <td>NaN</td>\n      <td>2004.973022</td>\n    </tr>\n  </tbody>\n</table>\n<p>24304 rows × 11 columns</p>\n</div>"
     },
     "execution_count": 17,
     "metadata": {},
     "output_type": "execute_result"
    }
   ],
   "source": [
    "agg_df = met_data.groupby(['station_id', 'month']).mean()\n",
    "\n",
    "agg_df"
   ],
   "metadata": {
    "collapsed": false,
    "pycharm": {
     "name": "#%%\n"
    }
   }
  },
  {
   "cell_type": "code",
   "execution_count": 20,
   "outputs": [],
   "source": [
    "for col_name in cols_lst:\n",
    "    sub_df = met_data.loc[met_data[col_name].isna(), ['station_id', 'month', col_name]]\n",
    "\n",
    "    if len(sub_df) == 0:\n",
    "        continue\n",
    "\n",
    "    sub_df[col_name] = list(zip(sub_df.station_id, sub_df.month))\n",
    "    sub_df[col_name] = sub_df[col_name].apply(lambda x: agg_df.loc[x, col_name])\n",
    "\n",
    "    met_data.loc[sub_df.index, col_name] = sub_df.loc[:, col_name]"
   ],
   "metadata": {
    "collapsed": false,
    "pycharm": {
     "name": "#%%\n"
    }
   }
  },
  {
   "cell_type": "code",
   "execution_count": 26,
   "outputs": [
    {
     "data": {
      "text/plain": "                      tavg       tmin       tmax      prcp       snow  \\\nstation_id year                                                         \n69014      1992  18.967486  14.245902  24.869945  1.616120   0.000000   \n           1993  18.302466  13.644110  24.106027  1.750411   0.000000   \n           1994  17.806986  13.131507  23.860822  0.807945   0.000000   \n           1995  17.065479  12.495890  22.837260  1.829315   0.000000   \n           1996  17.526230  12.996721  23.097541  1.118306   0.000000   \n...                    ...        ...        ...       ...        ...   \nU9ANI      2011        NaN   8.489315  18.913699  1.593699  13.150685   \n           2012        NaN   9.605738  20.486339  1.253552   8.658470   \n           2013        NaN   9.247945  19.858082  1.118630   1.252055   \n           2014        NaN  10.507397  21.314521  1.167671  10.038356   \n           2015        NaN   9.765479  20.287671  1.666301   1.112329   \n\n                       wdir      wspd       wpgt         pres  tsun     month  \nstation_id year                                                                \n69014      1992  114.937497  6.423224  27.762295  1013.633743   NaN  6.513661  \n           1993  168.647945  6.037534  24.495890  1013.822466   NaN  6.526027  \n           1994  154.771233  5.286301  19.940548  1015.368904   NaN  6.526027  \n           1995  200.157534  4.784384  19.142740  1014.736849   NaN  6.526027  \n           1996  186.900273  5.054645  16.881148  1015.125137   NaN  6.513661  \n...                     ...       ...        ...          ...   ...       ...  \nU9ANI      2011         NaN       NaN        NaN          NaN   NaN  6.526027  \n           2012         NaN       NaN        NaN          NaN   NaN  6.513661  \n           2013         NaN       NaN        NaN          NaN   NaN  6.526027  \n           2014         NaN       NaN        NaN          NaN   NaN  6.526027  \n           2015         NaN       NaN        NaN          NaN   NaN  6.526027  \n\n[25993 rows x 11 columns]",
      "text/html": "<div>\n<style scoped>\n    .dataframe tbody tr th:only-of-type {\n        vertical-align: middle;\n    }\n\n    .dataframe tbody tr th {\n        vertical-align: top;\n    }\n\n    .dataframe thead th {\n        text-align: right;\n    }\n</style>\n<table border=\"1\" class=\"dataframe\">\n  <thead>\n    <tr style=\"text-align: right;\">\n      <th></th>\n      <th></th>\n      <th>tavg</th>\n      <th>tmin</th>\n      <th>tmax</th>\n      <th>prcp</th>\n      <th>snow</th>\n      <th>wdir</th>\n      <th>wspd</th>\n      <th>wpgt</th>\n      <th>pres</th>\n      <th>tsun</th>\n      <th>month</th>\n    </tr>\n    <tr>\n      <th>station_id</th>\n      <th>year</th>\n      <th></th>\n      <th></th>\n      <th></th>\n      <th></th>\n      <th></th>\n      <th></th>\n      <th></th>\n      <th></th>\n      <th></th>\n      <th></th>\n      <th></th>\n    </tr>\n  </thead>\n  <tbody>\n    <tr>\n      <th rowspan=\"5\" valign=\"top\">69014</th>\n      <th>1992</th>\n      <td>18.967486</td>\n      <td>14.245902</td>\n      <td>24.869945</td>\n      <td>1.616120</td>\n      <td>0.000000</td>\n      <td>114.937497</td>\n      <td>6.423224</td>\n      <td>27.762295</td>\n      <td>1013.633743</td>\n      <td>NaN</td>\n      <td>6.513661</td>\n    </tr>\n    <tr>\n      <th>1993</th>\n      <td>18.302466</td>\n      <td>13.644110</td>\n      <td>24.106027</td>\n      <td>1.750411</td>\n      <td>0.000000</td>\n      <td>168.647945</td>\n      <td>6.037534</td>\n      <td>24.495890</td>\n      <td>1013.822466</td>\n      <td>NaN</td>\n      <td>6.526027</td>\n    </tr>\n    <tr>\n      <th>1994</th>\n      <td>17.806986</td>\n      <td>13.131507</td>\n      <td>23.860822</td>\n      <td>0.807945</td>\n      <td>0.000000</td>\n      <td>154.771233</td>\n      <td>5.286301</td>\n      <td>19.940548</td>\n      <td>1015.368904</td>\n      <td>NaN</td>\n      <td>6.526027</td>\n    </tr>\n    <tr>\n      <th>1995</th>\n      <td>17.065479</td>\n      <td>12.495890</td>\n      <td>22.837260</td>\n      <td>1.829315</td>\n      <td>0.000000</td>\n      <td>200.157534</td>\n      <td>4.784384</td>\n      <td>19.142740</td>\n      <td>1014.736849</td>\n      <td>NaN</td>\n      <td>6.526027</td>\n    </tr>\n    <tr>\n      <th>1996</th>\n      <td>17.526230</td>\n      <td>12.996721</td>\n      <td>23.097541</td>\n      <td>1.118306</td>\n      <td>0.000000</td>\n      <td>186.900273</td>\n      <td>5.054645</td>\n      <td>16.881148</td>\n      <td>1015.125137</td>\n      <td>NaN</td>\n      <td>6.513661</td>\n    </tr>\n    <tr>\n      <th>...</th>\n      <th>...</th>\n      <td>...</td>\n      <td>...</td>\n      <td>...</td>\n      <td>...</td>\n      <td>...</td>\n      <td>...</td>\n      <td>...</td>\n      <td>...</td>\n      <td>...</td>\n      <td>...</td>\n      <td>...</td>\n    </tr>\n    <tr>\n      <th rowspan=\"5\" valign=\"top\">U9ANI</th>\n      <th>2011</th>\n      <td>NaN</td>\n      <td>8.489315</td>\n      <td>18.913699</td>\n      <td>1.593699</td>\n      <td>13.150685</td>\n      <td>NaN</td>\n      <td>NaN</td>\n      <td>NaN</td>\n      <td>NaN</td>\n      <td>NaN</td>\n      <td>6.526027</td>\n    </tr>\n    <tr>\n      <th>2012</th>\n      <td>NaN</td>\n      <td>9.605738</td>\n      <td>20.486339</td>\n      <td>1.253552</td>\n      <td>8.658470</td>\n      <td>NaN</td>\n      <td>NaN</td>\n      <td>NaN</td>\n      <td>NaN</td>\n      <td>NaN</td>\n      <td>6.513661</td>\n    </tr>\n    <tr>\n      <th>2013</th>\n      <td>NaN</td>\n      <td>9.247945</td>\n      <td>19.858082</td>\n      <td>1.118630</td>\n      <td>1.252055</td>\n      <td>NaN</td>\n      <td>NaN</td>\n      <td>NaN</td>\n      <td>NaN</td>\n      <td>NaN</td>\n      <td>6.526027</td>\n    </tr>\n    <tr>\n      <th>2014</th>\n      <td>NaN</td>\n      <td>10.507397</td>\n      <td>21.314521</td>\n      <td>1.167671</td>\n      <td>10.038356</td>\n      <td>NaN</td>\n      <td>NaN</td>\n      <td>NaN</td>\n      <td>NaN</td>\n      <td>NaN</td>\n      <td>6.526027</td>\n    </tr>\n    <tr>\n      <th>2015</th>\n      <td>NaN</td>\n      <td>9.765479</td>\n      <td>20.287671</td>\n      <td>1.666301</td>\n      <td>1.112329</td>\n      <td>NaN</td>\n      <td>NaN</td>\n      <td>NaN</td>\n      <td>NaN</td>\n      <td>NaN</td>\n      <td>6.526027</td>\n    </tr>\n  </tbody>\n</table>\n<p>25993 rows × 11 columns</p>\n</div>"
     },
     "execution_count": 26,
     "metadata": {},
     "output_type": "execute_result"
    }
   ],
   "source": [
    "agg_df = met_data.groupby(['station_id', 'year']).mean()\n",
    "\n",
    "agg_df"
   ],
   "metadata": {
    "collapsed": false,
    "pycharm": {
     "name": "#%%\n"
    }
   }
  },
  {
   "cell_type": "code",
   "execution_count": 27,
   "outputs": [
    {
     "name": "stdout",
     "output_type": "stream",
     "text": [
      "imputed column tavg\n",
      "imputed column tmin\n",
      "imputed column tmax\n",
      "imputed column prcp\n",
      "imputed column snow\n",
      "imputed column wdir\n",
      "imputed column wspd\n",
      "imputed column wpgt\n"
     ]
    }
   ],
   "source": [
    "for col_name in cols_lst:\n",
    "    sub_df = met_data.loc[met_data[col_name].isna(), ['station_id', 'year', col_name]]\n",
    "\n",
    "    if len(sub_df) == 0:\n",
    "        continue\n",
    "\n",
    "    sub_df[col_name] = list(zip(sub_df.station_id, sub_df.year))\n",
    "    sub_df[col_name] = sub_df[col_name].apply(lambda x: agg_df.loc[x, col_name])\n",
    "\n",
    "    met_data.loc[sub_df.index, col_name] = sub_df.loc[:, col_name]\n",
    "\n",
    "    print(f\"imputed column {col_name}\")"
   ],
   "metadata": {
    "collapsed": false,
    "pycharm": {
     "name": "#%%\n"
    }
   }
  },
  {
   "cell_type": "code",
   "execution_count": 30,
   "outputs": [
    {
     "data": {
      "text/plain": "              time  tavg  tmin  tmax  prcp  snow        wdir  wspd  wpgt  \\\n0       1992-01-01  14.0   6.7  20.6   0.0   0.0  101.665140   4.7  18.4   \n1       1992-01-02  16.9  12.2  25.0   0.0   0.0  101.665140   5.4  25.9   \n2       1992-01-03  13.7  11.1  15.6   6.9   0.0  101.665140   4.3  20.5   \n3       1992-01-04  14.8  11.1  19.4   0.0   0.0  101.665140   2.2  13.0   \n4       1992-01-05  12.6  10.0  15.0  30.7   0.0  101.665140  12.2  53.6   \n...            ...   ...   ...   ...   ...   ...         ...   ...   ...   \n7687432 2015-12-27  21.3  17.8  26.7  22.4   0.0  195.857143   8.6  25.9   \n7687433 2015-12-28  22.3  20.0  28.9  20.8   0.0  194.000000   9.4  25.9   \n7687434 2015-12-29  22.4  17.8  28.3   0.0   0.0  194.000000   6.5  25.9   \n7687435 2015-12-30  22.6  18.9  27.8   0.0   0.0  194.000000  13.7  25.9   \n7687436 2015-12-31  23.2  17.8  28.3   0.5   0.0  194.000000   7.9  25.9   \n\n                pres   tsun station_id  month  year  \n0        1017.600000    NaN      69014      1  1992  \n1        1013.200000    NaN      69014      1  1992  \n2        1012.550000    NaN      69014      1  1992  \n3        1011.900000    NaN      69014      1  1992  \n4        1007.700000    NaN      69014      1  1992  \n...              ...    ...        ...    ...   ...  \n7687432  1014.263636  429.0      91285     12  2015  \n7687433  1013.800000  429.0      91285     12  2015  \n7687434  1012.000000  429.0      91285     12  2015  \n7687435  1014.800000  429.0      91285     12  2015  \n7687436  1017.000000  429.0      91285     12  2015  \n\n[2107866 rows x 14 columns]",
      "text/html": "<div>\n<style scoped>\n    .dataframe tbody tr th:only-of-type {\n        vertical-align: middle;\n    }\n\n    .dataframe tbody tr th {\n        vertical-align: top;\n    }\n\n    .dataframe thead th {\n        text-align: right;\n    }\n</style>\n<table border=\"1\" class=\"dataframe\">\n  <thead>\n    <tr style=\"text-align: right;\">\n      <th></th>\n      <th>time</th>\n      <th>tavg</th>\n      <th>tmin</th>\n      <th>tmax</th>\n      <th>prcp</th>\n      <th>snow</th>\n      <th>wdir</th>\n      <th>wspd</th>\n      <th>wpgt</th>\n      <th>pres</th>\n      <th>tsun</th>\n      <th>station_id</th>\n      <th>month</th>\n      <th>year</th>\n    </tr>\n  </thead>\n  <tbody>\n    <tr>\n      <th>0</th>\n      <td>1992-01-01</td>\n      <td>14.0</td>\n      <td>6.7</td>\n      <td>20.6</td>\n      <td>0.0</td>\n      <td>0.0</td>\n      <td>101.665140</td>\n      <td>4.7</td>\n      <td>18.4</td>\n      <td>1017.600000</td>\n      <td>NaN</td>\n      <td>69014</td>\n      <td>1</td>\n      <td>1992</td>\n    </tr>\n    <tr>\n      <th>1</th>\n      <td>1992-01-02</td>\n      <td>16.9</td>\n      <td>12.2</td>\n      <td>25.0</td>\n      <td>0.0</td>\n      <td>0.0</td>\n      <td>101.665140</td>\n      <td>5.4</td>\n      <td>25.9</td>\n      <td>1013.200000</td>\n      <td>NaN</td>\n      <td>69014</td>\n      <td>1</td>\n      <td>1992</td>\n    </tr>\n    <tr>\n      <th>2</th>\n      <td>1992-01-03</td>\n      <td>13.7</td>\n      <td>11.1</td>\n      <td>15.6</td>\n      <td>6.9</td>\n      <td>0.0</td>\n      <td>101.665140</td>\n      <td>4.3</td>\n      <td>20.5</td>\n      <td>1012.550000</td>\n      <td>NaN</td>\n      <td>69014</td>\n      <td>1</td>\n      <td>1992</td>\n    </tr>\n    <tr>\n      <th>3</th>\n      <td>1992-01-04</td>\n      <td>14.8</td>\n      <td>11.1</td>\n      <td>19.4</td>\n      <td>0.0</td>\n      <td>0.0</td>\n      <td>101.665140</td>\n      <td>2.2</td>\n      <td>13.0</td>\n      <td>1011.900000</td>\n      <td>NaN</td>\n      <td>69014</td>\n      <td>1</td>\n      <td>1992</td>\n    </tr>\n    <tr>\n      <th>4</th>\n      <td>1992-01-05</td>\n      <td>12.6</td>\n      <td>10.0</td>\n      <td>15.0</td>\n      <td>30.7</td>\n      <td>0.0</td>\n      <td>101.665140</td>\n      <td>12.2</td>\n      <td>53.6</td>\n      <td>1007.700000</td>\n      <td>NaN</td>\n      <td>69014</td>\n      <td>1</td>\n      <td>1992</td>\n    </tr>\n    <tr>\n      <th>...</th>\n      <td>...</td>\n      <td>...</td>\n      <td>...</td>\n      <td>...</td>\n      <td>...</td>\n      <td>...</td>\n      <td>...</td>\n      <td>...</td>\n      <td>...</td>\n      <td>...</td>\n      <td>...</td>\n      <td>...</td>\n      <td>...</td>\n      <td>...</td>\n    </tr>\n    <tr>\n      <th>7687432</th>\n      <td>2015-12-27</td>\n      <td>21.3</td>\n      <td>17.8</td>\n      <td>26.7</td>\n      <td>22.4</td>\n      <td>0.0</td>\n      <td>195.857143</td>\n      <td>8.6</td>\n      <td>25.9</td>\n      <td>1014.263636</td>\n      <td>429.0</td>\n      <td>91285</td>\n      <td>12</td>\n      <td>2015</td>\n    </tr>\n    <tr>\n      <th>7687433</th>\n      <td>2015-12-28</td>\n      <td>22.3</td>\n      <td>20.0</td>\n      <td>28.9</td>\n      <td>20.8</td>\n      <td>0.0</td>\n      <td>194.000000</td>\n      <td>9.4</td>\n      <td>25.9</td>\n      <td>1013.800000</td>\n      <td>429.0</td>\n      <td>91285</td>\n      <td>12</td>\n      <td>2015</td>\n    </tr>\n    <tr>\n      <th>7687434</th>\n      <td>2015-12-29</td>\n      <td>22.4</td>\n      <td>17.8</td>\n      <td>28.3</td>\n      <td>0.0</td>\n      <td>0.0</td>\n      <td>194.000000</td>\n      <td>6.5</td>\n      <td>25.9</td>\n      <td>1012.000000</td>\n      <td>429.0</td>\n      <td>91285</td>\n      <td>12</td>\n      <td>2015</td>\n    </tr>\n    <tr>\n      <th>7687435</th>\n      <td>2015-12-30</td>\n      <td>22.6</td>\n      <td>18.9</td>\n      <td>27.8</td>\n      <td>0.0</td>\n      <td>0.0</td>\n      <td>194.000000</td>\n      <td>13.7</td>\n      <td>25.9</td>\n      <td>1014.800000</td>\n      <td>429.0</td>\n      <td>91285</td>\n      <td>12</td>\n      <td>2015</td>\n    </tr>\n    <tr>\n      <th>7687436</th>\n      <td>2015-12-31</td>\n      <td>23.2</td>\n      <td>17.8</td>\n      <td>28.3</td>\n      <td>0.5</td>\n      <td>0.0</td>\n      <td>194.000000</td>\n      <td>7.9</td>\n      <td>25.9</td>\n      <td>1017.000000</td>\n      <td>429.0</td>\n      <td>91285</td>\n      <td>12</td>\n      <td>2015</td>\n    </tr>\n  </tbody>\n</table>\n<p>2107866 rows × 14 columns</p>\n</div>"
     },
     "execution_count": 30,
     "metadata": {},
     "output_type": "execute_result"
    }
   ],
   "source": [
    "new_met_data = met_data.dropna(subset=cols_lst)\n",
    "\n",
    "new_met_data"
   ],
   "metadata": {
    "collapsed": false,
    "pycharm": {
     "name": "#%%\n"
    }
   }
  },
  {
   "cell_type": "code",
   "execution_count": 35,
   "outputs": [
    {
     "data": {
      "text/plain": "                                     name country region    wmo  icao  \\\nid                                                                      \n69014                              Irvine      US     CA  69014  KNZJ   \n69015  Twentynine Palms / Sunfair Heights      US     CA  69015  KNXP   \n69023         Whidbey Island / Ault Field      US     WA  69023  KNUW   \n70026        Post Rogers Memorial Airport      US     AK  70026  PABR   \n70133               Wien Memorial Airport      US     AK  70133  PAOT   \n...                                   ...     ...    ...    ...   ...   \n91176             Mcbh Kaneohe Bay Hawaii      US     HI  91176  PHNG   \n91182      Honolulu International Airport      US     HI  91182  PHNL   \n91190                     Kahului Airport      US     HI  91190  PHOG   \n91212   Agana, Guam International Airport      US   <NA>  91212  PGUM   \n91285          Hilo International Airport      US     HI  91285  PHTO   \n\n       latitude  longitude  elevation             timezone hourly_start  \\\nid                                                                        \n69014   33.6667  -117.7167      119.0  America/Los_Angeles   1989-01-01   \n69015   34.2962  -116.1622      625.0  America/Los_Angeles   1990-01-02   \n69023   48.3518  -122.6560       14.0  America/Los_Angeles   2005-01-01   \n70026   71.2833  -156.7667       13.0       America/Juneau   1945-01-01   \n70133   66.8833  -162.6000        3.0         America/Nome   1973-01-01   \n...         ...        ...        ...                  ...          ...   \n91176   21.4500  -157.7500        7.0     Pacific/Honolulu   1973-01-01   \n91182   21.3333  -157.9500        4.0     Pacific/Honolulu   1939-06-01   \n91190   20.9000  -156.4333       16.0     Pacific/Honolulu   1973-01-01   \n91212   13.4833   144.8000       91.0         Pacific/Guam   1973-01-01   \n91285   19.7167  -155.0500       12.0     Pacific/Honolulu   1973-01-01   \n\n      hourly_end daily_start  daily_end monthly_start monthly_end  \\\nid                                                                  \n69014 1999-06-06  1945-03-01 1998-12-10    1945-01-01  1998-01-01   \n69015 2023-02-21  1945-05-01 2022-04-24    1945-01-01  2021-01-01   \n69023 2023-02-20  1945-04-01 2022-04-24    1945-01-01  2022-01-01   \n70026 2023-02-21  1901-09-01 2023-02-16    1901-01-01  2022-01-01   \n70133 2023-02-21  1897-09-12 2023-02-16    1897-01-01  2022-01-01   \n...          ...         ...        ...           ...         ...   \n91176 2023-02-21  1942-01-01 2023-02-12    1942-01-01  2022-01-01   \n91182 2023-02-21  1939-06-01 2023-02-14    1939-01-01  2022-01-01   \n91190 2023-02-21  1905-01-01 2023-02-12    1905-01-01  2022-01-01   \n91212 2023-02-21  1957-03-01 2023-02-13    1957-01-01  2022-01-01   \n91285 2023-02-21  1949-10-01 2023-02-12    1949-01-01  2022-01-01   \n\n       latitude_radians  longitude_radians  \nid                                          \n69014          0.587595          -2.054544  \n69015          0.598582          -2.027413  \n69023          0.843898          -2.140751  \n70026          1.244128          -2.736095  \n70133          1.167334          -2.837905  \n...                 ...                ...  \n91176          0.374373          -2.753257  \n91182          0.372336          -2.756748  \n91190          0.364774          -2.730276  \n91212          0.235328           2.527237  \n91285          0.344121          -2.706133  \n\n[246 rows x 17 columns]",
      "text/html": "<div>\n<style scoped>\n    .dataframe tbody tr th:only-of-type {\n        vertical-align: middle;\n    }\n\n    .dataframe tbody tr th {\n        vertical-align: top;\n    }\n\n    .dataframe thead th {\n        text-align: right;\n    }\n</style>\n<table border=\"1\" class=\"dataframe\">\n  <thead>\n    <tr style=\"text-align: right;\">\n      <th></th>\n      <th>name</th>\n      <th>country</th>\n      <th>region</th>\n      <th>wmo</th>\n      <th>icao</th>\n      <th>latitude</th>\n      <th>longitude</th>\n      <th>elevation</th>\n      <th>timezone</th>\n      <th>hourly_start</th>\n      <th>hourly_end</th>\n      <th>daily_start</th>\n      <th>daily_end</th>\n      <th>monthly_start</th>\n      <th>monthly_end</th>\n      <th>latitude_radians</th>\n      <th>longitude_radians</th>\n    </tr>\n    <tr>\n      <th>id</th>\n      <th></th>\n      <th></th>\n      <th></th>\n      <th></th>\n      <th></th>\n      <th></th>\n      <th></th>\n      <th></th>\n      <th></th>\n      <th></th>\n      <th></th>\n      <th></th>\n      <th></th>\n      <th></th>\n      <th></th>\n      <th></th>\n      <th></th>\n    </tr>\n  </thead>\n  <tbody>\n    <tr>\n      <th>69014</th>\n      <td>Irvine</td>\n      <td>US</td>\n      <td>CA</td>\n      <td>69014</td>\n      <td>KNZJ</td>\n      <td>33.6667</td>\n      <td>-117.7167</td>\n      <td>119.0</td>\n      <td>America/Los_Angeles</td>\n      <td>1989-01-01</td>\n      <td>1999-06-06</td>\n      <td>1945-03-01</td>\n      <td>1998-12-10</td>\n      <td>1945-01-01</td>\n      <td>1998-01-01</td>\n      <td>0.587595</td>\n      <td>-2.054544</td>\n    </tr>\n    <tr>\n      <th>69015</th>\n      <td>Twentynine Palms / Sunfair Heights</td>\n      <td>US</td>\n      <td>CA</td>\n      <td>69015</td>\n      <td>KNXP</td>\n      <td>34.2962</td>\n      <td>-116.1622</td>\n      <td>625.0</td>\n      <td>America/Los_Angeles</td>\n      <td>1990-01-02</td>\n      <td>2023-02-21</td>\n      <td>1945-05-01</td>\n      <td>2022-04-24</td>\n      <td>1945-01-01</td>\n      <td>2021-01-01</td>\n      <td>0.598582</td>\n      <td>-2.027413</td>\n    </tr>\n    <tr>\n      <th>69023</th>\n      <td>Whidbey Island / Ault Field</td>\n      <td>US</td>\n      <td>WA</td>\n      <td>69023</td>\n      <td>KNUW</td>\n      <td>48.3518</td>\n      <td>-122.6560</td>\n      <td>14.0</td>\n      <td>America/Los_Angeles</td>\n      <td>2005-01-01</td>\n      <td>2023-02-20</td>\n      <td>1945-04-01</td>\n      <td>2022-04-24</td>\n      <td>1945-01-01</td>\n      <td>2022-01-01</td>\n      <td>0.843898</td>\n      <td>-2.140751</td>\n    </tr>\n    <tr>\n      <th>70026</th>\n      <td>Post Rogers Memorial Airport</td>\n      <td>US</td>\n      <td>AK</td>\n      <td>70026</td>\n      <td>PABR</td>\n      <td>71.2833</td>\n      <td>-156.7667</td>\n      <td>13.0</td>\n      <td>America/Juneau</td>\n      <td>1945-01-01</td>\n      <td>2023-02-21</td>\n      <td>1901-09-01</td>\n      <td>2023-02-16</td>\n      <td>1901-01-01</td>\n      <td>2022-01-01</td>\n      <td>1.244128</td>\n      <td>-2.736095</td>\n    </tr>\n    <tr>\n      <th>70133</th>\n      <td>Wien Memorial Airport</td>\n      <td>US</td>\n      <td>AK</td>\n      <td>70133</td>\n      <td>PAOT</td>\n      <td>66.8833</td>\n      <td>-162.6000</td>\n      <td>3.0</td>\n      <td>America/Nome</td>\n      <td>1973-01-01</td>\n      <td>2023-02-21</td>\n      <td>1897-09-12</td>\n      <td>2023-02-16</td>\n      <td>1897-01-01</td>\n      <td>2022-01-01</td>\n      <td>1.167334</td>\n      <td>-2.837905</td>\n    </tr>\n    <tr>\n      <th>...</th>\n      <td>...</td>\n      <td>...</td>\n      <td>...</td>\n      <td>...</td>\n      <td>...</td>\n      <td>...</td>\n      <td>...</td>\n      <td>...</td>\n      <td>...</td>\n      <td>...</td>\n      <td>...</td>\n      <td>...</td>\n      <td>...</td>\n      <td>...</td>\n      <td>...</td>\n      <td>...</td>\n      <td>...</td>\n    </tr>\n    <tr>\n      <th>91176</th>\n      <td>Mcbh Kaneohe Bay Hawaii</td>\n      <td>US</td>\n      <td>HI</td>\n      <td>91176</td>\n      <td>PHNG</td>\n      <td>21.4500</td>\n      <td>-157.7500</td>\n      <td>7.0</td>\n      <td>Pacific/Honolulu</td>\n      <td>1973-01-01</td>\n      <td>2023-02-21</td>\n      <td>1942-01-01</td>\n      <td>2023-02-12</td>\n      <td>1942-01-01</td>\n      <td>2022-01-01</td>\n      <td>0.374373</td>\n      <td>-2.753257</td>\n    </tr>\n    <tr>\n      <th>91182</th>\n      <td>Honolulu International Airport</td>\n      <td>US</td>\n      <td>HI</td>\n      <td>91182</td>\n      <td>PHNL</td>\n      <td>21.3333</td>\n      <td>-157.9500</td>\n      <td>4.0</td>\n      <td>Pacific/Honolulu</td>\n      <td>1939-06-01</td>\n      <td>2023-02-21</td>\n      <td>1939-06-01</td>\n      <td>2023-02-14</td>\n      <td>1939-01-01</td>\n      <td>2022-01-01</td>\n      <td>0.372336</td>\n      <td>-2.756748</td>\n    </tr>\n    <tr>\n      <th>91190</th>\n      <td>Kahului Airport</td>\n      <td>US</td>\n      <td>HI</td>\n      <td>91190</td>\n      <td>PHOG</td>\n      <td>20.9000</td>\n      <td>-156.4333</td>\n      <td>16.0</td>\n      <td>Pacific/Honolulu</td>\n      <td>1973-01-01</td>\n      <td>2023-02-21</td>\n      <td>1905-01-01</td>\n      <td>2023-02-12</td>\n      <td>1905-01-01</td>\n      <td>2022-01-01</td>\n      <td>0.364774</td>\n      <td>-2.730276</td>\n    </tr>\n    <tr>\n      <th>91212</th>\n      <td>Agana, Guam International Airport</td>\n      <td>US</td>\n      <td>&lt;NA&gt;</td>\n      <td>91212</td>\n      <td>PGUM</td>\n      <td>13.4833</td>\n      <td>144.8000</td>\n      <td>91.0</td>\n      <td>Pacific/Guam</td>\n      <td>1973-01-01</td>\n      <td>2023-02-21</td>\n      <td>1957-03-01</td>\n      <td>2023-02-13</td>\n      <td>1957-01-01</td>\n      <td>2022-01-01</td>\n      <td>0.235328</td>\n      <td>2.527237</td>\n    </tr>\n    <tr>\n      <th>91285</th>\n      <td>Hilo International Airport</td>\n      <td>US</td>\n      <td>HI</td>\n      <td>91285</td>\n      <td>PHTO</td>\n      <td>19.7167</td>\n      <td>-155.0500</td>\n      <td>12.0</td>\n      <td>Pacific/Honolulu</td>\n      <td>1973-01-01</td>\n      <td>2023-02-21</td>\n      <td>1949-10-01</td>\n      <td>2023-02-12</td>\n      <td>1949-01-01</td>\n      <td>2022-01-01</td>\n      <td>0.344121</td>\n      <td>-2.706133</td>\n    </tr>\n  </tbody>\n</table>\n<p>246 rows × 17 columns</p>\n</div>"
     },
     "execution_count": 35,
     "metadata": {},
     "output_type": "execute_result"
    }
   ],
   "source": [
    "new_stations_df = stations_df.loc[new_met_data['station_id'].unique(), :]\n",
    "\n",
    "new_stations_df"
   ],
   "metadata": {
    "collapsed": false,
    "pycharm": {
     "name": "#%%\n"
    }
   }
  }
 ],
 "metadata": {
  "kernelspec": {
   "display_name": "Python 3",
   "language": "python",
   "name": "python3"
  },
  "language_info": {
   "codemirror_mode": {
    "name": "ipython",
    "version": 2
   },
   "file_extension": ".py",
   "mimetype": "text/x-python",
   "name": "python",
   "nbconvert_exporter": "python",
   "pygments_lexer": "ipython2",
   "version": "2.7.6"
  }
 },
 "nbformat": 4,
 "nbformat_minor": 0
}